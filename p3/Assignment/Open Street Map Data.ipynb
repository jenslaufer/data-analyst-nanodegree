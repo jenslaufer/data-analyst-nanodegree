{
 "cells": [
  {
   "cell_type": "markdown",
   "metadata": {},
   "source": [
    "# Udacity Data Analyst Project 3:  Wrangling Open Street Data"
   ]
  },
  {
   "cell_type": "markdown",
   "metadata": {},
   "source": [
    "_ by Jens Laufer _\n",
    "\n",
    "_ jenslaufer@gmail.com _\n"
   ]
  },
  {
   "cell_type": "markdown",
   "metadata": {},
   "source": [
    "## Introduction\n",
    "\n",
    "In this project I am importing XML Data from OpenStreetMap, auditing and wrangling this data and export it to MongoDB. Afterwards I am doing an analysis on the imported data.\n",
    "\n",
    "I selected the area of Ostfriesland in north eastern Germany, which is close to the north sea. Although I am not from there, I am interested in the area as I want to extend my Airbnb hosting business and the area looks promising to me, as it is touristic and property prices are low. I got these insights about the area from google search data and data from the german realestate website [Immobilienscout24](http://immobilienscout24.de), but this is not part of the assigment. I am especially interesting in all data related to lodging. \n",
    "\n",
    "![](img/map.png)"
   ]
  },
  {
   "cell_type": "markdown",
   "metadata": {},
   "source": [
    "I moved the code from the case study from the Udacity Data Analyst nanodegree course to a module called osm.py, which I am using within the scope of this assignment. I added some additional functions there e.g for auditing the contact data."
   ]
  },
  {
   "cell_type": "code",
   "execution_count": 1,
   "metadata": {
    "collapsed": false
   },
   "outputs": [],
   "source": [
    "# python imports\n",
    "import pandas as pd\n",
    "import numpy as np\n",
    "from collections import defaultdict\n",
    "import pprint\n",
    "import re\n",
    "import codecs\n",
    "import json\n",
    "import os\n",
    "import file_size_humanize as humanize\n",
    "import os.path as path\n",
    "import time\n",
    "from pprint import pprint\n",
    "import pymongo as mongo\n",
    "# this is the import of the code from the case study\n",
    "import osm"
   ]
  },
  {
   "cell_type": "code",
   "execution_count": 2,
   "metadata": {
    "collapsed": false
   },
   "outputs": [],
   "source": [
    "\"\"\"\n",
    "definition of constants which I am using in this notebook \n",
    "\"\"\"\n",
    "\n",
    "FORCE_IMPORT = False\n",
    "\n",
    "OSM_URL = \"http://overpass-api.de/api/map?bbox=6.6309,53.4302,7.8291,53.8227\"\n",
    "OSM_FILE = \"ostfriesland.osm\" \n",
    "OSM_EXPORT_FILE = \"{0}.json\".format(OSM_FILE)\n",
    "\n",
    "MONGO_URL = 'mongodb://localhost:27017/'"
   ]
  },
  {
   "cell_type": "markdown",
   "metadata": {},
   "source": [
    "## Download of the dataset"
   ]
  },
  {
   "cell_type": "code",
   "execution_count": 3,
   "metadata": {
    "collapsed": false
   },
   "outputs": [],
   "source": [
    "\"\"\"\n",
    "I stream the osm data with the overpass url for the box I want to use into a local file in case the file does not already exist\n",
    "\"\"\"\n",
    "from urllib2 import urlopen\n",
    "\n",
    "if not path.exists(OSM_FILE):\n",
    "    response = urlopen(OSM_URL)\n",
    "    CHUNK = 16 * 1024\n",
    "    with open(OSM_FILE, 'wb') as f:\n",
    "        while True:\n",
    "            chunk = response.read(CHUNK)\n",
    "            if not chunk:\n",
    "                break\n",
    "            f.write(chunk)"
   ]
  },
  {
   "cell_type": "markdown",
   "metadata": {},
   "source": [
    "## Auditing of the data"
   ]
  },
  {
   "cell_type": "markdown",
   "metadata": {},
   "source": [
    "#### Auditing contact data\n",
    "\n",
    "I am auditing the contact data. Therefore I created a audit_contact_data in the osm module, which checks email address and URLs against regular expressions. For the phonenumber I am using a port of [Google's libphonenumber for python](https://github.com/daviddrysdale/python-phonenumbers) to test for phonenumber validity."
   ]
  },
  {
   "cell_type": "code",
   "execution_count": 4,
   "metadata": {
    "collapsed": false,
    "scrolled": false
   },
   "outputs": [
    {
     "name": "stdout",
     "output_type": "stream",
     "text": [
      "Error parsing 0800 283 50000: (0) Missing or invalid default region.\n",
      "Error parsing 01622 11 90 66: (0) Missing or invalid default region.\n",
      "Error parsing 0173 - 292 21 90: (0) Missing or invalid default region.\n"
     ]
    }
   ],
   "source": [
    "invalid_phone, invalid_email, invalid_url = osm.audit_contact_data(OSM_FILE)"
   ]
  },
  {
   "cell_type": "code",
   "execution_count": 5,
   "metadata": {
    "collapsed": false
   },
   "outputs": [
    {
     "data": {
      "text/plain": [
       "['0800 283 50000', '01622 11 90 66', '0173 - 292 21 90']"
      ]
     },
     "execution_count": 5,
     "metadata": {},
     "output_type": "execute_result"
    }
   ],
   "source": [
    "invalid_phone"
   ]
  },
  {
   "cell_type": "code",
   "execution_count": 6,
   "metadata": {
    "collapsed": false
   },
   "outputs": [
    {
     "data": {
      "text/plain": [
       "[]"
      ]
     },
     "execution_count": 6,
     "metadata": {},
     "output_type": "execute_result"
    }
   ],
   "source": [
    "invalid_email"
   ]
  },
  {
   "cell_type": "code",
   "execution_count": 7,
   "metadata": {
    "collapsed": false
   },
   "outputs": [
    {
     "data": {
      "text/plain": [
       "['www.silvis-bungalow.de',\n",
       " 'www.haus-thomas.de',\n",
       " 'www.tuedelpott.de',\n",
       " 'www.hotel-cafecaro.de',\n",
       " 'www.hotel-westfalenhof.de']"
      ]
     },
     "execution_count": 7,
     "metadata": {},
     "output_type": "execute_result"
    }
   ],
   "source": [
    "invalid_url"
   ]
  },
  {
   "cell_type": "markdown",
   "metadata": {},
   "source": [
    "I need to fix this problematic data, before exporting the data to MongoDB."
   ]
  },
  {
   "cell_type": "markdown",
   "metadata": {},
   "source": [
    "## Export of OSM to JSON and Import to MongoDB"
   ]
  },
  {
   "cell_type": "markdown",
   "metadata": {},
   "source": [
    "I am extracting the data I am interested to, fixing the problematic data entries and export it to JSON for the MongoDB import."
   ]
  },
  {
   "cell_type": "code",
   "execution_count": 8,
   "metadata": {
    "collapsed": false,
    "scrolled": false
   },
   "outputs": [
    {
     "data": {
      "text/plain": [
       "0.0"
      ]
     },
     "execution_count": 8,
     "metadata": {},
     "output_type": "execute_result"
    }
   ],
   "source": [
    "start = time.time()\n",
    "\n",
    "if FORCE_IMPORT:\n",
    "    osm.process(OSM_FILE,OSM_EXPORT_FILE);\n",
    "    \n",
    "time.time() - start"
   ]
  },
  {
   "cell_type": "markdown",
   "metadata": {},
   "source": [
    "I am adding an index on the 'id' field to improve speed on the upserts"
   ]
  },
  {
   "cell_type": "code",
   "execution_count": 9,
   "metadata": {
    "collapsed": false
   },
   "outputs": [],
   "source": [
    "nodes = mongo.MongoClient(MONGO_URL).osm.nodes\n",
    "nodes.create_index([(\"id\", mongo.ASCENDING)]);\n"
   ]
  },
  {
   "cell_type": "code",
   "execution_count": 10,
   "metadata": {
    "collapsed": false
   },
   "outputs": [
    {
     "data": {
      "text/plain": [
       "0.0"
      ]
     },
     "execution_count": 10,
     "metadata": {},
     "output_type": "execute_result"
    }
   ],
   "source": [
    "start = time.time()\n",
    "\n",
    "if FORCE_IMPORT:\n",
    "    os.system('mongoimport --quiet --upsertFields id --db osm --collection nodes --file {0}'.format(OSM_EXPORT_FILE));\n",
    "    \n",
    "time.time() - start"
   ]
  },
  {
   "cell_type": "markdown",
   "metadata": {},
   "source": [
    "#### Addition of some indexes"
   ]
  },
  {
   "cell_type": "code",
   "execution_count": 88,
   "metadata": {
    "collapsed": false
   },
   "outputs": [],
   "source": [
    "nodes.create_index([(\"type\", mongo.ASCENDING)])\n",
    "nodes.create_index([(\"address.city\", mongo.ASCENDING)])\n",
    "nodes.create_index([(\"pos\", mongo.GEOSPHERE)]);"
   ]
  },
  {
   "cell_type": "markdown",
   "metadata": {},
   "source": [
    "## Analysis of the data"
   ]
  },
  {
   "cell_type": "markdown",
   "metadata": {},
   "source": [
    "#### Tags in OSM file"
   ]
  },
  {
   "cell_type": "code",
   "execution_count": 12,
   "metadata": {
    "collapsed": false
   },
   "outputs": [
    {
     "name": "stdout",
     "output_type": "stream",
     "text": [
      "{'bounds': 1,\n",
      " 'member': 48150,\n",
      " 'meta': 1,\n",
      " 'nd': 878995,\n",
      " 'node': 724983,\n",
      " 'note': 1,\n",
      " 'osm': 1,\n",
      " 'relation': 877,\n",
      " 'tag': 346155,\n",
      " 'way': 103280}\n"
     ]
    }
   ],
   "source": [
    "pprint(osm.count_tags(OSM_FILE))"
   ]
  },
  {
   "cell_type": "markdown",
   "metadata": {},
   "source": [
    "#### File sizes"
   ]
  },
  {
   "cell_type": "code",
   "execution_count": 13,
   "metadata": {
    "collapsed": false
   },
   "outputs": [
    {
     "data": {
      "text/plain": [
       "'Filesize of ostfriesland.osm 155.29 MB'"
      ]
     },
     "execution_count": 13,
     "metadata": {},
     "output_type": "execute_result"
    }
   ],
   "source": [
    "# File size of the full osm file\n",
    "info = os.stat(OSM_FILE)\n",
    "\"Filesize of {0} {1}\".format(OSM_FILE, humanize.humansize(info.st_size))"
   ]
  },
  {
   "cell_type": "code",
   "execution_count": 14,
   "metadata": {
    "collapsed": false
   },
   "outputs": [
    {
     "data": {
      "text/plain": [
       "'Filesize of ostfriesland.osm.json 156.26 MB'"
      ]
     },
     "execution_count": 14,
     "metadata": {},
     "output_type": "execute_result"
    }
   ],
   "source": [
    "# File size of the full osm file\n",
    "info = os.stat(OSM_EXPORT_FILE)\n",
    "\"Filesize of {0} {1}\".format(OSM_EXPORT_FILE, humanize.humansize(info.st_size))"
   ]
  },
  {
   "cell_type": "markdown",
   "metadata": {},
   "source": [
    "#### Number of documents in database"
   ]
  },
  {
   "cell_type": "code",
   "execution_count": 15,
   "metadata": {
    "collapsed": false
   },
   "outputs": [
    {
     "data": {
      "text/plain": [
       "'828259 Documents in MongoDB'"
      ]
     },
     "execution_count": 15,
     "metadata": {},
     "output_type": "execute_result"
    }
   ],
   "source": [
    "\"{} Documents in MongoDB\".format(nodes.find().count())"
   ]
  },
  {
   "cell_type": "markdown",
   "metadata": {},
   "source": [
    "#### Example document in MongoDB"
   ]
  },
  {
   "cell_type": "code",
   "execution_count": 16,
   "metadata": {
    "collapsed": false
   },
   "outputs": [
    {
     "name": "stdout",
     "output_type": "stream",
     "text": [
      "{u'_id': ObjectId('58ac61eedd946dd35d3761c6'),\n",
      " u'address': {u'city': u'Aurich',\n",
      "              u'country': u'DE',\n",
      "              u'housenumber': u'40',\n",
      "              u'postcode': u'26607',\n",
      "              u'street': u'Dornumer Stra\\xdfe'},\n",
      " u'contact': {u'email': u'info@antik-alteschmiede.de',\n",
      "              u'fax': u'+49 4941 71025',\n",
      "              u'phone': u'+49 4941 7915',\n",
      "              u'website': u'http://www.antik-alteschmiede.de'},\n",
      " u'created': {u'changeset': u'39414176',\n",
      "              u'timestamp': u'2016-05-19T02:00:25Z',\n",
      "              u'uid': u'52533',\n",
      "              u'user': u'imehl',\n",
      "              u'version': u'1'},\n",
      " u'id': u'4194453896',\n",
      " u'name': u'Antik \"Alte Schmiede\"',\n",
      " u'pos': [53.5078165, 7.4807148],\n",
      " u'type': u'node'}\n"
     ]
    }
   ],
   "source": [
    "pprint(nodes.find_one({ \"contact.phone\": { '$exists': 1 }, \"contact.fax\": { '$exists': 1 }, \n",
    "            \"contact.website\": { '$exists': 1 }, \"address.street\": { '$exists': 1 }, \n",
    "            \"address.city\": { '$exists': 1 } }))"
   ]
  },
  {
   "cell_type": "markdown",
   "metadata": {},
   "source": [
    "#### Document types"
   ]
  },
  {
   "cell_type": "code",
   "execution_count": 17,
   "metadata": {
    "collapsed": false
   },
   "outputs": [
    {
     "data": {
      "text/html": [
       "<div>\n",
       "<table border=\"1\" class=\"dataframe\">\n",
       "  <thead>\n",
       "    <tr style=\"text-align: right;\">\n",
       "      <th></th>\n",
       "      <th>_id</th>\n",
       "      <th>count</th>\n",
       "    </tr>\n",
       "  </thead>\n",
       "  <tbody>\n",
       "    <tr>\n",
       "      <th>0</th>\n",
       "      <td>way</td>\n",
       "      <td>103280</td>\n",
       "    </tr>\n",
       "    <tr>\n",
       "      <th>1</th>\n",
       "      <td>node</td>\n",
       "      <td>724979</td>\n",
       "    </tr>\n",
       "  </tbody>\n",
       "</table>\n",
       "</div>"
      ],
      "text/plain": [
       "    _id   count\n",
       "0   way  103280\n",
       "1  node  724979"
      ]
     },
     "execution_count": 17,
     "metadata": {},
     "output_type": "execute_result"
    }
   ],
   "source": [
    "pd.DataFrame(list(nodes.aggregate([\n",
    "        {'$group':{'_id':'$type','count':{'$sum':1}}}\n",
    "    ])))"
   ]
  },
  {
   "cell_type": "markdown",
   "metadata": {},
   "source": [
    "#### Documents with contact data"
   ]
  },
  {
   "cell_type": "code",
   "execution_count": 18,
   "metadata": {
    "collapsed": false
   },
   "outputs": [
    {
     "data": {
      "text/plain": [
       "'267 Documents with contact in MongoDB'"
      ]
     },
     "execution_count": 18,
     "metadata": {},
     "output_type": "execute_result"
    }
   ],
   "source": [
    "\"{} Documents with contact in MongoDB\".format(nodes.find({'contact':{'$exists':1}}).count())"
   ]
  },
  {
   "cell_type": "markdown",
   "metadata": {},
   "source": [
    "#### Documents with address data"
   ]
  },
  {
   "cell_type": "code",
   "execution_count": 19,
   "metadata": {
    "collapsed": false
   },
   "outputs": [
    {
     "data": {
      "text/plain": [
       "'22542 Documents with address in MongoDB'"
      ]
     },
     "execution_count": 19,
     "metadata": {},
     "output_type": "execute_result"
    }
   ],
   "source": [
    "\"{} Documents with address in MongoDB\".format(nodes.find({'address':{'$exists':1}}).count())"
   ]
  },
  {
   "cell_type": "markdown",
   "metadata": {},
   "source": [
    "#### Test Fixing of problematic data"
   ]
  },
  {
   "cell_type": "markdown",
   "metadata": {},
   "source": [
    "I am checking if my code for importing data fixed the problematic phone numbers and URLs."
   ]
  },
  {
   "cell_type": "code",
   "execution_count": 20,
   "metadata": {
    "collapsed": false
   },
   "outputs": [
    {
     "data": {
      "text/plain": [
       "0"
      ]
     },
     "execution_count": 20,
     "metadata": {},
     "output_type": "execute_result"
    }
   ],
   "source": [
    "nodes.find({'contact.phone':{'$in':invalid_phone}}).count()"
   ]
  },
  {
   "cell_type": "code",
   "execution_count": 21,
   "metadata": {
    "collapsed": false
   },
   "outputs": [
    {
     "data": {
      "text/plain": [
       "3"
      ]
     },
     "execution_count": 21,
     "metadata": {},
     "output_type": "execute_result"
    }
   ],
   "source": [
    "nodes.find({'contact.phone':{'$in':['+49 800 28350000', '+49 162 2119066', '+49 173 2922190']}}).count()"
   ]
  },
  {
   "cell_type": "code",
   "execution_count": 22,
   "metadata": {
    "collapsed": false
   },
   "outputs": [
    {
     "data": {
      "text/plain": [
       "0"
      ]
     },
     "execution_count": 22,
     "metadata": {},
     "output_type": "execute_result"
    }
   ],
   "source": [
    "nodes.find({'contact.website':{'$in':invalid_url}}).count()"
   ]
  },
  {
   "cell_type": "code",
   "execution_count": 23,
   "metadata": {
    "collapsed": false
   },
   "outputs": [
    {
     "data": {
      "text/plain": [
       "5"
      ]
     },
     "execution_count": 23,
     "metadata": {},
     "output_type": "execute_result"
    }
   ],
   "source": [
    "nodes.find({'contact.website':{'$in':\n",
    "['http://www.silvis-bungalow.de',\n",
    " 'http://www.haus-thomas.de',\n",
    " 'http://www.tuedelpott.de',\n",
    " 'http://www.hotel-cafecaro.de',\n",
    " 'http://www.hotel-westfalenhof.de']}}).count()"
   ]
  },
  {
   "cell_type": "markdown",
   "metadata": {},
   "source": [
    "All problematic contact data was fixed correctly."
   ]
  },
  {
   "cell_type": "markdown",
   "metadata": {},
   "source": [
    "#### Analysis of lodging data"
   ]
  },
  {
   "cell_type": "markdown",
   "metadata": {},
   "source": [
    "What type of touristic data is there?"
   ]
  },
  {
   "cell_type": "code",
   "execution_count": 111,
   "metadata": {
    "collapsed": false
   },
   "outputs": [
    {
     "data": {
      "text/html": [
       "<div>\n",
       "<table border=\"1\" class=\"dataframe\">\n",
       "  <thead>\n",
       "    <tr style=\"text-align: right;\">\n",
       "      <th></th>\n",
       "      <th>_id</th>\n",
       "      <th>count</th>\n",
       "    </tr>\n",
       "  </thead>\n",
       "  <tbody>\n",
       "    <tr>\n",
       "      <th>0</th>\n",
       "      <td>hotel</td>\n",
       "      <td>217</td>\n",
       "    </tr>\n",
       "    <tr>\n",
       "      <th>1</th>\n",
       "      <td>information</td>\n",
       "      <td>189</td>\n",
       "    </tr>\n",
       "    <tr>\n",
       "      <th>2</th>\n",
       "      <td>apartment</td>\n",
       "      <td>148</td>\n",
       "    </tr>\n",
       "    <tr>\n",
       "      <th>3</th>\n",
       "      <td>attraction</td>\n",
       "      <td>102</td>\n",
       "    </tr>\n",
       "    <tr>\n",
       "      <th>4</th>\n",
       "      <td>guest_house</td>\n",
       "      <td>87</td>\n",
       "    </tr>\n",
       "    <tr>\n",
       "      <th>5</th>\n",
       "      <td>chalet</td>\n",
       "      <td>75</td>\n",
       "    </tr>\n",
       "    <tr>\n",
       "      <th>6</th>\n",
       "      <td>viewpoint</td>\n",
       "      <td>75</td>\n",
       "    </tr>\n",
       "    <tr>\n",
       "      <th>7</th>\n",
       "      <td>museum</td>\n",
       "      <td>45</td>\n",
       "    </tr>\n",
       "    <tr>\n",
       "      <th>8</th>\n",
       "      <td>artwork</td>\n",
       "      <td>42</td>\n",
       "    </tr>\n",
       "    <tr>\n",
       "      <th>9</th>\n",
       "      <td>camp_site</td>\n",
       "      <td>29</td>\n",
       "    </tr>\n",
       "    <tr>\n",
       "      <th>10</th>\n",
       "      <td>picnic_site</td>\n",
       "      <td>28</td>\n",
       "    </tr>\n",
       "    <tr>\n",
       "      <th>11</th>\n",
       "      <td>hostel</td>\n",
       "      <td>27</td>\n",
       "    </tr>\n",
       "    <tr>\n",
       "      <th>12</th>\n",
       "      <td>yes</td>\n",
       "      <td>24</td>\n",
       "    </tr>\n",
       "    <tr>\n",
       "      <th>13</th>\n",
       "      <td>caravan_site</td>\n",
       "      <td>18</td>\n",
       "    </tr>\n",
       "    <tr>\n",
       "      <th>14</th>\n",
       "      <td>theme_park</td>\n",
       "      <td>4</td>\n",
       "    </tr>\n",
       "    <tr>\n",
       "      <th>15</th>\n",
       "      <td>DJH Borkum</td>\n",
       "      <td>4</td>\n",
       "    </tr>\n",
       "    <tr>\n",
       "      <th>16</th>\n",
       "      <td>zoo</td>\n",
       "      <td>3</td>\n",
       "    </tr>\n",
       "    <tr>\n",
       "      <th>17</th>\n",
       "      <td>gallery</td>\n",
       "      <td>3</td>\n",
       "    </tr>\n",
       "    <tr>\n",
       "      <th>18</th>\n",
       "      <td>trail_riding_station</td>\n",
       "      <td>2</td>\n",
       "    </tr>\n",
       "    <tr>\n",
       "      <th>19</th>\n",
       "      <td>motel</td>\n",
       "      <td>1</td>\n",
       "    </tr>\n",
       "    <tr>\n",
       "      <th>20</th>\n",
       "      <td>riding</td>\n",
       "      <td>1</td>\n",
       "    </tr>\n",
       "    <tr>\n",
       "      <th>21</th>\n",
       "      <td>aquarium</td>\n",
       "      <td>1</td>\n",
       "    </tr>\n",
       "    <tr>\n",
       "      <th>22</th>\n",
       "      <td>Strandkorbvermietung</td>\n",
       "      <td>1</td>\n",
       "    </tr>\n",
       "  </tbody>\n",
       "</table>\n",
       "</div>"
      ],
      "text/plain": [
       "                     _id  count\n",
       "0                  hotel    217\n",
       "1            information    189\n",
       "2              apartment    148\n",
       "3             attraction    102\n",
       "4            guest_house     87\n",
       "5                 chalet     75\n",
       "6              viewpoint     75\n",
       "7                 museum     45\n",
       "8                artwork     42\n",
       "9              camp_site     29\n",
       "10           picnic_site     28\n",
       "11                hostel     27\n",
       "12                   yes     24\n",
       "13          caravan_site     18\n",
       "14            theme_park      4\n",
       "15            DJH Borkum      4\n",
       "16                   zoo      3\n",
       "17               gallery      3\n",
       "18  trail_riding_station      2\n",
       "19                 motel      1\n",
       "20                riding      1\n",
       "21              aquarium      1\n",
       "22  Strandkorbvermietung      1"
      ]
     },
     "execution_count": 111,
     "metadata": {},
     "output_type": "execute_result"
    }
   ],
   "source": [
    "pd.DataFrame(list(nodes.aggregate([\n",
    "    {'$match': {'tourism': {'$exists': 1}}},\n",
    "    {'$group': {'_id': '$tourism', 'count': {'$sum': 1}}},\n",
    "    {'$sort': {'count': -1}}\n",
    "])))"
   ]
  },
  {
   "cell_type": "markdown",
   "metadata": {},
   "source": [
    "I am interested in the number of lodging facilities in the area:"
   ]
  },
  {
   "cell_type": "code",
   "execution_count": 114,
   "metadata": {
    "collapsed": false
   },
   "outputs": [
    {
     "data": {
      "text/html": [
       "<div>\n",
       "<table border=\"1\" class=\"dataframe\">\n",
       "  <thead>\n",
       "    <tr style=\"text-align: right;\">\n",
       "      <th></th>\n",
       "      <th>_id</th>\n",
       "      <th>count</th>\n",
       "    </tr>\n",
       "  </thead>\n",
       "  <tbody>\n",
       "    <tr>\n",
       "      <th>0</th>\n",
       "      <td>hotel</td>\n",
       "      <td>217</td>\n",
       "    </tr>\n",
       "    <tr>\n",
       "      <th>1</th>\n",
       "      <td>apartment</td>\n",
       "      <td>148</td>\n",
       "    </tr>\n",
       "    <tr>\n",
       "      <th>2</th>\n",
       "      <td>guest_house</td>\n",
       "      <td>87</td>\n",
       "    </tr>\n",
       "    <tr>\n",
       "      <th>3</th>\n",
       "      <td>chalet</td>\n",
       "      <td>75</td>\n",
       "    </tr>\n",
       "    <tr>\n",
       "      <th>4</th>\n",
       "      <td>hostel</td>\n",
       "      <td>27</td>\n",
       "    </tr>\n",
       "    <tr>\n",
       "      <th>5</th>\n",
       "      <td>motel</td>\n",
       "      <td>1</td>\n",
       "    </tr>\n",
       "  </tbody>\n",
       "</table>\n",
       "</div>"
      ],
      "text/plain": [
       "           _id  count\n",
       "0        hotel    217\n",
       "1    apartment    148\n",
       "2  guest_house     87\n",
       "3       chalet     75\n",
       "4       hostel     27\n",
       "5        motel      1"
      ]
     },
     "execution_count": 114,
     "metadata": {},
     "output_type": "execute_result"
    }
   ],
   "source": [
    "pd.DataFrame(list(nodes.aggregate([\n",
    "    {'$match': {'tourism': {'$in': ['bed_and_breakfast', 'motel',\n",
    "                                    'apartment', 'hostel', 'guest_house', 'chalet', 'hotel']}}},\n",
    "    {'$group': {'_id': '$tourism', 'count': {'$sum': 1}}},\n",
    "    {'$sort': {'count': -1}}\n",
    "])))"
   ]
  },
  {
   "cell_type": "markdown",
   "metadata": {},
   "source": [
    "There seems quiet a number of lodging facilities in the area. It would be interesting to compare these numbers with other areas to get an idea if these numbers are really high."
   ]
  },
  {
   "cell_type": "markdown",
   "metadata": {},
   "source": [
    "I am interested in buying a property in the village of Dornum, therefore I am interested how many lodging facilities there are:"
   ]
  },
  {
   "cell_type": "code",
   "execution_count": 129,
   "metadata": {
    "collapsed": false
   },
   "outputs": [
    {
     "data": {
      "text/html": [
       "<div>\n",
       "<table border=\"1\" class=\"dataframe\">\n",
       "  <thead>\n",
       "    <tr style=\"text-align: right;\">\n",
       "      <th></th>\n",
       "      <th>_id</th>\n",
       "      <th>amenity</th>\n",
       "      <th>created</th>\n",
       "      <th>dist</th>\n",
       "      <th>id</th>\n",
       "      <th>name</th>\n",
       "      <th>pos</th>\n",
       "      <th>tourism</th>\n",
       "      <th>type</th>\n",
       "    </tr>\n",
       "  </thead>\n",
       "  <tbody>\n",
       "    <tr>\n",
       "      <th>0</th>\n",
       "      <td>58ac61c7dd946dd35d32b823</td>\n",
       "      <td>NaN</td>\n",
       "      <td>{u'changeset': u'22128404', u'version': u'1', ...</td>\n",
       "      <td>196.249016</td>\n",
       "      <td>2836156560</td>\n",
       "      <td>Beningaburg</td>\n",
       "      <td>[53.6475113, 7.4296996]</td>\n",
       "      <td>hotel</td>\n",
       "      <td>node</td>\n",
       "    </tr>\n",
       "    <tr>\n",
       "      <th>1</th>\n",
       "      <td>58ac617fdd946dd35d2ac6b8</td>\n",
       "      <td>restaurant</td>\n",
       "      <td>{u'changeset': u'11413650', u'version': u'2', ...</td>\n",
       "      <td>201.714203</td>\n",
       "      <td>1729255586</td>\n",
       "      <td>Dornumer Wappen</td>\n",
       "      <td>[53.6474635, 7.4313939]</td>\n",
       "      <td>hotel</td>\n",
       "      <td>node</td>\n",
       "    </tr>\n",
       "  </tbody>\n",
       "</table>\n",
       "</div>"
      ],
      "text/plain": [
       "                        _id     amenity  \\\n",
       "0  58ac61c7dd946dd35d32b823         NaN   \n",
       "1  58ac617fdd946dd35d2ac6b8  restaurant   \n",
       "\n",
       "                                             created        dist          id  \\\n",
       "0  {u'changeset': u'22128404', u'version': u'1', ...  196.249016  2836156560   \n",
       "1  {u'changeset': u'11413650', u'version': u'2', ...  201.714203  1729255586   \n",
       "\n",
       "              name                      pos tourism  type  \n",
       "0      Beningaburg  [53.6475113, 7.4296996]   hotel  node  \n",
       "1  Dornumer Wappen  [53.6474635, 7.4313939]   hotel  node  "
      ]
     },
     "execution_count": 129,
     "metadata": {},
     "output_type": "execute_result"
    }
   ],
   "source": [
    "\n",
    "pd.DataFrame(list(nodes.aggregate(\n",
    "    [\n",
    "        {\n",
    "            '$geoNear':\n",
    "            {\n",
    "                'near':\n",
    "                {\n",
    "                    'type': 'Point',\n",
    "                            'coordinates': [53.645903, 7.430451]\n",
    "                },\n",
    "                'spherical': True,\n",
    "                'query': {\n",
    "                    'tourism': {'$in': ['bed_and_breakfast', 'motel', 'apartment', 'hostel', 'guest_house', 'chalet', 'hotel']}},\n",
    "                'maxDistance': 1500,\n",
    "                'distanceField':'dist',\n",
    "            },\n",
    "        }\n",
    "    ])))"
   ]
  },
  {
   "cell_type": "markdown",
   "metadata": {},
   "source": [
    "Let's check, if there are also holiday apartments on Airbnb in Dornum. I am using data I scraped from Airbnb for that:"
   ]
  },
  {
   "cell_type": "code",
   "execution_count": 143,
   "metadata": {
    "collapsed": false
   },
   "outputs": [
    {
     "data": {
      "text/html": [
       "<div>\n",
       "<table border=\"1\" class=\"dataframe\">\n",
       "  <thead>\n",
       "    <tr style=\"text-align: right;\">\n",
       "      <th></th>\n",
       "      <th>name</th>\n",
       "      <th>public_address</th>\n",
       "      <th>dist</th>\n",
       "      <th>loc</th>\n",
       "    </tr>\n",
       "  </thead>\n",
       "  <tbody>\n",
       "    <tr>\n",
       "      <th>0</th>\n",
       "      <td>Nordwind</td>\n",
       "      <td>Dornum, Niedersachsen 26553, Deutschland</td>\n",
       "      <td>159.949776</td>\n",
       "      <td>[53.6448285599, 7.42948691797]</td>\n",
       "    </tr>\n",
       "    <tr>\n",
       "      <th>1</th>\n",
       "      <td>Komfortables Ferienhaus am Schloss</td>\n",
       "      <td>Dornum, Niedersachsen 26553, Deutschland</td>\n",
       "      <td>252.444474</td>\n",
       "      <td>[53.6465594788, 7.42827867901]</td>\n",
       "    </tr>\n",
       "    <tr>\n",
       "      <th>2</th>\n",
       "      <td>Ferienwohnung in Strandnähe</td>\n",
       "      <td>Dornum, Niedersachsen 26553, Deutschland</td>\n",
       "      <td>1403.769869</td>\n",
       "      <td>[53.6526944151, 7.44111262056]</td>\n",
       "    </tr>\n",
       "  </tbody>\n",
       "</table>\n",
       "</div>"
      ],
      "text/plain": [
       "                                 name  \\\n",
       "0                            Nordwind   \n",
       "1  Komfortables Ferienhaus am Schloss   \n",
       "2         Ferienwohnung in Strandnähe   \n",
       "\n",
       "                             public_address         dist  \\\n",
       "0  Dornum, Niedersachsen 26553, Deutschland   159.949776   \n",
       "1  Dornum, Niedersachsen 26553, Deutschland   252.444474   \n",
       "2  Dornum, Niedersachsen 26553, Deutschland  1403.769869   \n",
       "\n",
       "                              loc  \n",
       "0  [53.6448285599, 7.42948691797]  \n",
       "1  [53.6465594788, 7.42827867901]  \n",
       "2  [53.6526944151, 7.44111262056]  "
      ]
     },
     "execution_count": 143,
     "metadata": {},
     "output_type": "execute_result"
    }
   ],
   "source": [
    "\n",
    "listings = mongo.MongoClient(MONGO_URL).airbnb.listings\n",
    "\n",
    "pd.DataFrame(list(listings.aggregate([ \n",
    "                {\n",
    "                    '$geoNear':\n",
    "                    {\n",
    "                        'near':\n",
    "                        {\n",
    "                            'type': 'Point',\n",
    "                            'coordinates':[53.645903, 7.430451]\n",
    "                        },\n",
    "                        'spherical': True,\n",
    "                        'query': {},\n",
    "                        'maxDistance' : 1500,\n",
    "                        'distanceField':'dist',\n",
    "                    },\n",
    "                }\n",
    "    ])))[['name', 'public_address', 'dist', 'loc']]"
   ]
  },
  {
   "cell_type": "markdown",
   "metadata": {},
   "source": [
    "How many nights of these holiday apartments are booked out the next months and what is the average price per night:"
   ]
  },
  {
   "cell_type": "code",
   "execution_count": 144,
   "metadata": {
    "collapsed": false
   },
   "outputs": [
    {
     "data": {
      "text/html": [
       "<div>\n",
       "<table border=\"1\" class=\"dataframe\">\n",
       "  <thead>\n",
       "    <tr style=\"text-align: right;\">\n",
       "      <th></th>\n",
       "      <th>_id</th>\n",
       "      <th>available</th>\n",
       "      <th>avg_price_per_night</th>\n",
       "      <th>booking_ratio</th>\n",
       "      <th>est_gross_income</th>\n",
       "      <th>not_available</th>\n",
       "    </tr>\n",
       "  </thead>\n",
       "  <tbody>\n",
       "    <tr>\n",
       "      <th>0</th>\n",
       "      <td>ChIJv-CkJghttkcRnQ1q6JTWFAw</td>\n",
       "      <td>258</td>\n",
       "      <td>95.333333</td>\n",
       "      <td>0.544974</td>\n",
       "      <td>18963.262787</td>\n",
       "      <td>309</td>\n",
       "    </tr>\n",
       "  </tbody>\n",
       "</table>\n",
       "</div>"
      ],
      "text/plain": [
       "                           _id  available  avg_price_per_night  booking_ratio  \\\n",
       "0  ChIJv-CkJghttkcRnQ1q6JTWFAw        258            95.333333       0.544974   \n",
       "\n",
       "   est_gross_income  not_available  \n",
       "0      18963.262787            309  "
      ]
     },
     "execution_count": 144,
     "metadata": {},
     "output_type": "execute_result"
    }
   ],
   "source": [
    "\n",
    "pd.DataFrame(list(dates.aggregate([\n",
    "    {\n",
    "        '$geoNear':\n",
    "        {\n",
    "            'near':\n",
    "            {\n",
    "                'type': 'Point',\n",
    "                'coordinates': [53.645903, 7.430451]\n",
    "            },\n",
    "            'spherical': True,\n",
    "            'query': {},\n",
    "            'maxDistance': 1500,\n",
    "            'distanceField': 'dist',\n",
    "            'limit': 1000000\n",
    "        },\n",
    "    },\n",
    "    {\n",
    "        '$group':\n",
    "        {\n",
    "            '_id': '$place_id',\n",
    "            \"total\": {'$sum': 1},\n",
    "            \"dist\": {'$first': '$dist'},\n",
    "            \"avg_price_per_night\": {'$avg': '$price.native_price'},\n",
    "            \"available\":\n",
    "            {\n",
    "                \"$sum\": {\"$cond\": [\"$available\", 1, 0]}\n",
    "            },\n",
    "            \"not_available\":\n",
    "            {\n",
    "                \"$sum\": {\"$cond\": [\"$available\", 0, 1]}\n",
    "            }\n",
    "        }\n",
    "    },\n",
    "    {'$project':\n",
    "     {\n",
    "         '_id': '$_id',\n",
    "         'avg_price_per_night': '$avg_price_per_night',\n",
    "         'available': '$available',\n",
    "         'not_available': '$not_available',\n",
    "         'booking_ratio': {'$divide': ['$not_available', '$total']},\n",
    "         'est_gross_income': {'$multiply': [365, '$avg_price_per_night', {'$divide': ['$not_available', '$total']}]},\n",
    "     }}\n",
    "])))\n",
    "\n"
   ]
  },
  {
   "cell_type": "markdown",
   "metadata": {},
   "source": [
    "### Conclusion"
   ]
  },
  {
   "cell_type": "markdown",
   "metadata": {},
   "source": [
    "My investment in the apartment seems quiet promising, as it's price is about €50.000 and my estimation for the gross income renting it out as holiday flat, based on average Dormum booking ratio and average price per night is about €19.000 per year.\n",
    "\n",
    "It is also quiet interesting that none of the holiday apartments is on Open Street Map, this fact might be a marketing opportunity, as I could place a node there and link it to my apartment on Airbnb."
   ]
  },
  {
   "cell_type": "markdown",
   "metadata": {},
   "source": [
    "## Additional problems in the data"
   ]
  },
  {
   "cell_type": "markdown",
   "metadata": {},
   "source": [
    "  - Cross field consistecy Postcode ork for Street and City. \n",
    "  - Have address always a housenumber in case ther is a street\n",
    "  - Handlingof P.O. boxes\n",
    "  - E-Mail address still valid\n",
    "  - Website still available\n",
    "  - Street names\n",
    "  - City names\n",
    "  - Phone number: In case we don't have the country how to get international format?"
   ]
  },
  {
   "cell_type": "code",
   "execution_count": null,
   "metadata": {
    "collapsed": true
   },
   "outputs": [],
   "source": []
  }
 ],
 "metadata": {
  "anaconda-cloud": {},
  "celltoolbar": "Raw Cell Format",
  "kernelspec": {
   "display_name": "Python [Root]",
   "language": "python",
   "name": "Python [Root]"
  },
  "language_info": {
   "codemirror_mode": {
    "name": "ipython",
    "version": 2
   },
   "file_extension": ".py",
   "mimetype": "text/x-python",
   "name": "python",
   "nbconvert_exporter": "python",
   "pygments_lexer": "ipython2",
   "version": "2.7.13"
  }
 },
 "nbformat": 4,
 "nbformat_minor": 0
}
