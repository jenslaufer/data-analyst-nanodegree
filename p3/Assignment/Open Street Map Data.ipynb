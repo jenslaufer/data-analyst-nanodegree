{
 "cells": [
  {
   "cell_type": "markdown",
   "metadata": {},
   "source": [
    "# Udacity Data Analyst Project 3:  Wrangling Open Street Data"
   ]
  },
  {
   "cell_type": "markdown",
   "metadata": {},
   "source": [
    "_ by Jens Laufer _\n",
    "\n",
    "_ jenslaufer@gmail.com _\n"
   ]
  },
  {
   "cell_type": "markdown",
   "metadata": {},
   "source": [
    "## Introduction\n",
    "\n",
    "In this project I am importing XML Data from OpenStreetMap, auditing and wrangling this data and export it to MongoDB. Afterwards I am doing some analysis on the imported data.\n",
    "\n",
    "I selected the area of Ostfriesland in north eastern Germany, which is close to the north sea. Although I am not from there, I am interested in the area as I want to extend my Airbnb hosting business and the area looks promising to me, as it is touristic and property prices are low. I got the insights about the area from google search data and data from the german realestate website [Immobilienscout24](http://immobilienscout24.de), but this is not part of the assigment. I am especially interesting in all data related to lodging. \n",
    "\n",
    "![](img/map.png)"
   ]
  },
  {
   "cell_type": "markdown",
   "metadata": {},
   "source": [
    "I moved the code from the case study from the Udacity Data Analyst nanodegree course to a module called osm.py, which I am using within the scope of this assignment."
   ]
  },
  {
   "cell_type": "code",
   "execution_count": 1,
   "metadata": {
    "collapsed": false
   },
   "outputs": [],
   "source": [
    "# python imports\n",
    "from collections import defaultdict\n",
    "import pprint\n",
    "import re\n",
    "import codecs\n",
    "import json\n",
    "import os\n",
    "import file_size_humanize as humanize\n",
    "import os.path as path\n",
    "import time\n",
    "from pprint import pprint\n",
    "import pymongo as mongo\n",
    "# this is the import of the code from the case study\n",
    "import osm\n",
    "#import of extractor with code provided from udacity \n",
    "import extractor"
   ]
  },
  {
   "cell_type": "code",
   "execution_count": 2,
   "metadata": {
    "collapsed": false
   },
   "outputs": [],
   "source": [
    "\"\"\"\n",
    "definition of constants which I am using in this notebook \n",
    "\"\"\"\n",
    "\n",
    "DO_IMPORT = False\n",
    "\n",
    "OSM_URL = \"http://overpass-api.de/api/map?bbox=6.6309,53.4302,7.8291,53.8227\"\n",
    "OSM_FILE = \"ostfriesland.osm\" \n",
    "OSM_EXTRACT_FILE = \"{0}_extract.osm\".format(OSM_FILE[:OSM_FILE.find('.osm')])\n",
    "\n",
    "OSM_EXPORT_FILE = \"{0}.json\".format(OSM_FILE)\n",
    "\n",
    "MONGO_URL = 'mongodb://localhost:27017/'"
   ]
  },
  {
   "cell_type": "markdown",
   "metadata": {},
   "source": [
    "## Download of the dataset"
   ]
  },
  {
   "cell_type": "code",
   "execution_count": null,
   "metadata": {
    "collapsed": false
   },
   "outputs": [],
   "source": [
    "\"\"\"\n",
    "I stream the osm data with the overpass url for the box I want to use into a local file in case the file does not already exist\n",
    "\"\"\"\n",
    "from urllib2 import urlopen\n",
    "\n",
    "if not path.exists(OSM_FILE):\n",
    "    response = urlopen(OSM_URL)\n",
    "    CHUNK = 16 * 1024\n",
    "    with open(OSM_FILE, 'wb') as f:\n",
    "        while True:\n",
    "            chunk = response.read(CHUNK)\n",
    "            if not chunk:\n",
    "                break\n",
    "            f.write(chunk)"
   ]
  },
  {
   "cell_type": "markdown",
   "metadata": {},
   "source": [
    "## Auditing of the data"
   ]
  },
  {
   "cell_type": "markdown",
   "metadata": {},
   "source": [
    "#### Auditing contact data\n",
    "\n",
    "I auditing the contact data. Therefore I created a audit_contact_data in the osm module, which checks email address and URLs against a regular expression. For the phonenumber I am using a port of [Google's libphonenumber for python](https://github.com/daviddrysdale/python-phonenumbers) to test for phonenumber validity."
   ]
  },
  {
   "cell_type": "code",
   "execution_count": null,
   "metadata": {
    "collapsed": false,
    "scrolled": false
   },
   "outputs": [
    {
     "name": "stdout",
     "output_type": "stream",
     "text": [
      "Error parsing 0800 283 50000: (0) Missing or invalid default region.\n"
     ]
    }
   ],
   "source": [
    "invalid_phone, invalid_email, invalid_url = osm.audit_contact_data(OSM_FILE)"
   ]
  },
  {
   "cell_type": "code",
   "execution_count": null,
   "metadata": {
    "collapsed": false
   },
   "outputs": [],
   "source": [
    "invalid_phone"
   ]
  },
  {
   "cell_type": "code",
   "execution_count": null,
   "metadata": {
    "collapsed": false
   },
   "outputs": [],
   "source": [
    "invalid_email"
   ]
  },
  {
   "cell_type": "code",
   "execution_count": null,
   "metadata": {
    "collapsed": false
   },
   "outputs": [],
   "source": [
    "invalid_url"
   ]
  },
  {
   "cell_type": "markdown",
   "metadata": {},
   "source": [
    "I need to fix this problematic data, before exporting the data to MongoDB."
   ]
  },
  {
   "cell_type": "markdown",
   "metadata": {},
   "source": [
    "## Export of OSM to JSON and Import to MongoDB"
   ]
  },
  {
   "cell_type": "markdown",
   "metadata": {},
   "source": [
    "I am extracting the data I am interested to, fixing the problematic data entries and export it to JSON for the MongoDB import."
   ]
  },
  {
   "cell_type": "code",
   "execution_count": null,
   "metadata": {
    "collapsed": false,
    "scrolled": false
   },
   "outputs": [],
   "source": [
    "if DO_IMPORT:\n",
    "    start = time.time()\n",
    "    osm.process(OSM_FILE,OSM_EXPORT_FILE);\n",
    "    (time.time() - start)"
   ]
  },
  {
   "cell_type": "markdown",
   "metadata": {},
   "source": [
    "We add an index on id to improve speed on upsert on the id field"
   ]
  },
  {
   "cell_type": "code",
   "execution_count": null,
   "metadata": {
    "collapsed": false
   },
   "outputs": [],
   "source": [
    "nodes = mongo.MongoClient(MONGO_URL).osm.nodes\n",
    "nodes.create_index([(\"id\", mongo.ASCENDING)]);\n"
   ]
  },
  {
   "cell_type": "code",
   "execution_count": null,
   "metadata": {
    "collapsed": false
   },
   "outputs": [],
   "source": [
    "if DO_IMPORT:\n",
    "    start = time.time()\n",
    "    os.system('mongoimport --quiet --upsertFields id --db osm --collection nodes --file {0}'.format(OSM_FILE+'.json'));\n",
    "    (time.time() - start)"
   ]
  },
  {
   "cell_type": "markdown",
   "metadata": {},
   "source": [
    "### Addition of some indexes"
   ]
  },
  {
   "cell_type": "code",
   "execution_count": null,
   "metadata": {
    "collapsed": false
   },
   "outputs": [],
   "source": [
    "nodes.create_index([(\"type\", mongo.ASCENDING)])\n",
    "nodes.create_index([(\"address.city\", mongo.ASCENDING)])\n",
    "\n",
    "nodes.create_index([(\"pos\", mongo.GEO2D)]);"
   ]
  },
  {
   "cell_type": "markdown",
   "metadata": {},
   "source": [
    "## Analysis of the data"
   ]
  },
  {
   "cell_type": "markdown",
   "metadata": {},
   "source": [
    "#### Tags in OSM file"
   ]
  },
  {
   "cell_type": "code",
   "execution_count": null,
   "metadata": {
    "collapsed": false
   },
   "outputs": [],
   "source": [
    "osm.count_tags(OSM_FILE)"
   ]
  },
  {
   "cell_type": "markdown",
   "metadata": {},
   "source": [
    "#### File sizes"
   ]
  },
  {
   "cell_type": "code",
   "execution_count": null,
   "metadata": {
    "collapsed": false
   },
   "outputs": [],
   "source": [
    "# File size of the full osm file\n",
    "info = os.stat(OSM_FILE)\n",
    "\"Filesize of {0} {1}\".format(OSM_FILE, humanize.humansize(info.st_size))"
   ]
  },
  {
   "cell_type": "code",
   "execution_count": null,
   "metadata": {
    "collapsed": false
   },
   "outputs": [],
   "source": [
    "# File size of the full osm file\n",
    "info = os.stat(OSM_EXPORT_FILE)\n",
    "\"Filesize of {0} {1}\".format(OSM_EXPORT_FILE, humanize.humansize(info.st_size))"
   ]
  },
  {
   "cell_type": "markdown",
   "metadata": {},
   "source": [
    "#### Number of documents in database"
   ]
  },
  {
   "cell_type": "code",
   "execution_count": null,
   "metadata": {
    "collapsed": false
   },
   "outputs": [],
   "source": [
    "\"{} Documents in MongoDB\".format(nodes.find().count())"
   ]
  },
  {
   "cell_type": "markdown",
   "metadata": {},
   "source": [
    "#### Example document in MongoDB"
   ]
  },
  {
   "cell_type": "code",
   "execution_count": null,
   "metadata": {
    "collapsed": false
   },
   "outputs": [],
   "source": [
    "pprint(nodes.find_one({ \"contact.phone\": { '$exists': 1 }, \"contact.fax\": { '$exists': 1 }, \n",
    "            \"contact.website\": { '$exists': 1 }, \"address.street\": { '$exists': 1 }, \n",
    "            \"address.city\": { '$exists': 1 } }))"
   ]
  },
  {
   "cell_type": "markdown",
   "metadata": {},
   "source": [
    "#### Document types"
   ]
  },
  {
   "cell_type": "code",
   "execution_count": null,
   "metadata": {
    "collapsed": false
   },
   "outputs": [],
   "source": [
    "pprint(list(nodes.aggregate([\n",
    "        {'$group':{'_id':'$type','count':{'$sum':1}}}\n",
    "    ])))"
   ]
  },
  {
   "cell_type": "markdown",
   "metadata": {},
   "source": [
    "#### Documents with contact data"
   ]
  },
  {
   "cell_type": "code",
   "execution_count": null,
   "metadata": {
    "collapsed": false
   },
   "outputs": [],
   "source": [
    "\"{} Documents with contact in MongoDB\".format(nodes.find({'contact':{'$exists':1}}).count())"
   ]
  },
  {
   "cell_type": "markdown",
   "metadata": {},
   "source": [
    "#### Documents with address data"
   ]
  },
  {
   "cell_type": "code",
   "execution_count": null,
   "metadata": {
    "collapsed": false
   },
   "outputs": [],
   "source": [
    "\"{} Documents with address in MongoDB\".format(nodes.find({'address':{'$exists':1}}).count())"
   ]
  },
  {
   "cell_type": "markdown",
   "metadata": {},
   "source": [
    "#### Test Fixing of problematic data"
   ]
  },
  {
   "cell_type": "markdown",
   "metadata": {},
   "source": [
    "I am checking if my code for importing data fixed the problematic phone numbers and URLs."
   ]
  },
  {
   "cell_type": "code",
   "execution_count": null,
   "metadata": {
    "collapsed": false
   },
   "outputs": [],
   "source": [
    "nodes.find({'contact.phone':{'$in':invalid_phone}}).count()"
   ]
  },
  {
   "cell_type": "code",
   "execution_count": null,
   "metadata": {
    "collapsed": false
   },
   "outputs": [],
   "source": [
    "nodes.find({'contact.phone':{'$in':['+49 800 28350000', '+49 162 2119066', '+49 173 2922190']}}).count()"
   ]
  },
  {
   "cell_type": "code",
   "execution_count": null,
   "metadata": {
    "collapsed": false
   },
   "outputs": [],
   "source": [
    "nodes.find({'contact.website':{'$in':invalid_url}}).count()"
   ]
  },
  {
   "cell_type": "code",
   "execution_count": null,
   "metadata": {
    "collapsed": false
   },
   "outputs": [],
   "source": [
    "nodes.find({'contact.website':{'$in':\n",
    "['http://www.silvis-bungalow.de',\n",
    " 'http://www.haus-thomas.de',\n",
    " 'http://www.tuedelpott.de',\n",
    " 'http://www.hotel-cafecaro.de',\n",
    " 'http://www.hotel-westfalenhof.de']}}).count()"
   ]
  },
  {
   "cell_type": "markdown",
   "metadata": {},
   "source": [
    "#### Analyis of lodging data"
   ]
  },
  {
   "cell_type": "markdown",
   "metadata": {},
   "source": [
    "What type of touristic data is there?"
   ]
  },
  {
   "cell_type": "code",
   "execution_count": null,
   "metadata": {
    "collapsed": false
   },
   "outputs": [],
   "source": [
    "pprint(list(nodes.aggregate([\n",
    "   {'$match': {'tourism':{'$exists':1}}},\n",
    "   {'$group':{'_id':'$tourism'}}\n",
    "        ])))"
   ]
  },
  {
   "cell_type": "markdown",
   "metadata": {},
   "source": [
    "I am interested in the number of lodging facilities in the area:"
   ]
  },
  {
   "cell_type": "code",
   "execution_count": null,
   "metadata": {
    "collapsed": false
   },
   "outputs": [],
   "source": [
    "pprint(list(nodes.aggregate([\n",
    "                {'$match':{'tourism':{'$in':['bed_and_breakfast','motel','apartment','hostel','guest_house','chalet','hotel']}}},\n",
    "                {'$group':{'_id':'$address.city', 'count':{'$sum':1}}},\n",
    "                {'$sort':{'count':-1}}\n",
    "            ])))"
   ]
  },
  {
   "cell_type": "markdown",
   "metadata": {},
   "source": [
    "It is interesting, that for 112 lodging facilities no city is in the data set:"
   ]
  },
  {
   "cell_type": "code",
   "execution_count": null,
   "metadata": {
    "collapsed": false
   },
   "outputs": [],
   "source": [
    "pprint(list(\n",
    "    nodes.aggregate([\n",
    "            { '$match':\n",
    "              {'tourism':{'$exists':False},\n",
    "               'name':{'$regex': '([Pp]ension)|([Ff]erienwohnung)|([Ff]e[wW]o)|([Aa]partment)|([Ch]alet)|([Jj]ugendherberge)'}}\n",
    "            },\n",
    "            {'$count':'id'}\n",
    "                \n",
    "            ])\n",
    "    ))"
   ]
  },
  {
   "cell_type": "markdown",
   "metadata": {},
   "source": [
    "## Additional problems in the data"
   ]
  },
  {
   "cell_type": "markdown",
   "metadata": {},
   "source": [
    "  - Cross field consistecy Postcode ork for Street and City. \n",
    "  - Have address always a housenumber in case ther is a street\n",
    "  - Handlingof P.O. boxes\n",
    "  - E-Mail address still valid\n",
    "  - Website still available\n",
    "  - Street names\n",
    "  - City names\n",
    "  - Phone number: In case we don't have the country how to get international format?"
   ]
  },
  {
   "cell_type": "code",
   "execution_count": null,
   "metadata": {
    "collapsed": true
   },
   "outputs": [],
   "source": []
  }
 ],
 "metadata": {
  "anaconda-cloud": {},
  "kernelspec": {
   "display_name": "Python [Root]",
   "language": "python",
   "name": "Python [Root]"
  },
  "language_info": {
   "codemirror_mode": {
    "name": "ipython",
    "version": 2
   },
   "file_extension": ".py",
   "mimetype": "text/x-python",
   "name": "python",
   "nbconvert_exporter": "python",
   "pygments_lexer": "ipython2",
   "version": "2.7.13"
  }
 },
 "nbformat": 4,
 "nbformat_minor": 0
}
