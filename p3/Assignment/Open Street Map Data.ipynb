{
 "cells": [
  {
   "cell_type": "markdown",
   "metadata": {},
   "source": [
    "# Udacity Data Analyst Project 3:  Wrangling Open Street Data"
   ]
  },
  {
   "cell_type": "markdown",
   "metadata": {},
   "source": [
    "_ by Jens Laufer _\n",
    "\n",
    "_ jenslaufer@gmail.com _\n"
   ]
  },
  {
   "cell_type": "markdown",
   "metadata": {},
   "source": [
    "## Introduction\n",
    "\n",
    "In this project I am importing XML Data from OpenStreetMap, auditing and wrangling this data and export it to MongoDB. Afterwards I am doing some analysis on the imported data.\n",
    "\n",
    "I selected the area of Ostfriesland in north eastern Germany, which is close to the north sea. Although I am not from there, I am interested in the area as I want to extend my Airbnb hosting business and the area looks promising to me, as it is touristic and property prices are low. I got these insights about the area from google search data and data from the german realestate website [Immobilienscout24](http://immobilienscout24.de), but this is not part of the assigment. I am especially interesting in all data related to lodging. \n",
    "\n",
    "![](img/map.png)"
   ]
  },
  {
   "cell_type": "markdown",
   "metadata": {},
   "source": [
    "I moved the code from the case study from the Udacity Data Analyst nanodegree course to a module called osm.py, which I am using within the scope of this assignment. I added some additional functions there e.g for auditing the contact data."
   ]
  },
  {
   "cell_type": "code",
   "execution_count": 1,
   "metadata": {
    "collapsed": false
   },
   "outputs": [],
   "source": [
    "# python imports\n",
    "import pandas as pd\n",
    "import numpy as np\n",
    "from collections import defaultdict\n",
    "import pprint\n",
    "import re\n",
    "import codecs\n",
    "import json\n",
    "import os\n",
    "import file_size_humanize as humanize\n",
    "import os.path as path\n",
    "import time\n",
    "from pprint import pprint\n",
    "import pymongo as mongo\n",
    "# this is the import of the code from the case study\n",
    "import osm"
   ]
  },
  {
   "cell_type": "code",
   "execution_count": 2,
   "metadata": {
    "collapsed": false
   },
   "outputs": [],
   "source": [
    "\"\"\"\n",
    "definition of constants which I am using in this notebook \n",
    "\"\"\"\n",
    "\n",
    "DO_IMPORT = False\n",
    "\n",
    "OSM_URL = \"http://overpass-api.de/api/map?bbox=6.6309,53.4302,7.8291,53.8227\"\n",
    "OSM_FILE = \"ostfriesland.osm\" \n",
    "OSM_EXPORT_FILE = \"{0}.json\".format(OSM_FILE)\n",
    "\n",
    "MONGO_URL = 'mongodb://localhost:27017/'"
   ]
  },
  {
   "cell_type": "markdown",
   "metadata": {},
   "source": [
    "## Download of the dataset"
   ]
  },
  {
   "cell_type": "code",
   "execution_count": 3,
   "metadata": {
    "collapsed": false
   },
   "outputs": [],
   "source": [
    "\"\"\"\n",
    "I stream the osm data with the overpass url for the box I want to use into a local file in case the file does not already exist\n",
    "\"\"\"\n",
    "from urllib2 import urlopen\n",
    "\n",
    "if not path.exists(OSM_FILE):\n",
    "    response = urlopen(OSM_URL)\n",
    "    CHUNK = 16 * 1024\n",
    "    with open(OSM_FILE, 'wb') as f:\n",
    "        while True:\n",
    "            chunk = response.read(CHUNK)\n",
    "            if not chunk:\n",
    "                break\n",
    "            f.write(chunk)"
   ]
  },
  {
   "cell_type": "markdown",
   "metadata": {},
   "source": [
    "## Auditing of the data"
   ]
  },
  {
   "cell_type": "markdown",
   "metadata": {},
   "source": [
    "#### Auditing contact data\n",
    "\n",
    "I am auditing the contact data. Therefore I created a audit_contact_data in the osm module, which checks email address and URLs against regular expressions. For the phonenumber I am using a port of [Google's libphonenumber for python](https://github.com/daviddrysdale/python-phonenumbers) to test for phonenumber validity."
   ]
  },
  {
   "cell_type": "code",
   "execution_count": 4,
   "metadata": {
    "collapsed": false,
    "scrolled": false
   },
   "outputs": [
    {
     "name": "stdout",
     "output_type": "stream",
     "text": [
      "Error parsing 0800 283 50000: (0) Missing or invalid default region.\n",
      "Error parsing 01622 11 90 66: (0) Missing or invalid default region.\n",
      "Error parsing 0173 - 292 21 90: (0) Missing or invalid default region.\n"
     ]
    }
   ],
   "source": [
    "invalid_phone, invalid_email, invalid_url = osm.audit_contact_data(OSM_FILE)"
   ]
  },
  {
   "cell_type": "code",
   "execution_count": 5,
   "metadata": {
    "collapsed": false
   },
   "outputs": [
    {
     "data": {
      "text/plain": [
       "['0800 283 50000', '01622 11 90 66', '0173 - 292 21 90']"
      ]
     },
     "execution_count": 5,
     "metadata": {},
     "output_type": "execute_result"
    }
   ],
   "source": [
    "invalid_phone"
   ]
  },
  {
   "cell_type": "code",
   "execution_count": 6,
   "metadata": {
    "collapsed": false
   },
   "outputs": [
    {
     "data": {
      "text/plain": [
       "[]"
      ]
     },
     "execution_count": 6,
     "metadata": {},
     "output_type": "execute_result"
    }
   ],
   "source": [
    "invalid_email"
   ]
  },
  {
   "cell_type": "code",
   "execution_count": 7,
   "metadata": {
    "collapsed": false
   },
   "outputs": [
    {
     "data": {
      "text/plain": [
       "['www.silvis-bungalow.de',\n",
       " 'www.haus-thomas.de',\n",
       " 'www.tuedelpott.de',\n",
       " 'www.hotel-cafecaro.de',\n",
       " 'www.hotel-westfalenhof.de']"
      ]
     },
     "execution_count": 7,
     "metadata": {},
     "output_type": "execute_result"
    }
   ],
   "source": [
    "invalid_url"
   ]
  },
  {
   "cell_type": "markdown",
   "metadata": {},
   "source": [
    "I need to fix this problematic data, before exporting the data to MongoDB."
   ]
  },
  {
   "cell_type": "markdown",
   "metadata": {},
   "source": [
    "## Export of OSM to JSON and Import to MongoDB"
   ]
  },
  {
   "cell_type": "markdown",
   "metadata": {},
   "source": [
    "I am extracting the data I am interested to, fixing the problematic data entries and export it to JSON for the MongoDB import."
   ]
  },
  {
   "cell_type": "code",
   "execution_count": 8,
   "metadata": {
    "collapsed": false,
    "scrolled": false
   },
   "outputs": [
    {
     "data": {
      "text/plain": [
       "0.0"
      ]
     },
     "execution_count": 8,
     "metadata": {},
     "output_type": "execute_result"
    }
   ],
   "source": [
    "start = time.time()\n",
    "\n",
    "if DO_IMPORT:\n",
    "    osm.process(OSM_FILE,OSM_EXPORT_FILE);\n",
    "    \n",
    "time.time() - start"
   ]
  },
  {
   "cell_type": "markdown",
   "metadata": {},
   "source": [
    "I am adding an index on id to improve speed on upsert on the id field"
   ]
  },
  {
   "cell_type": "code",
   "execution_count": 9,
   "metadata": {
    "collapsed": false
   },
   "outputs": [],
   "source": [
    "nodes = mongo.MongoClient(MONGO_URL).osm.nodes\n",
    "nodes.create_index([(\"id\", mongo.ASCENDING)]);\n"
   ]
  },
  {
   "cell_type": "code",
   "execution_count": 10,
   "metadata": {
    "collapsed": false
   },
   "outputs": [
    {
     "data": {
      "text/plain": [
       "0.0"
      ]
     },
     "execution_count": 10,
     "metadata": {},
     "output_type": "execute_result"
    }
   ],
   "source": [
    "start = time.time()\n",
    "\n",
    "if DO_IMPORT:\n",
    "    os.system('mongoimport --quiet --upsertFields id --db osm --collection nodes --file {0}'.format(OSM_FILE+'.json'));\n",
    "    \n",
    "time.time() - start"
   ]
  },
  {
   "cell_type": "markdown",
   "metadata": {},
   "source": [
    "### Addition of some indexes"
   ]
  },
  {
   "cell_type": "code",
   "execution_count": 88,
   "metadata": {
    "collapsed": false
   },
   "outputs": [],
   "source": [
    "nodes.create_index([(\"type\", mongo.ASCENDING)])\n",
    "nodes.create_index([(\"address.city\", mongo.ASCENDING)])\n",
    "\n",
    "nodes.create_index([(\"pos\", mongo.GEOSPHERE)]);"
   ]
  },
  {
   "cell_type": "markdown",
   "metadata": {},
   "source": [
    "## Analysis of the data"
   ]
  },
  {
   "cell_type": "markdown",
   "metadata": {},
   "source": [
    "#### Tags in OSM file"
   ]
  },
  {
   "cell_type": "code",
   "execution_count": 12,
   "metadata": {
    "collapsed": false
   },
   "outputs": [
    {
     "name": "stdout",
     "output_type": "stream",
     "text": [
      "{'bounds': 1,\n",
      " 'member': 48150,\n",
      " 'meta': 1,\n",
      " 'nd': 878995,\n",
      " 'node': 724983,\n",
      " 'note': 1,\n",
      " 'osm': 1,\n",
      " 'relation': 877,\n",
      " 'tag': 346155,\n",
      " 'way': 103280}\n"
     ]
    }
   ],
   "source": [
    "pprint(osm.count_tags(OSM_FILE))"
   ]
  },
  {
   "cell_type": "markdown",
   "metadata": {},
   "source": [
    "#### File sizes"
   ]
  },
  {
   "cell_type": "code",
   "execution_count": 13,
   "metadata": {
    "collapsed": false
   },
   "outputs": [
    {
     "data": {
      "text/plain": [
       "'Filesize of ostfriesland.osm 155.29 MB'"
      ]
     },
     "execution_count": 13,
     "metadata": {},
     "output_type": "execute_result"
    }
   ],
   "source": [
    "# File size of the full osm file\n",
    "info = os.stat(OSM_FILE)\n",
    "\"Filesize of {0} {1}\".format(OSM_FILE, humanize.humansize(info.st_size))"
   ]
  },
  {
   "cell_type": "code",
   "execution_count": 14,
   "metadata": {
    "collapsed": false
   },
   "outputs": [
    {
     "data": {
      "text/plain": [
       "'Filesize of ostfriesland.osm.json 156.26 MB'"
      ]
     },
     "execution_count": 14,
     "metadata": {},
     "output_type": "execute_result"
    }
   ],
   "source": [
    "# File size of the full osm file\n",
    "info = os.stat(OSM_EXPORT_FILE)\n",
    "\"Filesize of {0} {1}\".format(OSM_EXPORT_FILE, humanize.humansize(info.st_size))"
   ]
  },
  {
   "cell_type": "markdown",
   "metadata": {},
   "source": [
    "#### Number of documents in database"
   ]
  },
  {
   "cell_type": "code",
   "execution_count": 15,
   "metadata": {
    "collapsed": false
   },
   "outputs": [
    {
     "data": {
      "text/plain": [
       "'828259 Documents in MongoDB'"
      ]
     },
     "execution_count": 15,
     "metadata": {},
     "output_type": "execute_result"
    }
   ],
   "source": [
    "\"{} Documents in MongoDB\".format(nodes.find().count())"
   ]
  },
  {
   "cell_type": "markdown",
   "metadata": {},
   "source": [
    "#### Example document in MongoDB"
   ]
  },
  {
   "cell_type": "code",
   "execution_count": 16,
   "metadata": {
    "collapsed": false
   },
   "outputs": [
    {
     "name": "stdout",
     "output_type": "stream",
     "text": [
      "{u'_id': ObjectId('58ac61eedd946dd35d3761c6'),\n",
      " u'address': {u'city': u'Aurich',\n",
      "              u'country': u'DE',\n",
      "              u'housenumber': u'40',\n",
      "              u'postcode': u'26607',\n",
      "              u'street': u'Dornumer Stra\\xdfe'},\n",
      " u'contact': {u'email': u'info@antik-alteschmiede.de',\n",
      "              u'fax': u'+49 4941 71025',\n",
      "              u'phone': u'+49 4941 7915',\n",
      "              u'website': u'http://www.antik-alteschmiede.de'},\n",
      " u'created': {u'changeset': u'39414176',\n",
      "              u'timestamp': u'2016-05-19T02:00:25Z',\n",
      "              u'uid': u'52533',\n",
      "              u'user': u'imehl',\n",
      "              u'version': u'1'},\n",
      " u'id': u'4194453896',\n",
      " u'name': u'Antik \"Alte Schmiede\"',\n",
      " u'pos': [53.5078165, 7.4807148],\n",
      " u'type': u'node'}\n"
     ]
    }
   ],
   "source": [
    "pprint(nodes.find_one({ \"contact.phone\": { '$exists': 1 }, \"contact.fax\": { '$exists': 1 }, \n",
    "            \"contact.website\": { '$exists': 1 }, \"address.street\": { '$exists': 1 }, \n",
    "            \"address.city\": { '$exists': 1 } }))"
   ]
  },
  {
   "cell_type": "markdown",
   "metadata": {},
   "source": [
    "#### Document types"
   ]
  },
  {
   "cell_type": "code",
   "execution_count": 17,
   "metadata": {
    "collapsed": false
   },
   "outputs": [
    {
     "data": {
      "text/html": [
       "<div>\n",
       "<table border=\"1\" class=\"dataframe\">\n",
       "  <thead>\n",
       "    <tr style=\"text-align: right;\">\n",
       "      <th></th>\n",
       "      <th>_id</th>\n",
       "      <th>count</th>\n",
       "    </tr>\n",
       "  </thead>\n",
       "  <tbody>\n",
       "    <tr>\n",
       "      <th>0</th>\n",
       "      <td>way</td>\n",
       "      <td>103280</td>\n",
       "    </tr>\n",
       "    <tr>\n",
       "      <th>1</th>\n",
       "      <td>node</td>\n",
       "      <td>724979</td>\n",
       "    </tr>\n",
       "  </tbody>\n",
       "</table>\n",
       "</div>"
      ],
      "text/plain": [
       "    _id   count\n",
       "0   way  103280\n",
       "1  node  724979"
      ]
     },
     "execution_count": 17,
     "metadata": {},
     "output_type": "execute_result"
    }
   ],
   "source": [
    "pd.DataFrame(list(nodes.aggregate([\n",
    "        {'$group':{'_id':'$type','count':{'$sum':1}}}\n",
    "    ])))"
   ]
  },
  {
   "cell_type": "markdown",
   "metadata": {},
   "source": [
    "#### Documents with contact data"
   ]
  },
  {
   "cell_type": "code",
   "execution_count": 18,
   "metadata": {
    "collapsed": false
   },
   "outputs": [
    {
     "data": {
      "text/plain": [
       "'267 Documents with contact in MongoDB'"
      ]
     },
     "execution_count": 18,
     "metadata": {},
     "output_type": "execute_result"
    }
   ],
   "source": [
    "\"{} Documents with contact in MongoDB\".format(nodes.find({'contact':{'$exists':1}}).count())"
   ]
  },
  {
   "cell_type": "markdown",
   "metadata": {},
   "source": [
    "#### Documents with address data"
   ]
  },
  {
   "cell_type": "code",
   "execution_count": 19,
   "metadata": {
    "collapsed": false
   },
   "outputs": [
    {
     "data": {
      "text/plain": [
       "'22542 Documents with address in MongoDB'"
      ]
     },
     "execution_count": 19,
     "metadata": {},
     "output_type": "execute_result"
    }
   ],
   "source": [
    "\"{} Documents with address in MongoDB\".format(nodes.find({'address':{'$exists':1}}).count())"
   ]
  },
  {
   "cell_type": "markdown",
   "metadata": {},
   "source": [
    "#### Test Fixing of problematic data"
   ]
  },
  {
   "cell_type": "markdown",
   "metadata": {},
   "source": [
    "I am checking if my code for importing data fixed the problematic phone numbers and URLs."
   ]
  },
  {
   "cell_type": "code",
   "execution_count": 20,
   "metadata": {
    "collapsed": false
   },
   "outputs": [
    {
     "data": {
      "text/plain": [
       "0"
      ]
     },
     "execution_count": 20,
     "metadata": {},
     "output_type": "execute_result"
    }
   ],
   "source": [
    "nodes.find({'contact.phone':{'$in':invalid_phone}}).count()"
   ]
  },
  {
   "cell_type": "code",
   "execution_count": 21,
   "metadata": {
    "collapsed": false
   },
   "outputs": [
    {
     "data": {
      "text/plain": [
       "3"
      ]
     },
     "execution_count": 21,
     "metadata": {},
     "output_type": "execute_result"
    }
   ],
   "source": [
    "nodes.find({'contact.phone':{'$in':['+49 800 28350000', '+49 162 2119066', '+49 173 2922190']}}).count()"
   ]
  },
  {
   "cell_type": "code",
   "execution_count": 22,
   "metadata": {
    "collapsed": false
   },
   "outputs": [
    {
     "data": {
      "text/plain": [
       "0"
      ]
     },
     "execution_count": 22,
     "metadata": {},
     "output_type": "execute_result"
    }
   ],
   "source": [
    "nodes.find({'contact.website':{'$in':invalid_url}}).count()"
   ]
  },
  {
   "cell_type": "code",
   "execution_count": 23,
   "metadata": {
    "collapsed": false
   },
   "outputs": [
    {
     "data": {
      "text/plain": [
       "5"
      ]
     },
     "execution_count": 23,
     "metadata": {},
     "output_type": "execute_result"
    }
   ],
   "source": [
    "nodes.find({'contact.website':{'$in':\n",
    "['http://www.silvis-bungalow.de',\n",
    " 'http://www.haus-thomas.de',\n",
    " 'http://www.tuedelpott.de',\n",
    " 'http://www.hotel-cafecaro.de',\n",
    " 'http://www.hotel-westfalenhof.de']}}).count()"
   ]
  },
  {
   "cell_type": "markdown",
   "metadata": {},
   "source": [
    "All roblematic contact data was fixed correctly."
   ]
  },
  {
   "cell_type": "markdown",
   "metadata": {},
   "source": [
    "#### Analysis of lodging data"
   ]
  },
  {
   "cell_type": "markdown",
   "metadata": {},
   "source": [
    "What type of touristic data is there?"
   ]
  },
  {
   "cell_type": "code",
   "execution_count": 24,
   "metadata": {
    "collapsed": false
   },
   "outputs": [
    {
     "data": {
      "text/html": [
       "<div>\n",
       "<table border=\"1\" class=\"dataframe\">\n",
       "  <thead>\n",
       "    <tr style=\"text-align: right;\">\n",
       "      <th></th>\n",
       "      <th>_id</th>\n",
       "    </tr>\n",
       "  </thead>\n",
       "  <tbody>\n",
       "    <tr>\n",
       "      <th>0</th>\n",
       "      <td>theme_park</td>\n",
       "    </tr>\n",
       "    <tr>\n",
       "      <th>1</th>\n",
       "      <td>artwork</td>\n",
       "    </tr>\n",
       "    <tr>\n",
       "      <th>2</th>\n",
       "      <td>caravan_site</td>\n",
       "    </tr>\n",
       "    <tr>\n",
       "      <th>3</th>\n",
       "      <td>zoo</td>\n",
       "    </tr>\n",
       "    <tr>\n",
       "      <th>4</th>\n",
       "      <td>trail_riding_station</td>\n",
       "    </tr>\n",
       "    <tr>\n",
       "      <th>5</th>\n",
       "      <td>museum</td>\n",
       "    </tr>\n",
       "    <tr>\n",
       "      <th>6</th>\n",
       "      <td>motel</td>\n",
       "    </tr>\n",
       "    <tr>\n",
       "      <th>7</th>\n",
       "      <td>gallery</td>\n",
       "    </tr>\n",
       "    <tr>\n",
       "      <th>8</th>\n",
       "      <td>apartment</td>\n",
       "    </tr>\n",
       "    <tr>\n",
       "      <th>9</th>\n",
       "      <td>hostel</td>\n",
       "    </tr>\n",
       "    <tr>\n",
       "      <th>10</th>\n",
       "      <td>DJH Borkum</td>\n",
       "    </tr>\n",
       "    <tr>\n",
       "      <th>11</th>\n",
       "      <td>guest_house</td>\n",
       "    </tr>\n",
       "    <tr>\n",
       "      <th>12</th>\n",
       "      <td>camp_site</td>\n",
       "    </tr>\n",
       "    <tr>\n",
       "      <th>13</th>\n",
       "      <td>riding</td>\n",
       "    </tr>\n",
       "    <tr>\n",
       "      <th>14</th>\n",
       "      <td>chalet</td>\n",
       "    </tr>\n",
       "    <tr>\n",
       "      <th>15</th>\n",
       "      <td>yes</td>\n",
       "    </tr>\n",
       "    <tr>\n",
       "      <th>16</th>\n",
       "      <td>information</td>\n",
       "    </tr>\n",
       "    <tr>\n",
       "      <th>17</th>\n",
       "      <td>aquarium</td>\n",
       "    </tr>\n",
       "    <tr>\n",
       "      <th>18</th>\n",
       "      <td>picnic_site</td>\n",
       "    </tr>\n",
       "    <tr>\n",
       "      <th>19</th>\n",
       "      <td>viewpoint</td>\n",
       "    </tr>\n",
       "    <tr>\n",
       "      <th>20</th>\n",
       "      <td>attraction</td>\n",
       "    </tr>\n",
       "    <tr>\n",
       "      <th>21</th>\n",
       "      <td>Strandkorbvermietung</td>\n",
       "    </tr>\n",
       "    <tr>\n",
       "      <th>22</th>\n",
       "      <td>hotel</td>\n",
       "    </tr>\n",
       "  </tbody>\n",
       "</table>\n",
       "</div>"
      ],
      "text/plain": [
       "                     _id\n",
       "0             theme_park\n",
       "1                artwork\n",
       "2           caravan_site\n",
       "3                    zoo\n",
       "4   trail_riding_station\n",
       "5                 museum\n",
       "6                  motel\n",
       "7                gallery\n",
       "8              apartment\n",
       "9                 hostel\n",
       "10            DJH Borkum\n",
       "11           guest_house\n",
       "12             camp_site\n",
       "13                riding\n",
       "14                chalet\n",
       "15                   yes\n",
       "16           information\n",
       "17              aquarium\n",
       "18           picnic_site\n",
       "19             viewpoint\n",
       "20            attraction\n",
       "21  Strandkorbvermietung\n",
       "22                 hotel"
      ]
     },
     "execution_count": 24,
     "metadata": {},
     "output_type": "execute_result"
    }
   ],
   "source": [
    "pd.DataFrame(list(nodes.aggregate([\n",
    "   {'$match': {'tourism':{'$exists':1}}},\n",
    "   {'$group':{'_id':'$tourism'}}\n",
    "        ])))"
   ]
  },
  {
   "cell_type": "markdown",
   "metadata": {},
   "source": [
    "I am interested in the number of lodging facilities in the area:"
   ]
  },
  {
   "cell_type": "code",
   "execution_count": 78,
   "metadata": {
    "collapsed": false
   },
   "outputs": [
    {
     "data": {
      "text/html": [
       "<div>\n",
       "<table border=\"1\" class=\"dataframe\">\n",
       "  <thead>\n",
       "    <tr style=\"text-align: right;\">\n",
       "      <th></th>\n",
       "      <th>_id</th>\n",
       "      <th>count</th>\n",
       "    </tr>\n",
       "  </thead>\n",
       "  <tbody>\n",
       "    <tr>\n",
       "      <th>0</th>\n",
       "      <td>None</td>\n",
       "      <td>127</td>\n",
       "    </tr>\n",
       "    <tr>\n",
       "      <th>1</th>\n",
       "      <td>Norden</td>\n",
       "      <td>112</td>\n",
       "    </tr>\n",
       "    <tr>\n",
       "      <th>2</th>\n",
       "      <td>Krummhörn</td>\n",
       "      <td>50</td>\n",
       "    </tr>\n",
       "    <tr>\n",
       "      <th>3</th>\n",
       "      <td>Baltrum</td>\n",
       "      <td>44</td>\n",
       "    </tr>\n",
       "    <tr>\n",
       "      <th>4</th>\n",
       "      <td>Juist</td>\n",
       "      <td>37</td>\n",
       "    </tr>\n",
       "    <tr>\n",
       "      <th>5</th>\n",
       "      <td>Norderney</td>\n",
       "      <td>32</td>\n",
       "    </tr>\n",
       "    <tr>\n",
       "      <th>6</th>\n",
       "      <td>Borkum</td>\n",
       "      <td>31</td>\n",
       "    </tr>\n",
       "    <tr>\n",
       "      <th>7</th>\n",
       "      <td>Langeoog</td>\n",
       "      <td>20</td>\n",
       "    </tr>\n",
       "    <tr>\n",
       "      <th>8</th>\n",
       "      <td>Spiekeroog</td>\n",
       "      <td>20</td>\n",
       "    </tr>\n",
       "    <tr>\n",
       "      <th>9</th>\n",
       "      <td>Neuharlingersiel</td>\n",
       "      <td>18</td>\n",
       "    </tr>\n",
       "    <tr>\n",
       "      <th>10</th>\n",
       "      <td>Carolinensiel</td>\n",
       "      <td>9</td>\n",
       "    </tr>\n",
       "    <tr>\n",
       "      <th>11</th>\n",
       "      <td>Aurich</td>\n",
       "      <td>7</td>\n",
       "    </tr>\n",
       "    <tr>\n",
       "      <th>12</th>\n",
       "      <td>Werdum</td>\n",
       "      <td>5</td>\n",
       "    </tr>\n",
       "    <tr>\n",
       "      <th>13</th>\n",
       "      <td>Westerbur</td>\n",
       "      <td>5</td>\n",
       "    </tr>\n",
       "    <tr>\n",
       "      <th>14</th>\n",
       "      <td>Wittmund</td>\n",
       "      <td>5</td>\n",
       "    </tr>\n",
       "    <tr>\n",
       "      <th>15</th>\n",
       "      <td>Dornum</td>\n",
       "      <td>4</td>\n",
       "    </tr>\n",
       "    <tr>\n",
       "      <th>16</th>\n",
       "      <td>Südbrookmerland</td>\n",
       "      <td>4</td>\n",
       "    </tr>\n",
       "    <tr>\n",
       "      <th>17</th>\n",
       "      <td>Greetsiel</td>\n",
       "      <td>4</td>\n",
       "    </tr>\n",
       "    <tr>\n",
       "      <th>18</th>\n",
       "      <td>Hage</td>\n",
       "      <td>3</td>\n",
       "    </tr>\n",
       "    <tr>\n",
       "      <th>19</th>\n",
       "      <td>Bensersiel</td>\n",
       "      <td>3</td>\n",
       "    </tr>\n",
       "    <tr>\n",
       "      <th>20</th>\n",
       "      <td>Neßmersiel</td>\n",
       "      <td>3</td>\n",
       "    </tr>\n",
       "    <tr>\n",
       "      <th>21</th>\n",
       "      <td>Esens</td>\n",
       "      <td>3</td>\n",
       "    </tr>\n",
       "    <tr>\n",
       "      <th>22</th>\n",
       "      <td>Middels-Westerloog</td>\n",
       "      <td>2</td>\n",
       "    </tr>\n",
       "    <tr>\n",
       "      <th>23</th>\n",
       "      <td>Marienhafe</td>\n",
       "      <td>1</td>\n",
       "    </tr>\n",
       "    <tr>\n",
       "      <th>24</th>\n",
       "      <td>Norddeich</td>\n",
       "      <td>1</td>\n",
       "    </tr>\n",
       "    <tr>\n",
       "      <th>25</th>\n",
       "      <td>Oudeschip</td>\n",
       "      <td>1</td>\n",
       "    </tr>\n",
       "    <tr>\n",
       "      <th>26</th>\n",
       "      <td>Stedesdorf</td>\n",
       "      <td>1</td>\n",
       "    </tr>\n",
       "    <tr>\n",
       "      <th>27</th>\n",
       "      <td>Nordseebad Borkum</td>\n",
       "      <td>1</td>\n",
       "    </tr>\n",
       "    <tr>\n",
       "      <th>28</th>\n",
       "      <td>Großefehn</td>\n",
       "      <td>1</td>\n",
       "    </tr>\n",
       "    <tr>\n",
       "      <th>29</th>\n",
       "      <td>Groß Holum</td>\n",
       "      <td>1</td>\n",
       "    </tr>\n",
       "  </tbody>\n",
       "</table>\n",
       "</div>"
      ],
      "text/plain": [
       "                   _id  count\n",
       "0                 None    127\n",
       "1               Norden    112\n",
       "2            Krummhörn     50\n",
       "3              Baltrum     44\n",
       "4                Juist     37\n",
       "5            Norderney     32\n",
       "6               Borkum     31\n",
       "7             Langeoog     20\n",
       "8           Spiekeroog     20\n",
       "9     Neuharlingersiel     18\n",
       "10       Carolinensiel      9\n",
       "11              Aurich      7\n",
       "12              Werdum      5\n",
       "13           Westerbur      5\n",
       "14            Wittmund      5\n",
       "15              Dornum      4\n",
       "16     Südbrookmerland      4\n",
       "17           Greetsiel      4\n",
       "18                Hage      3\n",
       "19          Bensersiel      3\n",
       "20          Neßmersiel      3\n",
       "21               Esens      3\n",
       "22  Middels-Westerloog      2\n",
       "23          Marienhafe      1\n",
       "24           Norddeich      1\n",
       "25           Oudeschip      1\n",
       "26          Stedesdorf      1\n",
       "27   Nordseebad Borkum      1\n",
       "28           Großefehn      1\n",
       "29          Groß Holum      1"
      ]
     },
     "execution_count": 78,
     "metadata": {},
     "output_type": "execute_result"
    }
   ],
   "source": [
    "pd.DataFrame(list(nodes.aggregate([\n",
    "                {'$match':{'tourism':{'$in':['bed_and_breakfast','motel','apartment','hostel','guest_house','chalet','hotel']}}},\n",
    "                {'$group':{'_id':'$address.city', 'count':{'$sum':1}}},\n",
    "                {'$sort':{'count':-1}}\n",
    "            ])))"
   ]
  },
  {
   "cell_type": "markdown",
   "metadata": {},
   "source": [
    "It is interesting, that for 127 lodging facilities no city is in the data set."
   ]
  },
  {
   "cell_type": "markdown",
   "metadata": {},
   "source": [
    "As I have the opportunity to buy a property in the village of Dornum I a doing a little data analysis with other data I scraped from [Airbnb](http://airbnb.com) and from  the german realestate website [Immobilienscout24](http://immobilienscout24.de) with their API:"
   ]
  },
  {
   "cell_type": "markdown",
   "metadata": {},
   "source": [
    "#### Comparing airbnb listing data with data from OSM"
   ]
  },
  {
   "cell_type": "markdown",
   "metadata": {},
   "source": [
    "I am extracting all airbnb listing for about the same area:\n"
   ]
  },
  {
   "cell_type": "code",
   "execution_count": 101,
   "metadata": {
    "collapsed": false
   },
   "outputs": [
    {
     "data": {
      "text/html": [
       "<div>\n",
       "<table border=\"1\" class=\"dataframe\">\n",
       "  <thead>\n",
       "    <tr style=\"text-align: right;\">\n",
       "      <th></th>\n",
       "      <th>_id</th>\n",
       "      <th>amenity</th>\n",
       "      <th>created</th>\n",
       "      <th>dist</th>\n",
       "      <th>id</th>\n",
       "      <th>name</th>\n",
       "      <th>pos</th>\n",
       "      <th>tourism</th>\n",
       "      <th>type</th>\n",
       "    </tr>\n",
       "  </thead>\n",
       "  <tbody>\n",
       "    <tr>\n",
       "      <th>0</th>\n",
       "      <td>58ac61c7dd946dd35d32b823</td>\n",
       "      <td>NaN</td>\n",
       "      <td>{u'changeset': u'22128404', u'version': u'1', ...</td>\n",
       "      <td>196.249016</td>\n",
       "      <td>2836156560</td>\n",
       "      <td>Beningaburg</td>\n",
       "      <td>[53.6475113, 7.4296996]</td>\n",
       "      <td>hotel</td>\n",
       "      <td>node</td>\n",
       "    </tr>\n",
       "    <tr>\n",
       "      <th>1</th>\n",
       "      <td>58ac617fdd946dd35d2ac6b8</td>\n",
       "      <td>restaurant</td>\n",
       "      <td>{u'changeset': u'11413650', u'version': u'2', ...</td>\n",
       "      <td>201.714203</td>\n",
       "      <td>1729255586</td>\n",
       "      <td>Dornumer Wappen</td>\n",
       "      <td>[53.6474635, 7.4313939]</td>\n",
       "      <td>hotel</td>\n",
       "      <td>node</td>\n",
       "    </tr>\n",
       "  </tbody>\n",
       "</table>\n",
       "</div>"
      ],
      "text/plain": [
       "                        _id     amenity  \\\n",
       "0  58ac61c7dd946dd35d32b823         NaN   \n",
       "1  58ac617fdd946dd35d2ac6b8  restaurant   \n",
       "\n",
       "                                             created        dist          id  \\\n",
       "0  {u'changeset': u'22128404', u'version': u'1', ...  196.249016  2836156560   \n",
       "1  {u'changeset': u'11413650', u'version': u'2', ...  201.714203  1729255586   \n",
       "\n",
       "              name                      pos tourism  type  \n",
       "0      Beningaburg  [53.6475113, 7.4296996]   hotel  node  \n",
       "1  Dornumer Wappen  [53.6474635, 7.4313939]   hotel  node  "
      ]
     },
     "execution_count": 101,
     "metadata": {},
     "output_type": "execute_result"
    }
   ],
   "source": [
    "\n",
    "pd.DataFrame(list(nodes.aggregate(\n",
    "            [\n",
    "                {\n",
    "                    '$geoNear':\n",
    "                    {\n",
    "                        'near':\n",
    "                        {\n",
    "                            'type': 'Point',\n",
    "                            'coordinates':[53.645903, 7.430451]\n",
    "                        },\n",
    "                        'spherical': True,\n",
    "                        'query': {\n",
    "                            'tourism':{'$in':['bed_and_breakfast','motel','apartment','hostel','guest_house','chalet','hotel']}},\n",
    "                        'maxDistance' : 5000,\n",
    "                        'distanceField':'dist',\n",
    "                    },\n",
    "                }\n",
    "            ])))"
   ]
  },
  {
   "cell_type": "code",
   "execution_count": 104,
   "metadata": {
    "collapsed": false
   },
   "outputs": [
    {
     "data": {
      "text/html": [
       "<div>\n",
       "<table border=\"1\" class=\"dataframe\">\n",
       "  <thead>\n",
       "    <tr style=\"text-align: right;\">\n",
       "      <th></th>\n",
       "      <th>_id</th>\n",
       "      <th>bathrooms</th>\n",
       "      <th>bedrooms</th>\n",
       "      <th>beds</th>\n",
       "      <th>city</th>\n",
       "      <th>dist</th>\n",
       "      <th>distance</th>\n",
       "      <th>extra_host_languages</th>\n",
       "      <th>geography</th>\n",
       "      <th>id</th>\n",
       "      <th>...</th>\n",
       "      <th>room_type</th>\n",
       "      <th>room_type_category</th>\n",
       "      <th>scrim_color</th>\n",
       "      <th>star_rating</th>\n",
       "      <th>thumbnail_url</th>\n",
       "      <th>ufi</th>\n",
       "      <th>user</th>\n",
       "      <th>user_id</th>\n",
       "      <th>xl_picture_url</th>\n",
       "      <th>xl_picture_urls</th>\n",
       "    </tr>\n",
       "  </thead>\n",
       "  <tbody>\n",
       "    <tr>\n",
       "      <th>0</th>\n",
       "      <td>58ac16badd946dd35d147be9</td>\n",
       "      <td>1.0</td>\n",
       "      <td>3</td>\n",
       "      <td>3</td>\n",
       "      <td>Dornum</td>\n",
       "      <td>159.949776</td>\n",
       "      <td>None</td>\n",
       "      <td>[]</td>\n",
       "      <td>{u'city': u'Dornum', u'loc': [53.6459028, 7.43...</td>\n",
       "      <td>9418724</td>\n",
       "      <td>...</td>\n",
       "      <td>Ganze Unterkunft</td>\n",
       "      <td>entire_home</td>\n",
       "      <td>#86101E</td>\n",
       "      <td>NaN</td>\n",
       "      <td>https://a0.muscache.com/im/pictures/f1abc8ec-e...</td>\n",
       "      <td>-1761007</td>\n",
       "      <td>{u'first_name': u'Melanie', u'picture_url': u'...</td>\n",
       "      <td>24692863</td>\n",
       "      <td>https://a0.muscache.com/im/pictures/f1abc8ec-e...</td>\n",
       "      <td>[https://a0.muscache.com/im/pictures/f1abc8ec-...</td>\n",
       "    </tr>\n",
       "    <tr>\n",
       "      <th>1</th>\n",
       "      <td>58ac16badd946dd35d147c0f</td>\n",
       "      <td>2.0</td>\n",
       "      <td>3</td>\n",
       "      <td>4</td>\n",
       "      <td>Dornum</td>\n",
       "      <td>252.444474</td>\n",
       "      <td>None</td>\n",
       "      <td>[]</td>\n",
       "      <td>{u'city': u'Dornum', u'loc': [53.6459028, 7.43...</td>\n",
       "      <td>5408490</td>\n",
       "      <td>...</td>\n",
       "      <td>Ganze Unterkunft</td>\n",
       "      <td>entire_home</td>\n",
       "      <td>#45351C</td>\n",
       "      <td>NaN</td>\n",
       "      <td>https://a0.muscache.com/im/pictures/67515622/6...</td>\n",
       "      <td>-1761007</td>\n",
       "      <td>{u'first_name': u'Melanie', u'picture_url': u'...</td>\n",
       "      <td>24692863</td>\n",
       "      <td>https://a0.muscache.com/im/pictures/67515622/6...</td>\n",
       "      <td>[https://a0.muscache.com/im/pictures/67515622/...</td>\n",
       "    </tr>\n",
       "    <tr>\n",
       "      <th>2</th>\n",
       "      <td>58ac16badd946dd35d147c13</td>\n",
       "      <td>1.0</td>\n",
       "      <td>2</td>\n",
       "      <td>3</td>\n",
       "      <td>Dornum</td>\n",
       "      <td>1403.769869</td>\n",
       "      <td>None</td>\n",
       "      <td>[]</td>\n",
       "      <td>{u'city': u'Dornum', u'loc': [53.6459028, 7.43...</td>\n",
       "      <td>5450067</td>\n",
       "      <td>...</td>\n",
       "      <td>Ganze Unterkunft</td>\n",
       "      <td>entire_home</td>\n",
       "      <td>#7B4731</td>\n",
       "      <td>NaN</td>\n",
       "      <td>https://a0.muscache.com/im/pictures/67988981/d...</td>\n",
       "      <td>-1761007</td>\n",
       "      <td>{u'first_name': u'Melanie', u'picture_url': u'...</td>\n",
       "      <td>24692863</td>\n",
       "      <td>https://a0.muscache.com/im/pictures/67988981/d...</td>\n",
       "      <td>[https://a0.muscache.com/im/pictures/67988981/...</td>\n",
       "    </tr>\n",
       "    <tr>\n",
       "      <th>3</th>\n",
       "      <td>58ac16badd946dd35d147bcf</td>\n",
       "      <td>1.0</td>\n",
       "      <td>1</td>\n",
       "      <td>3</td>\n",
       "      <td>Dornum</td>\n",
       "      <td>1603.017747</td>\n",
       "      <td>None</td>\n",
       "      <td>[]</td>\n",
       "      <td>{u'city': u'Dornum', u'loc': [53.6459028, 7.43...</td>\n",
       "      <td>14080554</td>\n",
       "      <td>...</td>\n",
       "      <td>Privatzimmer</td>\n",
       "      <td>private_room</td>\n",
       "      <td>#2C3119</td>\n",
       "      <td>5.0</td>\n",
       "      <td>https://a0.muscache.com/im/pictures/465e3c8e-e...</td>\n",
       "      <td>-1761007</td>\n",
       "      <td>{u'first_name': u'Elisabeth', u'picture_url': ...</td>\n",
       "      <td>84478892</td>\n",
       "      <td>https://a0.muscache.com/im/pictures/465e3c8e-e...</td>\n",
       "      <td>[https://a0.muscache.com/im/pictures/465e3c8e-...</td>\n",
       "    </tr>\n",
       "    <tr>\n",
       "      <th>4</th>\n",
       "      <td>58ac16badd946dd35d147bbd</td>\n",
       "      <td>1.0</td>\n",
       "      <td>1</td>\n",
       "      <td>3</td>\n",
       "      <td>Dornum</td>\n",
       "      <td>1643.348852</td>\n",
       "      <td>None</td>\n",
       "      <td>[]</td>\n",
       "      <td>{u'city': u'Dornum', u'loc': [53.6459028, 7.43...</td>\n",
       "      <td>2664718</td>\n",
       "      <td>...</td>\n",
       "      <td>Ganze Unterkunft</td>\n",
       "      <td>entire_home</td>\n",
       "      <td>#171518</td>\n",
       "      <td>4.5</td>\n",
       "      <td>https://a0.muscache.com/im/pictures/61513296/5...</td>\n",
       "      <td>-1761007</td>\n",
       "      <td>{u'first_name': u'Hildegard', u'picture_url': ...</td>\n",
       "      <td>13638564</td>\n",
       "      <td>https://a0.muscache.com/im/pictures/61513296/5...</td>\n",
       "      <td>[https://a0.muscache.com/im/pictures/61513296/...</td>\n",
       "    </tr>\n",
       "    <tr>\n",
       "      <th>5</th>\n",
       "      <td>58ac16badd946dd35d147bcd</td>\n",
       "      <td>1.0</td>\n",
       "      <td>2</td>\n",
       "      <td>4</td>\n",
       "      <td>Dornum</td>\n",
       "      <td>1823.142982</td>\n",
       "      <td>None</td>\n",
       "      <td>[]</td>\n",
       "      <td>{u'city': u'Dornum', u'loc': [53.6459028, 7.43...</td>\n",
       "      <td>15387901</td>\n",
       "      <td>...</td>\n",
       "      <td>Ganze Unterkunft</td>\n",
       "      <td>entire_home</td>\n",
       "      <td>#302B27</td>\n",
       "      <td>NaN</td>\n",
       "      <td>https://a0.muscache.com/im/pictures/bc33586e-d...</td>\n",
       "      <td>-1761007</td>\n",
       "      <td>{u'first_name': u'Klaus', u'picture_url': u'ht...</td>\n",
       "      <td>98376675</td>\n",
       "      <td>https://a0.muscache.com/im/pictures/bc33586e-d...</td>\n",
       "      <td>[https://a0.muscache.com/im/pictures/bc33586e-...</td>\n",
       "    </tr>\n",
       "    <tr>\n",
       "      <th>6</th>\n",
       "      <td>58ac16badd946dd35d147c03</td>\n",
       "      <td>1.0</td>\n",
       "      <td>2</td>\n",
       "      <td>3</td>\n",
       "      <td>Dornum</td>\n",
       "      <td>3042.095285</td>\n",
       "      <td>None</td>\n",
       "      <td>[]</td>\n",
       "      <td>{u'city': u'Dornum', u'loc': [53.6459028, 7.43...</td>\n",
       "      <td>5313473</td>\n",
       "      <td>...</td>\n",
       "      <td>Ganze Unterkunft</td>\n",
       "      <td>entire_home</td>\n",
       "      <td>#54534E</td>\n",
       "      <td>NaN</td>\n",
       "      <td>https://a0.muscache.com/im/pictures/66380087/b...</td>\n",
       "      <td>-1761007</td>\n",
       "      <td>{u'first_name': u'Melanie', u'picture_url': u'...</td>\n",
       "      <td>24692863</td>\n",
       "      <td>https://a0.muscache.com/im/pictures/66380087/b...</td>\n",
       "      <td>[https://a0.muscache.com/im/pictures/66380087/...</td>\n",
       "    </tr>\n",
       "    <tr>\n",
       "      <th>7</th>\n",
       "      <td>58ac16badd946dd35d147be5</td>\n",
       "      <td>2.0</td>\n",
       "      <td>2</td>\n",
       "      <td>3</td>\n",
       "      <td>Dornum</td>\n",
       "      <td>3089.866318</td>\n",
       "      <td>None</td>\n",
       "      <td>[]</td>\n",
       "      <td>{u'city': u'Dornum', u'loc': [53.6459028, 7.43...</td>\n",
       "      <td>5342860</td>\n",
       "      <td>...</td>\n",
       "      <td>Ganze Unterkunft</td>\n",
       "      <td>entire_home</td>\n",
       "      <td>#222B26</td>\n",
       "      <td>NaN</td>\n",
       "      <td>https://a0.muscache.com/im/pictures/66737623/4...</td>\n",
       "      <td>-1761007</td>\n",
       "      <td>{u'first_name': u'Melanie', u'picture_url': u'...</td>\n",
       "      <td>24692863</td>\n",
       "      <td>https://a0.muscache.com/im/pictures/66737623/4...</td>\n",
       "      <td>[https://a0.muscache.com/im/pictures/66737623/...</td>\n",
       "    </tr>\n",
       "    <tr>\n",
       "      <th>8</th>\n",
       "      <td>58ac16badd946dd35d147bf5</td>\n",
       "      <td>2.0</td>\n",
       "      <td>2</td>\n",
       "      <td>3</td>\n",
       "      <td>Dornum</td>\n",
       "      <td>3098.137343</td>\n",
       "      <td>None</td>\n",
       "      <td>[]</td>\n",
       "      <td>{u'city': u'Dornum', u'loc': [53.6459028, 7.43...</td>\n",
       "      <td>5460815</td>\n",
       "      <td>...</td>\n",
       "      <td>Ganze Unterkunft</td>\n",
       "      <td>entire_home</td>\n",
       "      <td>#40483B</td>\n",
       "      <td>NaN</td>\n",
       "      <td>https://a0.muscache.com/im/pictures/68118473/a...</td>\n",
       "      <td>-1761007</td>\n",
       "      <td>{u'first_name': u'Melanie', u'picture_url': u'...</td>\n",
       "      <td>24692863</td>\n",
       "      <td>https://a0.muscache.com/im/pictures/68118473/a...</td>\n",
       "      <td>[https://a0.muscache.com/im/pictures/68118473/...</td>\n",
       "    </tr>\n",
       "  </tbody>\n",
       "</table>\n",
       "<p>9 rows × 39 columns</p>\n",
       "</div>"
      ],
      "text/plain": [
       "                        _id  bathrooms  bedrooms  beds    city         dist  \\\n",
       "0  58ac16badd946dd35d147be9        1.0         3     3  Dornum   159.949776   \n",
       "1  58ac16badd946dd35d147c0f        2.0         3     4  Dornum   252.444474   \n",
       "2  58ac16badd946dd35d147c13        1.0         2     3  Dornum  1403.769869   \n",
       "3  58ac16badd946dd35d147bcf        1.0         1     3  Dornum  1603.017747   \n",
       "4  58ac16badd946dd35d147bbd        1.0         1     3  Dornum  1643.348852   \n",
       "5  58ac16badd946dd35d147bcd        1.0         2     4  Dornum  1823.142982   \n",
       "6  58ac16badd946dd35d147c03        1.0         2     3  Dornum  3042.095285   \n",
       "7  58ac16badd946dd35d147be5        2.0         2     3  Dornum  3089.866318   \n",
       "8  58ac16badd946dd35d147bf5        2.0         2     3  Dornum  3098.137343   \n",
       "\n",
       "  distance extra_host_languages  \\\n",
       "0     None                   []   \n",
       "1     None                   []   \n",
       "2     None                   []   \n",
       "3     None                   []   \n",
       "4     None                   []   \n",
       "5     None                   []   \n",
       "6     None                   []   \n",
       "7     None                   []   \n",
       "8     None                   []   \n",
       "\n",
       "                                           geography        id  \\\n",
       "0  {u'city': u'Dornum', u'loc': [53.6459028, 7.43...   9418724   \n",
       "1  {u'city': u'Dornum', u'loc': [53.6459028, 7.43...   5408490   \n",
       "2  {u'city': u'Dornum', u'loc': [53.6459028, 7.43...   5450067   \n",
       "3  {u'city': u'Dornum', u'loc': [53.6459028, 7.43...  14080554   \n",
       "4  {u'city': u'Dornum', u'loc': [53.6459028, 7.43...   2664718   \n",
       "5  {u'city': u'Dornum', u'loc': [53.6459028, 7.43...  15387901   \n",
       "6  {u'city': u'Dornum', u'loc': [53.6459028, 7.43...   5313473   \n",
       "7  {u'city': u'Dornum', u'loc': [53.6459028, 7.43...   5342860   \n",
       "8  {u'city': u'Dornum', u'loc': [53.6459028, 7.43...   5460815   \n",
       "\n",
       "                         ...                                 room_type  \\\n",
       "0                        ...                          Ganze Unterkunft   \n",
       "1                        ...                          Ganze Unterkunft   \n",
       "2                        ...                          Ganze Unterkunft   \n",
       "3                        ...                              Privatzimmer   \n",
       "4                        ...                          Ganze Unterkunft   \n",
       "5                        ...                          Ganze Unterkunft   \n",
       "6                        ...                          Ganze Unterkunft   \n",
       "7                        ...                          Ganze Unterkunft   \n",
       "8                        ...                          Ganze Unterkunft   \n",
       "\n",
       "  room_type_category scrim_color star_rating  \\\n",
       "0        entire_home     #86101E         NaN   \n",
       "1        entire_home     #45351C         NaN   \n",
       "2        entire_home     #7B4731         NaN   \n",
       "3       private_room     #2C3119         5.0   \n",
       "4        entire_home     #171518         4.5   \n",
       "5        entire_home     #302B27         NaN   \n",
       "6        entire_home     #54534E         NaN   \n",
       "7        entire_home     #222B26         NaN   \n",
       "8        entire_home     #40483B         NaN   \n",
       "\n",
       "                                       thumbnail_url       ufi  \\\n",
       "0  https://a0.muscache.com/im/pictures/f1abc8ec-e...  -1761007   \n",
       "1  https://a0.muscache.com/im/pictures/67515622/6...  -1761007   \n",
       "2  https://a0.muscache.com/im/pictures/67988981/d...  -1761007   \n",
       "3  https://a0.muscache.com/im/pictures/465e3c8e-e...  -1761007   \n",
       "4  https://a0.muscache.com/im/pictures/61513296/5...  -1761007   \n",
       "5  https://a0.muscache.com/im/pictures/bc33586e-d...  -1761007   \n",
       "6  https://a0.muscache.com/im/pictures/66380087/b...  -1761007   \n",
       "7  https://a0.muscache.com/im/pictures/66737623/4...  -1761007   \n",
       "8  https://a0.muscache.com/im/pictures/68118473/a...  -1761007   \n",
       "\n",
       "                                                user   user_id  \\\n",
       "0  {u'first_name': u'Melanie', u'picture_url': u'...  24692863   \n",
       "1  {u'first_name': u'Melanie', u'picture_url': u'...  24692863   \n",
       "2  {u'first_name': u'Melanie', u'picture_url': u'...  24692863   \n",
       "3  {u'first_name': u'Elisabeth', u'picture_url': ...  84478892   \n",
       "4  {u'first_name': u'Hildegard', u'picture_url': ...  13638564   \n",
       "5  {u'first_name': u'Klaus', u'picture_url': u'ht...  98376675   \n",
       "6  {u'first_name': u'Melanie', u'picture_url': u'...  24692863   \n",
       "7  {u'first_name': u'Melanie', u'picture_url': u'...  24692863   \n",
       "8  {u'first_name': u'Melanie', u'picture_url': u'...  24692863   \n",
       "\n",
       "                                      xl_picture_url  \\\n",
       "0  https://a0.muscache.com/im/pictures/f1abc8ec-e...   \n",
       "1  https://a0.muscache.com/im/pictures/67515622/6...   \n",
       "2  https://a0.muscache.com/im/pictures/67988981/d...   \n",
       "3  https://a0.muscache.com/im/pictures/465e3c8e-e...   \n",
       "4  https://a0.muscache.com/im/pictures/61513296/5...   \n",
       "5  https://a0.muscache.com/im/pictures/bc33586e-d...   \n",
       "6  https://a0.muscache.com/im/pictures/66380087/b...   \n",
       "7  https://a0.muscache.com/im/pictures/66737623/4...   \n",
       "8  https://a0.muscache.com/im/pictures/68118473/a...   \n",
       "\n",
       "                                     xl_picture_urls  \n",
       "0  [https://a0.muscache.com/im/pictures/f1abc8ec-...  \n",
       "1  [https://a0.muscache.com/im/pictures/67515622/...  \n",
       "2  [https://a0.muscache.com/im/pictures/67988981/...  \n",
       "3  [https://a0.muscache.com/im/pictures/465e3c8e-...  \n",
       "4  [https://a0.muscache.com/im/pictures/61513296/...  \n",
       "5  [https://a0.muscache.com/im/pictures/bc33586e-...  \n",
       "6  [https://a0.muscache.com/im/pictures/66380087/...  \n",
       "7  [https://a0.muscache.com/im/pictures/66737623/...  \n",
       "8  [https://a0.muscache.com/im/pictures/68118473/...  \n",
       "\n",
       "[9 rows x 39 columns]"
      ]
     },
     "execution_count": 104,
     "metadata": {},
     "output_type": "execute_result"
    }
   ],
   "source": [
    "\n",
    "listings = mongo.MongoClient(MONGO_URL).airbnb.listings\n",
    "\n",
    "pd.DataFrame(list(listings.aggregate([ \n",
    "                {\n",
    "                    '$geoNear':\n",
    "                    {\n",
    "                        'near':\n",
    "                        {\n",
    "                            'type': 'Point',\n",
    "                            'coordinates':[53.645903, 7.430451]\n",
    "                        },\n",
    "                        'spherical': True,\n",
    "                        'query': {},\n",
    "                        'maxDistance' : 5000,\n",
    "                        'distanceField':'dist',\n",
    "                    },\n",
    "                }\n",
    "    ])))"
   ]
  },
  {
   "cell_type": "markdown",
   "metadata": {},
   "source": [
    "## Additional problems in the data"
   ]
  },
  {
   "cell_type": "markdown",
   "metadata": {},
   "source": [
    "  - Cross field consistecy Postcode ork for Street and City. \n",
    "  - Have address always a housenumber in case ther is a street\n",
    "  - Handlingof P.O. boxes\n",
    "  - E-Mail address still valid\n",
    "  - Website still available\n",
    "  - Street names\n",
    "  - City names\n",
    "  - Phone number: In case we don't have the country how to get international format?"
   ]
  },
  {
   "cell_type": "code",
   "execution_count": null,
   "metadata": {
    "collapsed": true
   },
   "outputs": [],
   "source": []
  }
 ],
 "metadata": {
  "anaconda-cloud": {},
  "kernelspec": {
   "display_name": "Python [Root]",
   "language": "python",
   "name": "Python [Root]"
  },
  "language_info": {
   "codemirror_mode": {
    "name": "ipython",
    "version": 2
   },
   "file_extension": ".py",
   "mimetype": "text/x-python",
   "name": "python",
   "nbconvert_exporter": "python",
   "pygments_lexer": "ipython2",
   "version": "2.7.13"
  }
 },
 "nbformat": 4,
 "nbformat_minor": 0
}
