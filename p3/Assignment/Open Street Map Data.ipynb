{
 "cells": [
  {
   "cell_type": "markdown",
   "metadata": {},
   "source": [
    "# Udacity Data Analyst Project 3:  Wrangling Open Street Data"
   ]
  },
  {
   "cell_type": "markdown",
   "metadata": {},
   "source": [
    "_ by Jens Laufer _\n",
    "\n",
    "_ jenslaufer@gmail.com _\n",
    "\n",
    "_ Ph. +49-172-8443048 _"
   ]
  },
  {
   "cell_type": "markdown",
   "metadata": {},
   "source": [
    "## Introduction\n",
    "\n",
    "In this project I am importing XML Data from OpenStreetMap, auditing and wrangling this data and export it to MongoDB. Afterwards I am doing some analysis on the imported data.\n",
    "\n",
    "I selected the area of Ostfriesland in north eastern Germany, which is close to the north sea. Although I am not from there, I am interested in the area as I want to extend my AirBNB business and the area looks promising to me, as it is touristic and property prices are low. I got the insights about the area from google search data and data from the german realestate website [Immobilienscout24](http://immobilienscout24.de), but this is not part of the assigment. I am especially interesting in all data relating to lodging. \n",
    "\n",
    "![](img/map.png)"
   ]
  },
  {
   "cell_type": "markdown",
   "metadata": {},
   "source": [
    "I moved the code from the case study from the Udacity Data Analyst nanodegree course to a module called audit.py, which I am using within the scope of this assignment. The provided code for extracting parts of the big OSM file to a smaller file I moved to a module extractor."
   ]
  },
  {
   "cell_type": "code",
   "execution_count": 1,
   "metadata": {
    "collapsed": false
   },
   "outputs": [],
   "source": [
    "# python imports\n",
    "from collections import defaultdict\n",
    "import pprint\n",
    "import re\n",
    "import codecs\n",
    "import json\n",
    "import os\n",
    "import file_size_humanize as humanize\n",
    "import os.path as path\n",
    "import time\n",
    "import pymongo as mongo\n",
    "# this is the import of the code from the case study\n",
    "import audit\n",
    "#import of extractor with code provided from udacity \n",
    "import extractor"
   ]
  },
  {
   "cell_type": "code",
   "execution_count": 2,
   "metadata": {
    "collapsed": false
   },
   "outputs": [],
   "source": [
    "# some constants I am using \n",
    "OSM_URL = \"http://overpass-api.de/api/map?bbox=6.6309,53.4302,7.8291,53.8227\"\n",
    "OSM_FILE = \"ostfriesland.osm\" \n",
    "OSM_EXTRACT_FILE = \"{0}_extract.osm\".format(OSM_FILE[:OSM_FILE.find('.osm')])\n",
    "\n",
    "OSM_EXPORT_FILE = \"{0}.json\".format(OSM_FILE)\n",
    "\n",
    "MONGO_URL = 'mongodb://localhost:27017/'"
   ]
  },
  {
   "cell_type": "markdown",
   "metadata": {},
   "source": [
    "## Download of the dataset"
   ]
  },
  {
   "cell_type": "code",
   "execution_count": 3,
   "metadata": {
    "collapsed": false
   },
   "outputs": [],
   "source": [
    "# I stream the osm data with the overpass url for the box we want to use into a local file in case the file \n",
    "# does not exist already\n",
    "from urllib2 import urlopen\n",
    "\n",
    "if not path.exists(OSM_FILE):\n",
    "    response = urlopen(OSM_URL)\n",
    "    CHUNK = 16 * 1024\n",
    "    with open(OSM_FILE, 'wb') as f:\n",
    "        while True:\n",
    "            chunk = response.read(CHUNK)\n",
    "            if not chunk:\n",
    "                break\n",
    "            f.write(chunk)"
   ]
  },
  {
   "cell_type": "markdown",
   "metadata": {},
   "source": [
    "## Auditing of the data"
   ]
  },
  {
   "cell_type": "markdown",
   "metadata": {},
   "source": [
    "#### Auditing contact data"
   ]
  },
  {
   "cell_type": "code",
   "execution_count": 4,
   "metadata": {
    "collapsed": false,
    "scrolled": false
   },
   "outputs": [
    {
     "name": "stdout",
     "output_type": "stream",
     "text": [
      "Error parsing 0800 283 50000: (0) Missing or invalid default region.\n",
      "Error parsing 01622 11 90 66: (0) Missing or invalid default region.\n",
      "Error parsing 0173 - 292 21 90: (0) Missing or invalid default region.\n"
     ]
    }
   ],
   "source": [
    "invalid_phone, invalid_email, invalid_url = audit.audit_contact_data(OSM_FILE)"
   ]
  },
  {
   "cell_type": "code",
   "execution_count": 5,
   "metadata": {
    "collapsed": false
   },
   "outputs": [
    {
     "data": {
      "text/plain": [
       "['0800 283 50000', '01622 11 90 66', '0173 - 292 21 90']"
      ]
     },
     "execution_count": 5,
     "metadata": {},
     "output_type": "execute_result"
    }
   ],
   "source": [
    "invalid_phone"
   ]
  },
  {
   "cell_type": "code",
   "execution_count": 6,
   "metadata": {
    "collapsed": false
   },
   "outputs": [
    {
     "data": {
      "text/plain": [
       "[]"
      ]
     },
     "execution_count": 6,
     "metadata": {},
     "output_type": "execute_result"
    }
   ],
   "source": [
    "invalid_email"
   ]
  },
  {
   "cell_type": "code",
   "execution_count": 7,
   "metadata": {
    "collapsed": false
   },
   "outputs": [
    {
     "data": {
      "text/plain": [
       "['www.silvis-bungalow.de',\n",
       " 'www.haus-thomas.de',\n",
       " 'www.tuedelpott.de',\n",
       " 'www.hotel-cafecaro.de',\n",
       " 'www.hotel-westfalenhof.de']"
      ]
     },
     "execution_count": 7,
     "metadata": {},
     "output_type": "execute_result"
    }
   ],
   "source": [
    "invalid_url"
   ]
  },
  {
   "cell_type": "markdown",
   "metadata": {},
   "source": [
    "## Export of OSM to JSON and Import to MongoDB"
   ]
  },
  {
   "cell_type": "code",
   "execution_count": 8,
   "metadata": {
    "collapsed": false,
    "scrolled": false
   },
   "outputs": [
    {
     "data": {
      "text/plain": [
       "32.56599998474121"
      ]
     },
     "execution_count": 8,
     "metadata": {},
     "output_type": "execute_result"
    }
   ],
   "source": [
    "start = time.time()\n",
    "audit.process(OSM_FILE,OSM_EXPORT_FILE);\n",
    "(time.time() - start)\n"
   ]
  },
  {
   "cell_type": "markdown",
   "metadata": {},
   "source": [
    "We add an index on id to improve speed on upsert on the id field"
   ]
  },
  {
   "cell_type": "code",
   "execution_count": 9,
   "metadata": {
    "collapsed": false
   },
   "outputs": [
    {
     "data": {
      "text/plain": [
       "u'id_1'"
      ]
     },
     "execution_count": 9,
     "metadata": {},
     "output_type": "execute_result"
    }
   ],
   "source": [
    "\n",
    "nodes = mongo.MongoClient(MONGO_URL).osm.nodes\n",
    "nodes.create_index([(\"id\", mongo.ASCENDING)])\n"
   ]
  },
  {
   "cell_type": "code",
   "execution_count": 10,
   "metadata": {
    "collapsed": false
   },
   "outputs": [
    {
     "data": {
      "text/plain": [
       "203.05700016021729"
      ]
     },
     "execution_count": 10,
     "metadata": {},
     "output_type": "execute_result"
    }
   ],
   "source": [
    "start = time.time()\n",
    "os.system('mongoimport --quiet --upsertFields id --db osm --collection nodes --file {0}'.format(OSM_FILE+'.json'));\n",
    "(time.time() - start)\n"
   ]
  },
  {
   "cell_type": "markdown",
   "metadata": {},
   "source": [
    "### Addition of some indexes"
   ]
  },
  {
   "cell_type": "code",
   "execution_count": 11,
   "metadata": {
    "collapsed": false
   },
   "outputs": [],
   "source": [
    "nodes.create_index([(\"type\", mongo.ASCENDING)])\n",
    "nodes.create_index([(\"address.city\", mongo.ASCENDING)])\n",
    "\n",
    "nodes.create_index([(\"pos\", mongo.GEO2D)]);"
   ]
  },
  {
   "cell_type": "markdown",
   "metadata": {},
   "source": [
    "## Analysis of the data"
   ]
  },
  {
   "cell_type": "code",
   "execution_count": 12,
   "metadata": {
    "collapsed": false
   },
   "outputs": [
    {
     "data": {
      "text/plain": [
       "{'bounds': 1,\n",
       " 'member': 48150,\n",
       " 'meta': 1,\n",
       " 'nd': 878995,\n",
       " 'node': 724983,\n",
       " 'note': 1,\n",
       " 'osm': 1,\n",
       " 'relation': 877,\n",
       " 'tag': 346155,\n",
       " 'way': 103280}"
      ]
     },
     "execution_count": 12,
     "metadata": {},
     "output_type": "execute_result"
    }
   ],
   "source": [
    "audit.count_tags(OSM_FILE)"
   ]
  },
  {
   "cell_type": "code",
   "execution_count": 13,
   "metadata": {
    "collapsed": false
   },
   "outputs": [
    {
     "data": {
      "text/plain": [
       "'Filesize of ostfriesland.osm 155.29 MB'"
      ]
     },
     "execution_count": 13,
     "metadata": {},
     "output_type": "execute_result"
    }
   ],
   "source": [
    "# File size of the full osm file\n",
    "info = os.stat(OSM_FILE)\n",
    "\"Filesize of {0} {1}\".format(OSM_FILE, humanize.humansize(info.st_size))"
   ]
  },
  {
   "cell_type": "code",
   "execution_count": 14,
   "metadata": {
    "collapsed": false
   },
   "outputs": [
    {
     "data": {
      "text/plain": [
       "'Filesize of ostfriesland.osm.json 156.26 MB'"
      ]
     },
     "execution_count": 14,
     "metadata": {},
     "output_type": "execute_result"
    }
   ],
   "source": [
    "# File size of the full osm file\n",
    "info = os.stat(OSM_EXPORT_FILE)\n",
    "\"Filesize of {0} {1}\".format(OSM_EXPORT_FILE, humanize.humansize(info.st_size))"
   ]
  },
  {
   "cell_type": "code",
   "execution_count": 15,
   "metadata": {
    "collapsed": false
   },
   "outputs": [
    {
     "data": {
      "text/plain": [
       "'828259 Documents in MongoDB'"
      ]
     },
     "execution_count": 15,
     "metadata": {},
     "output_type": "execute_result"
    }
   ],
   "source": [
    "\"{} Documents in MongoDB\".format(nodes.find().count())"
   ]
  },
  {
   "cell_type": "code",
   "execution_count": 16,
   "metadata": {
    "collapsed": false
   },
   "outputs": [
    {
     "data": {
      "text/plain": [
       "[{u'_id': u'way', u'count': 103280}, {u'_id': u'node', u'count': 724979}]"
      ]
     },
     "execution_count": 16,
     "metadata": {},
     "output_type": "execute_result"
    }
   ],
   "source": [
    "list(nodes.aggregate([\n",
    "        {'$group':{'_id':'$type','count':{'$sum':1}}}\n",
    "    ]))"
   ]
  },
  {
   "cell_type": "markdown",
   "metadata": {},
   "source": [
    "Most of the documents are nodes."
   ]
  },
  {
   "cell_type": "code",
   "execution_count": 17,
   "metadata": {
    "collapsed": false
   },
   "outputs": [
    {
     "data": {
      "text/plain": [
       "'267 Documents with contact in MongoDB'"
      ]
     },
     "execution_count": 17,
     "metadata": {},
     "output_type": "execute_result"
    }
   ],
   "source": [
    "\"{} Documents with contact in MongoDB\".format(nodes.find({'contact':{'$exists':1}}).count())"
   ]
  },
  {
   "cell_type": "code",
   "execution_count": 18,
   "metadata": {
    "collapsed": false
   },
   "outputs": [
    {
     "data": {
      "text/plain": [
       "'179 Documents with contact.website in MongoDB'"
      ]
     },
     "execution_count": 18,
     "metadata": {},
     "output_type": "execute_result"
    }
   ],
   "source": [
    "\"{} Documents with contact.website in MongoDB\".format(nodes.find({'contact.website':{'$exists':1}}).count())"
   ]
  },
  {
   "cell_type": "markdown",
   "metadata": {},
   "source": [
    "I have the opportunity to invest in a house in the village of Dornum. I am interested how many accomodations are there:"
   ]
  },
  {
   "cell_type": "code",
   "execution_count": 19,
   "metadata": {
    "collapsed": false
   },
   "outputs": [
    {
     "data": {
      "text/plain": [
       "'179 Documents with contact.website in MongoDB'"
      ]
     },
     "execution_count": 19,
     "metadata": {},
     "output_type": "execute_result"
    }
   ],
   "source": [
    "\"{} Documents with contact.website in MongoDB\".format(nodes.find({'contact.website':{'$exists':1}}).count())"
   ]
  },
  {
   "cell_type": "markdown",
   "metadata": {},
   "source": [
    "## Additional problems in the data"
   ]
  },
  {
   "cell_type": "markdown",
   "metadata": {},
   "source": [
    "  - Cross field consistecy Postcode ork for Street and City. \n",
    "  - Have address always a housenumber in case ther is a street\n",
    "  - Handlingof P.O. boxes\n",
    "  - E-Mail address still valid\n",
    "  - Website still available\n",
    "  - Street names\n",
    "  - City names"
   ]
  },
  {
   "cell_type": "code",
   "execution_count": null,
   "metadata": {
    "collapsed": true
   },
   "outputs": [],
   "source": []
  }
 ],
 "metadata": {
  "anaconda-cloud": {},
  "kernelspec": {
   "display_name": "Python [Root]",
   "language": "python",
   "name": "Python [Root]"
  },
  "language_info": {
   "codemirror_mode": {
    "name": "ipython",
    "version": 2
   },
   "file_extension": ".py",
   "mimetype": "text/x-python",
   "name": "python",
   "nbconvert_exporter": "python",
   "pygments_lexer": "ipython2",
   "version": "2.7.13"
  }
 },
 "nbformat": 4,
 "nbformat_minor": 0
}
