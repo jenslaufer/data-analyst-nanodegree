{
 "cells": [
  {
   "cell_type": "markdown",
   "metadata": {},
   "source": [
    "# Udacity Data Analyst Project 3:  Wrangling Open Street Data"
   ]
  },
  {
   "cell_type": "markdown",
   "metadata": {},
   "source": [
    "_ by Jens Laufer _\n",
    "\n",
    "_ jenslaufer@gmail.com _\n"
   ]
  },
  {
   "cell_type": "markdown",
   "metadata": {},
   "source": [
    "## Introduction\n",
    "\n",
    "In this project I am importing XML Data from OpenStreetMap, auditing and wrangling this data and export it to MongoDB. Afterwards I am doing an analysis on the imported data.\n",
    "\n",
    "I selected the area of Ostfriesland in north eastern Germany, which is close to the north sea. Although I am not from there, I am interested in the area as I want to extend my Airbnb hosting business and the area looks promising to me, as it is touristic and property prices are low. I got these insights about the area from google search data and data from the german realestate website [Immobilienscout24](http://immobilienscout24.de), but this is not part of the assigment. I am especially interesting in all data related to lodging. \n",
    "\n",
    "![](img/map.png)"
   ]
  },
  {
   "cell_type": "markdown",
   "metadata": {},
   "source": [
    "I moved the code from the case study from the Udacity Data Analyst nanodegree course to a module called osm.py, which I am using within the scope of this assignment. I added some additional functions there e.g for auditing the contact data."
   ]
  },
  {
   "cell_type": "code",
   "execution_count": 1,
   "metadata": {
    "collapsed": false
   },
   "outputs": [],
   "source": [
    "# python imports\n",
    "import pandas as pd\n",
    "import numpy as np\n",
    "from collections import defaultdict\n",
    "import pprint\n",
    "import re\n",
    "import codecs\n",
    "import json\n",
    "import os\n",
    "import file_size_humanize as humanize\n",
    "import os.path as path\n",
    "import time\n",
    "from pprint import pprint\n",
    "import pymongo as mongo\n",
    "# this is the import of the code from the case study\n",
    "import osm"
   ]
  },
  {
   "cell_type": "code",
   "execution_count": 2,
   "metadata": {
    "collapsed": false
   },
   "outputs": [],
   "source": [
    "\"\"\"\n",
    "definition of constants which I am using in this notebook \n",
    "\"\"\"\n",
    "\n",
    "FORCE_IMPORT = True\n",
    "\n",
    "OSM_URL = \"http://overpass-api.de/api/map?bbox=6.6309,53.4302,7.8291,53.8227\"\n",
    "OSM_FILE = \"ostfriesland.osm\" \n",
    "OSM_EXPORT_FILE = \"{0}.json\".format(OSM_FILE)\n",
    "\n",
    "MONGO_URL = 'mongodb://localhost:27017/'"
   ]
  },
  {
   "cell_type": "markdown",
   "metadata": {},
   "source": [
    "## Download of the dataset"
   ]
  },
  {
   "cell_type": "code",
   "execution_count": 3,
   "metadata": {
    "collapsed": false
   },
   "outputs": [],
   "source": [
    "\"\"\"\n",
    "I stream the osm data with the overpass url for the box I want to use into a local file in case the file does not already exist\n",
    "\"\"\"\n",
    "from urllib2 import urlopen\n",
    "\n",
    "if not path.exists(OSM_FILE):\n",
    "    response = urlopen(OSM_URL)\n",
    "    CHUNK = 16 * 1024\n",
    "    with open(OSM_FILE, 'wb') as f:\n",
    "        while True:\n",
    "            chunk = response.read(CHUNK)\n",
    "            if not chunk:\n",
    "                break\n",
    "            f.write(chunk)"
   ]
  },
  {
   "cell_type": "markdown",
   "metadata": {},
   "source": [
    "## Auditing of the data"
   ]
  },
  {
   "cell_type": "markdown",
   "metadata": {},
   "source": [
    "#### Auditing contact data\n",
    "\n",
    "I am auditing the contact data. Therefore I created a audit_contact_data in the osm module, which checks email address and URLs against regular expressions. For the phonenumber I am using a port of [Google's libphonenumber for python](https://github.com/daviddrysdale/python-phonenumbers) to test for phonenumber validity."
   ]
  },
  {
   "cell_type": "code",
   "execution_count": 4,
   "metadata": {
    "collapsed": false,
    "scrolled": false
   },
   "outputs": [
    {
     "name": "stdout",
     "output_type": "stream",
     "text": [
      "Error parsing 0800 283 50000: (0) Missing or invalid default region.\n",
      "Error parsing 01622 11 90 66: (0) Missing or invalid default region.\n",
      "Error parsing 0173 - 292 21 90: (0) Missing or invalid default region.\n"
     ]
    }
   ],
   "source": [
    "invalid_phone, invalid_email, invalid_url = osm.audit_contact_data(OSM_FILE)"
   ]
  },
  {
   "cell_type": "code",
   "execution_count": 5,
   "metadata": {
    "collapsed": false
   },
   "outputs": [
    {
     "data": {
      "text/plain": [
       "['0800 283 50000', '01622 11 90 66', '0173 - 292 21 90']"
      ]
     },
     "execution_count": 5,
     "metadata": {},
     "output_type": "execute_result"
    }
   ],
   "source": [
    "invalid_phone"
   ]
  },
  {
   "cell_type": "code",
   "execution_count": 6,
   "metadata": {
    "collapsed": false
   },
   "outputs": [
    {
     "data": {
      "text/plain": [
       "[]"
      ]
     },
     "execution_count": 6,
     "metadata": {},
     "output_type": "execute_result"
    }
   ],
   "source": [
    "invalid_email"
   ]
  },
  {
   "cell_type": "code",
   "execution_count": null,
   "metadata": {
    "collapsed": false
   },
   "outputs": [
    {
     "data": {
      "text/plain": [
       "['www.silvis-bungalow.de',\n",
       " 'www.haus-thomas.de',\n",
       " 'www.tuedelpott.de',\n",
       " 'www.hotel-cafecaro.de',\n",
       " 'www.hotel-westfalenhof.de']"
      ]
     },
     "execution_count": 7,
     "metadata": {},
     "output_type": "execute_result"
    }
   ],
   "source": [
    "invalid_url"
   ]
  },
  {
   "cell_type": "markdown",
   "metadata": {},
   "source": [
    "I need to fix this problematic data, before exporting the data to MongoDB."
   ]
  },
  {
   "cell_type": "markdown",
   "metadata": {},
   "source": [
    "## Export of OSM to JSON and Import to MongoDB"
   ]
  },
  {
   "cell_type": "markdown",
   "metadata": {},
   "source": [
    "I am extracting the data I am interested to, fixing the problematic data entries and export it to JSON for the MongoDB import."
   ]
  },
  {
   "cell_type": "code",
   "execution_count": null,
   "metadata": {
    "collapsed": false,
    "scrolled": false
   },
   "outputs": [],
   "source": [
    "start = time.time()\n",
    "\n",
    "if FORCE_IMPORT:\n",
    "    osm.process(OSM_FILE,OSM_EXPORT_FILE);\n",
    "    \n",
    "time.time() - start"
   ]
  },
  {
   "cell_type": "markdown",
   "metadata": {},
   "source": [
    "I am adding an index on the 'id' field to improve speed on the upserts"
   ]
  },
  {
   "cell_type": "code",
   "execution_count": null,
   "metadata": {
    "collapsed": false
   },
   "outputs": [],
   "source": [
    "nodes = mongo.MongoClient(MONGO_URL).osm.nodes\n",
    "nodes.create_index([(\"id\", mongo.ASCENDING)]);\n"
   ]
  },
  {
   "cell_type": "code",
   "execution_count": null,
   "metadata": {
    "collapsed": false
   },
   "outputs": [],
   "source": [
    "\"\"\"\n",
    "I am using the command line mongoimport\n",
    "\"\"\"\n",
    "start = time.time()\n",
    "\n",
    "if FORCE_IMPORT:\n",
    "    os.system('mongoimport --quiet --upsertFields id --db osm --collection nodes --file {0}'.format(OSM_EXPORT_FILE));\n",
    "    \n",
    "time.time() - start"
   ]
  },
  {
   "cell_type": "markdown",
   "metadata": {},
   "source": [
    "#### Addition of some indexes"
   ]
  },
  {
   "cell_type": "code",
   "execution_count": null,
   "metadata": {
    "collapsed": false
   },
   "outputs": [],
   "source": [
    "nodes.create_index([(\"type\", mongo.ASCENDING)])\n",
    "nodes.create_index([(\"address.city\", mongo.ASCENDING)])\n",
    "nodes.create_index([(\"pos\", mongo.GEOSPHERE)]);"
   ]
  },
  {
   "cell_type": "markdown",
   "metadata": {},
   "source": [
    "## Overview of the Data"
   ]
  },
  {
   "cell_type": "markdown",
   "metadata": {},
   "source": [
    "#### Tags in OSM file"
   ]
  },
  {
   "cell_type": "code",
   "execution_count": null,
   "metadata": {
    "collapsed": false
   },
   "outputs": [],
   "source": [
    "pprint(osm.count_tags(OSM_FILE))"
   ]
  },
  {
   "cell_type": "markdown",
   "metadata": {},
   "source": [
    "#### File sizes"
   ]
  },
  {
   "cell_type": "code",
   "execution_count": null,
   "metadata": {
    "collapsed": false
   },
   "outputs": [],
   "source": [
    "# File size of the full osm file\n",
    "info = os.stat(OSM_FILE)\n",
    "\"Filesize of {0} {1}\".format(OSM_FILE, humanize.humansize(info.st_size))"
   ]
  },
  {
   "cell_type": "code",
   "execution_count": null,
   "metadata": {
    "collapsed": false
   },
   "outputs": [],
   "source": [
    "# File size of the full osm file\n",
    "info = os.stat(OSM_EXPORT_FILE)\n",
    "\"Filesize of {0} {1}\".format(OSM_EXPORT_FILE, humanize.humansize(info.st_size))"
   ]
  },
  {
   "cell_type": "markdown",
   "metadata": {},
   "source": [
    "#### Number of documents in the database"
   ]
  },
  {
   "cell_type": "code",
   "execution_count": null,
   "metadata": {
    "collapsed": false
   },
   "outputs": [],
   "source": [
    "\"{} Documents in MongoDB\".format(nodes.find().count())"
   ]
  },
  {
   "cell_type": "markdown",
   "metadata": {},
   "source": [
    "#### Example document in MongoDB"
   ]
  },
  {
   "cell_type": "code",
   "execution_count": null,
   "metadata": {
    "collapsed": false
   },
   "outputs": [],
   "source": [
    "pprint(nodes.find_one({ \"contact.phone\": { '$exists': 1 }, \"contact.fax\": { '$exists': 1 }, \n",
    "            \"contact.website\": { '$exists': 1 }, \"address.street\": { '$exists': 1 }, \n",
    "            \"address.city\": { '$exists': 1 } }))"
   ]
  },
  {
   "cell_type": "markdown",
   "metadata": {},
   "source": [
    "#### Document types"
   ]
  },
  {
   "cell_type": "code",
   "execution_count": null,
   "metadata": {
    "collapsed": false
   },
   "outputs": [],
   "source": [
    "pd.DataFrame(list(nodes.aggregate([\n",
    "        {'$group':{'_id':'$type','count':{'$sum':1}}}\n",
    "    ])))"
   ]
  },
  {
   "cell_type": "markdown",
   "metadata": {},
   "source": [
    "#### Documents with contact data"
   ]
  },
  {
   "cell_type": "code",
   "execution_count": null,
   "metadata": {
    "collapsed": false
   },
   "outputs": [],
   "source": [
    "\"{} Documents with contact in MongoDB\".format(nodes.find({'contact':{'$exists':1}}).count())"
   ]
  },
  {
   "cell_type": "markdown",
   "metadata": {},
   "source": [
    "#### Documents with address data"
   ]
  },
  {
   "cell_type": "code",
   "execution_count": null,
   "metadata": {
    "collapsed": false
   },
   "outputs": [],
   "source": [
    "\"{} Documents with address in MongoDB\".format(nodes.find({'address':{'$exists':1}}).count())"
   ]
  },
  {
   "cell_type": "markdown",
   "metadata": {},
   "source": [
    "#### Test Fixing of problematic data"
   ]
  },
  {
   "cell_type": "markdown",
   "metadata": {},
   "source": [
    "I am checking if my code for importing data fixed the problematic phone numbers and URLs."
   ]
  },
  {
   "cell_type": "code",
   "execution_count": null,
   "metadata": {
    "collapsed": false
   },
   "outputs": [],
   "source": [
    "assert nodes.find({'contact.phone':{'$in':invalid_phone}}).count() == 0"
   ]
  },
  {
   "cell_type": "code",
   "execution_count": null,
   "metadata": {
    "collapsed": false
   },
   "outputs": [],
   "source": [
    "nodes.find({'contact.phone':{'$in':['+49 800 28350000', '+49 162 2119066', '+49 173 2922190']}}).count()"
   ]
  },
  {
   "cell_type": "code",
   "execution_count": null,
   "metadata": {
    "collapsed": false
   },
   "outputs": [],
   "source": [
    "assert nodes.find({'contact.website':{'$in':invalid_url}}).count() == 0"
   ]
  },
  {
   "cell_type": "code",
   "execution_count": null,
   "metadata": {
    "collapsed": false
   },
   "outputs": [],
   "source": [
    "nodes.find({'contact.website':{'$in':\n",
    "['http://www.silvis-bungalow.de',\n",
    " 'http://www.haus-thomas.de',\n",
    " 'http://www.tuedelpott.de',\n",
    " 'http://www.hotel-cafecaro.de',\n",
    " 'http://www.hotel-westfalenhof.de']}}).count()"
   ]
  },
  {
   "cell_type": "markdown",
   "metadata": {},
   "source": [
    "All problematic contact data was fixed correctly."
   ]
  },
  {
   "cell_type": "markdown",
   "metadata": {},
   "source": [
    "#### Analysis of lodging data"
   ]
  },
  {
   "cell_type": "markdown",
   "metadata": {},
   "source": [
    "What type of touristic data is there?"
   ]
  },
  {
   "cell_type": "code",
   "execution_count": null,
   "metadata": {
    "collapsed": false
   },
   "outputs": [],
   "source": [
    "pd.DataFrame(list(nodes.aggregate([\n",
    "    {'$match': {'tourism': {'$exists': 1}}},\n",
    "    {'$group': {'_id': '$tourism', 'count': {'$sum': 1}}},\n",
    "    {'$sort': {'count': -1}}\n",
    "])))"
   ]
  },
  {
   "cell_type": "markdown",
   "metadata": {},
   "source": [
    "I am interested in the number of lodging facilities in the area:"
   ]
  },
  {
   "cell_type": "code",
   "execution_count": null,
   "metadata": {
    "collapsed": false
   },
   "outputs": [],
   "source": [
    "pd.DataFrame(list(nodes.aggregate([\n",
    "    {'$match': {'tourism': {'$in': ['bed_and_breakfast', 'motel',\n",
    "                                    'apartment', 'hostel', 'guest_house', 'chalet', 'hotel']}}},\n",
    "    {'$group': {'_id': '$tourism', 'count': {'$sum': 1}}},\n",
    "    {'$sort': {'count': -1}}\n",
    "])))"
   ]
  },
  {
   "cell_type": "markdown",
   "metadata": {},
   "source": [
    "There seems quiet a number of lodging facilities in the area. It would be interesting to compare these numbers with other areas to get an idea if these numbers are really high."
   ]
  },
  {
   "cell_type": "markdown",
   "metadata": {},
   "source": [
    "I am interested in buying a property in the village of Dornum, therefore I am interested how many lodging facilities there are:"
   ]
  },
  {
   "cell_type": "code",
   "execution_count": null,
   "metadata": {
    "collapsed": false
   },
   "outputs": [],
   "source": [
    "\n",
    "pd.DataFrame(list(nodes.aggregate(\n",
    "    [\n",
    "        {\n",
    "            '$geoNear':\n",
    "            {\n",
    "                'near':\n",
    "                {\n",
    "                    'type': 'Point',\n",
    "                            'coordinates': [53.645903, 7.430451]\n",
    "                },\n",
    "                'spherical': True,\n",
    "                'query': {\n",
    "                    'tourism': {'$in': ['bed_and_breakfast', 'motel', 'apartment', 'hostel', 'guest_house', 'chalet', 'hotel']}},\n",
    "                'maxDistance': 1500,\n",
    "                'distanceField':'dist',\n",
    "            },\n",
    "        }\n",
    "    ])))"
   ]
  },
  {
   "cell_type": "markdown",
   "metadata": {},
   "source": [
    "Let's check, if there are also holiday apartments on Airbnb in Dornum. I am using data I scraped from Airbnb for that:"
   ]
  },
  {
   "cell_type": "code",
   "execution_count": null,
   "metadata": {
    "collapsed": false
   },
   "outputs": [],
   "source": [
    "\n",
    "listings = mongo.MongoClient(MONGO_URL).airbnb.listings\n",
    "\n",
    "pd.DataFrame(list(listings.aggregate([ \n",
    "                {\n",
    "                    '$geoNear':\n",
    "                    {\n",
    "                        'near':\n",
    "                        {\n",
    "                            'type': 'Point',\n",
    "                            'coordinates':[53.645903, 7.430451]\n",
    "                        },\n",
    "                        'spherical': True,\n",
    "                        'query': {},\n",
    "                        'maxDistance' : 1500,\n",
    "                        'distanceField':'dist',\n",
    "                    },\n",
    "                }\n",
    "    ])))[['name', 'public_address', 'dist', 'loc']]"
   ]
  },
  {
   "cell_type": "markdown",
   "metadata": {},
   "source": [
    "How many nights of these holiday apartments are booked out the next months and what is the average price per night:"
   ]
  },
  {
   "cell_type": "code",
   "execution_count": null,
   "metadata": {
    "collapsed": false
   },
   "outputs": [],
   "source": [
    "\n",
    "dates = mongo.MongoClient(MONGO_URL).airbnb.dates\n",
    "\n",
    "pd.DataFrame(list(dates.aggregate([\n",
    "    {\n",
    "        '$geoNear':\n",
    "        {\n",
    "            'near':\n",
    "            {\n",
    "                'type': 'Point',\n",
    "                'coordinates': [53.645903, 7.430451]\n",
    "            },\n",
    "            'spherical': True,\n",
    "            'query': {},\n",
    "            'maxDistance': 1500,\n",
    "            'distanceField': 'dist',\n",
    "            'limit': 1000000\n",
    "        },\n",
    "    },\n",
    "    {\n",
    "        '$group':\n",
    "        {\n",
    "            '_id': 'availability',\n",
    "            \"total\": {'$sum': 1},\n",
    "            \"avg_price_per_night\": {'$avg': '$price.native_price'},\n",
    "            \"available\":\n",
    "            {\n",
    "                \"$sum\": {\"$cond\": [\"$available\", 1, 0]}\n",
    "            },\n",
    "            \"not_available\":\n",
    "            {\n",
    "                \"$sum\": {\"$cond\": [\"$available\", 0, 1]}\n",
    "            }\n",
    "        }\n",
    "    },\n",
    "    {\n",
    "        '$project':\n",
    "         {\n",
    "             '_id': '$_id',\n",
    "             'avg_price_per_night': '$avg_price_per_night',\n",
    "             'available': '$available',\n",
    "             'not_available': '$not_available',\n",
    "             'booking_ratio': {'$divide': ['$not_available', '$total']},\n",
    "             'est_gross_income': {'$multiply': [365, '$avg_price_per_night', {'$divide': ['$not_available', '$total']}]},\n",
    "         }\n",
    "    }\n",
    "])))\n"
   ]
  },
  {
   "cell_type": "markdown",
   "metadata": {},
   "source": [
    "### Conclusion"
   ]
  },
  {
   "cell_type": "markdown",
   "metadata": {},
   "source": [
    "My investment in the apartment seems quiet promising, as it's price is about €50.000 and my estimation for the gross income renting it out as holiday flat, based on average Dormum booking ratio and average price per night is about €19.000 per year.\n",
    "\n",
    "It is also quiet interesting that none of the holiday apartments from Airbnb is on Open Street Map, this fact might be a marketing opportunity, as I could place a node there and link it to my apartment on Airbnb."
   ]
  },
  {
   "cell_type": "markdown",
   "metadata": {},
   "source": [
    "## Other ideas about the datasets"
   ]
  },
  {
   "cell_type": "markdown",
   "metadata": {},
   "source": [
    "### Additional problems\n",
    "\n",
    "There might be other problems in the datasets that should be part of a further analysis"
   ]
  },
  {
   "cell_type": "markdown",
   "metadata": {},
   "source": [
    "  - Cross field consistency of Postcode, Street and City \n",
    "  - Does all addresses with a street have a house number?\n",
    "  - Handling of P.O. boxes\n",
    "  - Is the E-Mail address still valid?\n",
    "  - Is the Website still available?\n",
    "  - Is the Street name correct?\n",
    "  - Is the city name correct?\n",
    "  - Phone number: In case you don't have the country how can you get international format for the number?\n",
    "  - Phone number: Are the area code consistent with the city?"
   ]
  },
  {
   "cell_type": "markdown",
   "metadata": {
    "collapsed": true
   },
   "source": [
    "### Additional ideas\n",
    "\n",
    "It would be interesting to compare the data for the area with data from Google Maps. Google Maps does have a public Rest Api, so this would be possible."
   ]
  },
  {
   "cell_type": "code",
   "execution_count": null,
   "metadata": {
    "collapsed": true
   },
   "outputs": [],
   "source": []
  }
 ],
 "metadata": {
  "anaconda-cloud": {},
  "celltoolbar": "Raw Cell Format",
  "kernelspec": {
   "display_name": "Python 2",
   "language": "python",
   "name": "python2"
  },
  "language_info": {
   "codemirror_mode": {
    "name": "ipython",
    "version": 2
   },
   "file_extension": ".py",
   "mimetype": "text/x-python",
   "name": "python",
   "nbconvert_exporter": "python",
   "pygments_lexer": "ipython2",
   "version": "2.7.13"
  }
 },
 "nbformat": 4,
 "nbformat_minor": 0
}
