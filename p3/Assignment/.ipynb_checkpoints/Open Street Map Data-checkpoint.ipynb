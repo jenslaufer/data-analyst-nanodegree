{
 "cells": [
  {
   "cell_type": "markdown",
   "metadata": {},
   "source": [
    "# Udacity Data Analyst Project 3:  Wrangling Open Street Data"
   ]
  },
  {
   "cell_type": "markdown",
   "metadata": {},
   "source": [
    "_ by Jens Laufer _\n",
    "\n",
    "_ jenslaufer@gmail.com _\n",
    "\n",
    "_ Ph. +49-172-8443048 _"
   ]
  },
  {
   "cell_type": "markdown",
   "metadata": {},
   "source": [
    "## Introduction\n",
    "\n",
    "In this project I am importing XML Data from OpenStreetMap, auditing and wrangling this data and export it to MongoDB. Afterwards I am doing some analysis on the imported data.\n",
    "\n",
    "I selected the area of Ostfriesland in north eastern Germany, which is close to the north sea. Although I am not from there, I am interested in the area as I want to extend my AirBNB business and the area looks promising to me, as it is touristic and property prices are low. I got the insights about the area from google search data and data from the german realestate website [Immobilienscout24](http://immobilienscout24.de), but this is not part of the assigment. I am especially interesting in all data relating to lodging. \n",
    "\n",
    "![](img/map.png)"
   ]
  },
  {
   "cell_type": "markdown",
   "metadata": {},
   "source": [
    "I moved the code from the case study from the Udacity Data Analyst nanodegree course to a module called audit.py, which I am using within the scope of this assignment. The provided code for extracting parts of the big OSM file to a smaller file I moved to a module extractor."
   ]
  },
  {
   "cell_type": "code",
   "execution_count": 8,
   "metadata": {
    "collapsed": false
   },
   "outputs": [
    {
     "ename": "ImportError",
     "evalue": "No module named phonenumbers",
     "output_type": "error",
     "traceback": [
      "\u001b[1;31m---------------------------------------------------------------------------\u001b[0m",
      "\u001b[1;31mImportError\u001b[0m                               Traceback (most recent call last)",
      "\u001b[1;32m<ipython-input-8-738b05b7a784>\u001b[0m in \u001b[0;36m<module>\u001b[1;34m()\u001b[0m\n\u001b[0;32m     10\u001b[0m \u001b[1;32mimport\u001b[0m \u001b[0mtime\u001b[0m\u001b[1;33m\u001b[0m\u001b[0m\n\u001b[0;32m     11\u001b[0m \u001b[1;32mimport\u001b[0m \u001b[0mpymongo\u001b[0m \u001b[1;32mas\u001b[0m \u001b[0mmongo\u001b[0m\u001b[1;33m\u001b[0m\u001b[0m\n\u001b[1;32m---> 12\u001b[1;33m \u001b[1;32mimport\u001b[0m \u001b[0mphonenumbers\u001b[0m\u001b[1;33m\u001b[0m\u001b[0m\n\u001b[0m\u001b[0;32m     13\u001b[0m \u001b[1;31m# this is the import of the code from the case study\u001b[0m\u001b[1;33m\u001b[0m\u001b[1;33m\u001b[0m\u001b[0m\n\u001b[0;32m     14\u001b[0m \u001b[1;32mimport\u001b[0m \u001b[0maudit\u001b[0m\u001b[1;33m\u001b[0m\u001b[0m\n",
      "\u001b[1;31mImportError\u001b[0m: No module named phonenumbers"
     ]
    }
   ],
   "source": [
    "# python imports\n",
    "from collections import defaultdict\n",
    "import pprint\n",
    "import re\n",
    "import codecs\n",
    "import json\n",
    "import os\n",
    "import file_size_humanize as humanize\n",
    "import os.path as path\n",
    "import time\n",
    "import pymongo as mongo\n",
    "# this is the import of the code from the case study\n",
    "import audit\n",
    "#import of extractor with code provided from udacity \n",
    "import extractor"
   ]
  },
  {
   "cell_type": "code",
   "execution_count": 2,
   "metadata": {
    "collapsed": false
   },
   "outputs": [],
   "source": [
    "# some constants I am using \n",
    "OSM_URL = \"http://overpass-api.de/api/map?bbox=6.6309,53.4302,7.8291,53.8227\"\n",
    "OSM_FILE = \"ostfriesland.osm\" \n",
    "OSM_EXTRACT_FILE = \"{0}_extract.osm\".format(OSM_FILE[:OSM_FILE.find('.osm')])\n",
    "\n",
    "OSM_EXPORT_FILE = \"{0}.json\".format(OSM_FILE)\n",
    "\n",
    "MONGO_URL = 'mongodb://localhost:27017/'"
   ]
  },
  {
   "cell_type": "markdown",
   "metadata": {},
   "source": [
    "## Download of the dataset"
   ]
  },
  {
   "cell_type": "code",
   "execution_count": 3,
   "metadata": {
    "collapsed": false
   },
   "outputs": [],
   "source": [
    "# I stream the osm data with the overpass url for the box we want to use into a local file in case the file \n",
    "# does not exist already\n",
    "from urllib2 import urlopen\n",
    "\n",
    "if not path.exists(OSM_FILE):\n",
    "    response = urlopen(OSM_URL)\n",
    "    CHUNK = 16 * 1024\n",
    "    with open(OSM_FILE, 'wb') as f:\n",
    "        while True:\n",
    "            chunk = response.read(CHUNK)\n",
    "            if not chunk:\n",
    "                break\n",
    "            f.write(chunk)"
   ]
  },
  {
   "cell_type": "markdown",
   "metadata": {},
   "source": [
    "## Auditing of the data"
   ]
  },
  {
   "cell_type": "markdown",
   "metadata": {},
   "source": [
    "#### Auditing address data"
   ]
  },
  {
   "cell_type": "code",
   "execution_count": 4,
   "metadata": {
    "collapsed": false
   },
   "outputs": [],
   "source": [
    "invalid_phone, invalid_email, invalid_url = audit.audit_contact_data(OSM_FILE)"
   ]
  },
  {
   "cell_type": "code",
   "execution_count": 5,
   "metadata": {
    "collapsed": false
   },
   "outputs": [
    {
     "data": {
      "text/plain": [
       "['+49 (44 62) 92 25 23',\n",
       " '+49 (44 62) 92 25 20',\n",
       " '+49 (44 62) 92 20 56',\n",
       " '+49 (44 62) 55 11',\n",
       " '+49 (44 62) 9 46 99 37',\n",
       " '+49 (44 62) 2 34 04',\n",
       " '+49 (44 62) 92 39 28',\n",
       " '+49 (44 62) 2 33 54',\n",
       " '+49 (44 62) 2 33 55',\n",
       " '+49 4935 91 12 0002',\n",
       " '+49(0)4462/943781',\n",
       " '+49 (44 62) 56 39',\n",
       " '+49 4935 99 99 83 60',\n",
       " '+49 (44 62) 20 51 24',\n",
       " '+49 (44 62) 98 64 91',\n",
       " '+49 (44 62) 98 64 91',\n",
       " '+49 (44 62) 20 52 76',\n",
       " '+49 (44 62) 9 48 80',\n",
       " '+49 (44 62) 9 23 89 81',\n",
       " '+49 (44 62) 202 90 53',\n",
       " '+49 (44 62) 22 43',\n",
       " '+49 (4939) 410',\n",
       " '+49 (4939) 914010',\n",
       " '+49 4935 91 81 0',\n",
       " '+49 251 2 76 16 03',\n",
       " '+49 4935 806 0',\n",
       " '+49 4935 804-0',\n",
       " '+49-4931-9755117',\n",
       " '+49-4931-9755117',\n",
       " '+49-4931-9347611',\n",
       " '+49-4931-9563237',\n",
       " '+49 (44 62) 43 34',\n",
       " '+49 (0)4920-939004',\n",
       " '+49 (0)4920-569',\n",
       " '+49 (4974) 249',\n",
       " '0173 - 292 21 90']"
      ]
     },
     "execution_count": 5,
     "metadata": {},
     "output_type": "execute_result"
    }
   ],
   "source": [
    "invalid_phone"
   ]
  },
  {
   "cell_type": "code",
   "execution_count": 6,
   "metadata": {
    "collapsed": false
   },
   "outputs": [
    {
     "name": "stdout",
     "output_type": "stream",
     "text": [
      "info@küchenwerkstatt-juist.de\n",
      "info@üetra-juist.de\n",
      "immergrün.juist@t-online.de\n"
     ]
    }
   ],
   "source": [
    "invalid_email\n",
    "for email in invalid_email:\n",
    "    print email.encode('utf-8')"
   ]
  },
  {
   "cell_type": "code",
   "execution_count": 7,
   "metadata": {
    "collapsed": false
   },
   "outputs": [
    {
     "data": {
      "text/plain": [
       "['www.silvis-bungalow.de',\n",
       " 'www.haus-thomas.de',\n",
       " 'www.tuedelpott.de',\n",
       " 'www.hotel-cafecaro.de',\n",
       " 'www.hotel-westfalenhof.de']"
      ]
     },
     "execution_count": 7,
     "metadata": {},
     "output_type": "execute_result"
    }
   ],
   "source": [
    "invalid_url"
   ]
  },
  {
   "cell_type": "markdown",
   "metadata": {},
   "source": [
    "## Export of OSM to JSON and Import to MongoDB"
   ]
  },
  {
   "cell_type": "code",
   "execution_count": null,
   "metadata": {
    "collapsed": false,
    "scrolled": false
   },
   "outputs": [],
   "source": [
    "start = time.time()\n",
    "audit.process(OSM_FILE,OSM_EXPORT_FILE);\n",
    "(time.time() - start)\n"
   ]
  },
  {
   "cell_type": "markdown",
   "metadata": {},
   "source": [
    "We add an index on id to improve speed on upsert on the id field"
   ]
  },
  {
   "cell_type": "code",
   "execution_count": null,
   "metadata": {
    "collapsed": false
   },
   "outputs": [],
   "source": [
    "\n",
    "nodes = mongo.MongoClient(MONGO_URL).osm.nodes\n",
    "nodes.create_index([(\"id\", mongo.ASCENDING)])\n"
   ]
  },
  {
   "cell_type": "code",
   "execution_count": null,
   "metadata": {
    "collapsed": false
   },
   "outputs": [],
   "source": [
    "start = time.time()\n",
    "os.system('mongoimport --quiet --upsertFields id --db osm --collection nodes --file {0}'.format(OSM_FILE+'.json'));\n",
    "(time.time() - start)\n"
   ]
  },
  {
   "cell_type": "markdown",
   "metadata": {},
   "source": [
    "### Addition of some indexes"
   ]
  },
  {
   "cell_type": "code",
   "execution_count": null,
   "metadata": {
    "collapsed": false
   },
   "outputs": [],
   "source": [
    "nodes.create_index([(\"type\", mongo.ASCENDING)])\n",
    "nodes.create_index([(\"address.city\", mongo.ASCENDING)])\n",
    "\n",
    "nodes.create_index([(\"pos\", mongo.GEO2D)]);"
   ]
  },
  {
   "cell_type": "markdown",
   "metadata": {},
   "source": [
    "## Analysis of the data"
   ]
  },
  {
   "cell_type": "code",
   "execution_count": null,
   "metadata": {
    "collapsed": true
   },
   "outputs": [],
   "source": [
    "audit.count_tags(OSM_FILE)"
   ]
  },
  {
   "cell_type": "code",
   "execution_count": null,
   "metadata": {
    "collapsed": false
   },
   "outputs": [],
   "source": [
    "# File size of the full osm file\n",
    "info = os.stat(OSM_FILE)\n",
    "\"Filesize of {0} {1}\".format(OSM_FILE, humanize.humansize(info.st_size))"
   ]
  },
  {
   "cell_type": "code",
   "execution_count": null,
   "metadata": {
    "collapsed": false
   },
   "outputs": [],
   "source": [
    "# File size of the full osm file\n",
    "info = os.stat(OSM_EXPORT_FILE)\n",
    "\"Filesize of {0} {1}\".format(OSM_EXPORT_FILE, humanize.humansize(info.st_size))"
   ]
  },
  {
   "cell_type": "code",
   "execution_count": null,
   "metadata": {
    "collapsed": false
   },
   "outputs": [],
   "source": [
    "\"{} Documents in MongoDB\".format(nodes.find().count())"
   ]
  },
  {
   "cell_type": "code",
   "execution_count": null,
   "metadata": {
    "collapsed": false
   },
   "outputs": [],
   "source": [
    "list(nodes.aggregate([\n",
    "        {'$group':{'_id':'$type','count':{'$sum':1}}}\n",
    "    ]))"
   ]
  },
  {
   "cell_type": "markdown",
   "metadata": {},
   "source": [
    "Most of the documents are nodes."
   ]
  },
  {
   "cell_type": "code",
   "execution_count": null,
   "metadata": {
    "collapsed": false
   },
   "outputs": [],
   "source": [
    "\"{} Documents with contact in MongoDB\".format(nodes.find({'contact':{'$exists':1}}).count())"
   ]
  },
  {
   "cell_type": "code",
   "execution_count": null,
   "metadata": {
    "collapsed": false
   },
   "outputs": [],
   "source": [
    "\"{} Documents with contact.website in MongoDB\".format(nodes.find({'contact.website':{'$exists':1}}).count())"
   ]
  },
  {
   "cell_type": "markdown",
   "metadata": {},
   "source": [
    "I have the opportunity to invest in a house in the village of Dornum. I am interested how many accomodations are there:"
   ]
  },
  {
   "cell_type": "code",
   "execution_count": null,
   "metadata": {
    "collapsed": true
   },
   "outputs": [],
   "source": [
    "\"{} Documents with contact.website in MongoDB\".format(nodes.find({'contact.website':{'$exists':1}}).count())"
   ]
  },
  {
   "cell_type": "markdown",
   "metadata": {},
   "source": [
    "## Additional problems in the data"
   ]
  },
  {
   "cell_type": "markdown",
   "metadata": {},
   "source": [
    "  - Cross field consistecy Postcode ork for Street and City. \n",
    "  - Have address always a housenumber in case ther is a street\n",
    "  - Handlingof P.O. boxes\n",
    "  - E-Mail address still valid\n",
    "  - Website still available\n",
    "  - Street names\n",
    "  - City names"
   ]
  },
  {
   "cell_type": "code",
   "execution_count": null,
   "metadata": {
    "collapsed": true
   },
   "outputs": [],
   "source": []
  }
 ],
 "metadata": {
  "anaconda-cloud": {},
  "kernelspec": {
   "display_name": "Python [Root]",
   "language": "python",
   "name": "Python [Root]"
  },
  "language_info": {
   "codemirror_mode": {
    "name": "ipython",
    "version": 2
   },
   "file_extension": ".py",
   "mimetype": "text/x-python",
   "name": "python",
   "nbconvert_exporter": "python",
   "pygments_lexer": "ipython2",
   "version": "2.7.13"
  }
 },
 "nbformat": 4,
 "nbformat_minor": 0
}
