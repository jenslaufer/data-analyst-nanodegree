{
 "cells": [
  {
   "cell_type": "markdown",
   "metadata": {},
   "source": [
    "# Udacity Data Analyst Project 3:  Wrangling Open Street Data"
   ]
  },
  {
   "cell_type": "markdown",
   "metadata": {},
   "source": [
    "_ by Jens Laufer _\n",
    "\n",
    "_ jenslaufer@gmail.com _\n",
    "\n",
    "_ Ph. +49-172-8443048 _"
   ]
  },
  {
   "cell_type": "markdown",
   "metadata": {},
   "source": [
    "## Introduction\n",
    "\n",
    "In this project I am importing XML Data from OpenStreetMap, auditing and wrangling this data and export it to MongoDB. Afterwards I am doing some analysis on the imported data.\n",
    "\n",
    "I selected the area of Ostfriesland in north eastern Germany, which is close to the north sea. Although I am not from there, I am interested in the area as I want to extend my AirBNB business and the area looks promising to me, as it is touristic and property prices are low. I got the insights about the area from google search data and data from the german realestate website [Immobilienscout24](http://immobilienscout24.de), but this is not part of the assigment. I am especially interesting in all data relating to lodging. \n",
    "\n",
    "![](img/map.png)"
   ]
  },
  {
   "cell_type": "markdown",
   "metadata": {},
   "source": [
    "I moved the code from the case study from the Udacity Data Analyst nanodegree course to a module called osm.py, which I am using within the scope of this assignment. The provided code for extracting parts of the big OSM file to a smaller file I moved to a module extractor."
   ]
  },
  {
   "cell_type": "code",
   "execution_count": 20,
   "metadata": {
    "collapsed": false
   },
   "outputs": [],
   "source": [
    "# python imports\n",
    "from collections import defaultdict\n",
    "import pprint\n",
    "import re\n",
    "import codecs\n",
    "import json\n",
    "import os\n",
    "import file_size_humanize as humanize\n",
    "import os.path as path\n",
    "import time\n",
    "import pymongo as mongo\n",
    "# this is the import of the code from the case study\n",
    "import osm\n",
    "#import of extractor with code provided from udacity \n",
    "import extractor"
   ]
  },
  {
   "cell_type": "code",
   "execution_count": 21,
   "metadata": {
    "collapsed": false
   },
   "outputs": [],
   "source": [
    "# some constants I am using \n",
    "DO_IMPORT = True\n",
    "OSM_URL = \"http://overpass-api.de/api/map?bbox=6.6309,53.4302,7.8291,53.8227\"\n",
    "OSM_FILE = \"ostfriesland.osm\" \n",
    "OSM_EXTRACT_FILE = \"{0}_extract.osm\".format(OSM_FILE[:OSM_FILE.find('.osm')])\n",
    "\n",
    "OSM_EXPORT_FILE = \"{0}.json\".format(OSM_FILE)\n",
    "\n",
    "MONGO_URL = 'mongodb://localhost:27017/'"
   ]
  },
  {
   "cell_type": "markdown",
   "metadata": {},
   "source": [
    "## Download of the dataset"
   ]
  },
  {
   "cell_type": "code",
   "execution_count": 22,
   "metadata": {
    "collapsed": false
   },
   "outputs": [],
   "source": [
    "# I stream the osm data with the overpass url for the box we want to use into a local file in case the file \n",
    "# does not exist already\n",
    "from urllib2 import urlopen\n",
    "\n",
    "if not path.exists(OSM_FILE):\n",
    "    response = urlopen(OSM_URL)\n",
    "    CHUNK = 16 * 1024\n",
    "    with open(OSM_FILE, 'wb') as f:\n",
    "        while True:\n",
    "            chunk = response.read(CHUNK)\n",
    "            if not chunk:\n",
    "                break\n",
    "            f.write(chunk)"
   ]
  },
  {
   "cell_type": "markdown",
   "metadata": {},
   "source": [
    "## Auditing of the data"
   ]
  },
  {
   "cell_type": "markdown",
   "metadata": {},
   "source": [
    "#### Auditing contact data"
   ]
  },
  {
   "cell_type": "code",
   "execution_count": 23,
   "metadata": {
    "collapsed": false,
    "scrolled": false
   },
   "outputs": [
    {
     "name": "stdout",
     "output_type": "stream",
     "text": [
      "Error parsing 0800 283 50000: (0) Missing or invalid default region.\n",
      "Error parsing 01622 11 90 66: (0) Missing or invalid default region.\n",
      "Error parsing 0173 - 292 21 90: (0) Missing or invalid default region.\n"
     ]
    }
   ],
   "source": [
    "invalid_phone, invalid_email, invalid_url = osm.audit_contact_data(OSM_FILE)"
   ]
  },
  {
   "cell_type": "code",
   "execution_count": 24,
   "metadata": {
    "collapsed": false
   },
   "outputs": [
    {
     "data": {
      "text/plain": [
       "['0800 283 50000', '01622 11 90 66', '0173 - 292 21 90']"
      ]
     },
     "execution_count": 24,
     "metadata": {},
     "output_type": "execute_result"
    }
   ],
   "source": [
    "invalid_phone"
   ]
  },
  {
   "cell_type": "code",
   "execution_count": 25,
   "metadata": {
    "collapsed": false
   },
   "outputs": [
    {
     "data": {
      "text/plain": [
       "[]"
      ]
     },
     "execution_count": 25,
     "metadata": {},
     "output_type": "execute_result"
    }
   ],
   "source": [
    "invalid_email"
   ]
  },
  {
   "cell_type": "code",
   "execution_count": 26,
   "metadata": {
    "collapsed": false
   },
   "outputs": [
    {
     "data": {
      "text/plain": [
       "['www.silvis-bungalow.de',\n",
       " 'www.haus-thomas.de',\n",
       " 'www.tuedelpott.de',\n",
       " 'www.hotel-cafecaro.de',\n",
       " 'www.hotel-westfalenhof.de']"
      ]
     },
     "execution_count": 26,
     "metadata": {},
     "output_type": "execute_result"
    }
   ],
   "source": [
    "invalid_url"
   ]
  },
  {
   "cell_type": "markdown",
   "metadata": {},
   "source": [
    "## Export of OSM to JSON and Import to MongoDB"
   ]
  },
  {
   "cell_type": "code",
   "execution_count": 27,
   "metadata": {
    "collapsed": false,
    "scrolled": false
   },
   "outputs": [],
   "source": [
    "if DO_IMPORT:\n",
    "    start = time.time()\n",
    "    osm.process(OSM_FILE,OSM_EXPORT_FILE);\n",
    "    (time.time() - start)\n"
   ]
  },
  {
   "cell_type": "markdown",
   "metadata": {},
   "source": [
    "We add an index on id to improve speed on upsert on the id field"
   ]
  },
  {
   "cell_type": "code",
   "execution_count": 28,
   "metadata": {
    "collapsed": false
   },
   "outputs": [
    {
     "data": {
      "text/plain": [
       "u'id_1'"
      ]
     },
     "execution_count": 28,
     "metadata": {},
     "output_type": "execute_result"
    }
   ],
   "source": [
    "\n",
    "nodes = mongo.MongoClient(MONGO_URL).osm.nodes\n",
    "nodes.create_index([(\"id\", mongo.ASCENDING)])\n"
   ]
  },
  {
   "cell_type": "code",
   "execution_count": 29,
   "metadata": {
    "collapsed": false
   },
   "outputs": [],
   "source": [
    "if DO_IMPORT:\n",
    "    start = time.time()\n",
    "    os.system('mongoimport --quiet --upsertFields id --db osm --collection nodes --file {0}'.format(OSM_FILE+'.json'));\n",
    "    (time.time() - start)\n"
   ]
  },
  {
   "cell_type": "markdown",
   "metadata": {},
   "source": [
    "### Addition of some indexes"
   ]
  },
  {
   "cell_type": "code",
   "execution_count": 30,
   "metadata": {
    "collapsed": false
   },
   "outputs": [],
   "source": [
    "nodes.create_index([(\"type\", mongo.ASCENDING)])\n",
    "nodes.create_index([(\"address.city\", mongo.ASCENDING)])\n",
    "\n",
    "nodes.create_index([(\"pos\", mongo.GEO2D)]);"
   ]
  },
  {
   "cell_type": "markdown",
   "metadata": {},
   "source": [
    "## Analysis of the data"
   ]
  },
  {
   "cell_type": "code",
   "execution_count": 31,
   "metadata": {
    "collapsed": false
   },
   "outputs": [
    {
     "data": {
      "text/plain": [
       "{'bounds': 1,\n",
       " 'member': 48150,\n",
       " 'meta': 1,\n",
       " 'nd': 878995,\n",
       " 'node': 724983,\n",
       " 'note': 1,\n",
       " 'osm': 1,\n",
       " 'relation': 877,\n",
       " 'tag': 346155,\n",
       " 'way': 103280}"
      ]
     },
     "execution_count": 31,
     "metadata": {},
     "output_type": "execute_result"
    }
   ],
   "source": [
    "osm.count_tags(OSM_FILE)"
   ]
  },
  {
   "cell_type": "code",
   "execution_count": 32,
   "metadata": {
    "collapsed": false
   },
   "outputs": [
    {
     "data": {
      "text/plain": [
       "'Filesize of ostfriesland.osm 155.29 MB'"
      ]
     },
     "execution_count": 32,
     "metadata": {},
     "output_type": "execute_result"
    }
   ],
   "source": [
    "# File size of the full osm file\n",
    "info = os.stat(OSM_FILE)\n",
    "\"Filesize of {0} {1}\".format(OSM_FILE, humanize.humansize(info.st_size))"
   ]
  },
  {
   "cell_type": "code",
   "execution_count": 33,
   "metadata": {
    "collapsed": false
   },
   "outputs": [
    {
     "data": {
      "text/plain": [
       "'Filesize of ostfriesland.osm.json 156.26 MB'"
      ]
     },
     "execution_count": 33,
     "metadata": {},
     "output_type": "execute_result"
    }
   ],
   "source": [
    "# File size of the full osm file\n",
    "info = os.stat(OSM_EXPORT_FILE)\n",
    "\"Filesize of {0} {1}\".format(OSM_EXPORT_FILE, humanize.humansize(info.st_size))"
   ]
  },
  {
   "cell_type": "code",
   "execution_count": 34,
   "metadata": {
    "collapsed": false
   },
   "outputs": [
    {
     "data": {
      "text/plain": [
       "'828259 Documents in MongoDB'"
      ]
     },
     "execution_count": 34,
     "metadata": {},
     "output_type": "execute_result"
    }
   ],
   "source": [
    "\"{} Documents in MongoDB\".format(nodes.find().count())"
   ]
  },
  {
   "cell_type": "code",
   "execution_count": 35,
   "metadata": {
    "collapsed": false
   },
   "outputs": [
    {
     "data": {
      "text/plain": [
       "[{u'_id': u'way', u'count': 103280}, {u'_id': u'node', u'count': 724979}]"
      ]
     },
     "execution_count": 35,
     "metadata": {},
     "output_type": "execute_result"
    }
   ],
   "source": [
    "list(nodes.aggregate([\n",
    "        {'$group':{'_id':'$type','count':{'$sum':1}}}\n",
    "    ]))"
   ]
  },
  {
   "cell_type": "markdown",
   "metadata": {},
   "source": [
    "Most of the documents are nodes."
   ]
  },
  {
   "cell_type": "code",
   "execution_count": 36,
   "metadata": {
    "collapsed": false
   },
   "outputs": [
    {
     "data": {
      "text/plain": [
       "'267 Documents with contact in MongoDB'"
      ]
     },
     "execution_count": 36,
     "metadata": {},
     "output_type": "execute_result"
    }
   ],
   "source": [
    "\"{} Documents with contact in MongoDB\".format(nodes.find({'contact':{'$exists':1}}).count())"
   ]
  },
  {
   "cell_type": "code",
   "execution_count": 37,
   "metadata": {
    "collapsed": false
   },
   "outputs": [
    {
     "data": {
      "text/plain": [
       "'179 Documents with contact.website in MongoDB'"
      ]
     },
     "execution_count": 37,
     "metadata": {},
     "output_type": "execute_result"
    }
   ],
   "source": [
    "\"{} Documents with contact.website in MongoDB\".format(nodes.find({'contact.website':{'$exists':1}}).count())"
   ]
  },
  {
   "cell_type": "markdown",
   "metadata": {},
   "source": [
    "I have the opportunity to invest in a house in the village of Dornum. I am interested how many accomodations are there:"
   ]
  },
  {
   "cell_type": "code",
   "execution_count": 38,
   "metadata": {
    "collapsed": false
   },
   "outputs": [
    {
     "data": {
      "text/plain": [
       "'179 Documents with contact.website in MongoDB'"
      ]
     },
     "execution_count": 38,
     "metadata": {},
     "output_type": "execute_result"
    }
   ],
   "source": [
    "\"{} Documents with contact.website in MongoDB\".format(nodes.find({'contact.website':{'$exists':1}}).count())"
   ]
  },
  {
   "cell_type": "markdown",
   "metadata": {},
   "source": [
    "I am checking if my code for importing the fixed the problematic phone numbers and URLs."
   ]
  },
  {
   "cell_type": "code",
   "execution_count": 42,
   "metadata": {
    "collapsed": false
   },
   "outputs": [
    {
     "data": {
      "text/plain": [
       "0"
      ]
     },
     "execution_count": 42,
     "metadata": {},
     "output_type": "execute_result"
    }
   ],
   "source": [
    "nodes.find({'contact.phone':{'$in':['0800 283 50000', '01622 11 90 66', '0173 - 292 21 90']}}).count()"
   ]
  },
  {
   "cell_type": "code",
   "execution_count": 43,
   "metadata": {
    "collapsed": false
   },
   "outputs": [
    {
     "data": {
      "text/plain": [
       "3"
      ]
     },
     "execution_count": 43,
     "metadata": {},
     "output_type": "execute_result"
    }
   ],
   "source": [
    "nodes.find({'contact.phone':{'$in':['+49 800 28350000', '+49 162 2119066', '+49 173 2922190']}}).count()"
   ]
  },
  {
   "cell_type": "code",
   "execution_count": 44,
   "metadata": {
    "collapsed": false
   },
   "outputs": [
    {
     "data": {
      "text/plain": [
       "0"
      ]
     },
     "execution_count": 44,
     "metadata": {},
     "output_type": "execute_result"
    }
   ],
   "source": [
    "nodes.find({'contact.website':{'$in':\n",
    "['www.silvis-bungalow.de',\n",
    " 'www.haus-thomas.de',\n",
    " 'www.tuedelpott.de',\n",
    " 'www.hotel-cafecaro.de',\n",
    " 'www.hotel-westfalenhof.de']}}).count()"
   ]
  },
  {
   "cell_type": "code",
   "execution_count": 45,
   "metadata": {
    "collapsed": false
   },
   "outputs": [
    {
     "data": {
      "text/plain": [
       "5"
      ]
     },
     "execution_count": 45,
     "metadata": {},
     "output_type": "execute_result"
    }
   ],
   "source": [
    "nodes.find({'contact.website':{'$in':\n",
    "['http://www.silvis-bungalow.de',\n",
    " 'http://www.haus-thomas.de',\n",
    " 'http://www.tuedelpott.de',\n",
    " 'http://www.hotel-cafecaro.de',\n",
    " 'http://www.hotel-westfalenhof.de']}}).count()"
   ]
  },
  {
   "cell_type": "markdown",
   "metadata": {},
   "source": [
    "## Additional problems in the data"
   ]
  },
  {
   "cell_type": "markdown",
   "metadata": {},
   "source": [
    "  - Cross field consistecy Postcode ork for Street and City. \n",
    "  - Have address always a housenumber in case ther is a street\n",
    "  - Handlingof P.O. boxes\n",
    "  - E-Mail address still valid\n",
    "  - Website still available\n",
    "  - Street names\n",
    "  - City names\n",
    "  - Phone number: In case we don't have the country how to get international format?"
   ]
  },
  {
   "cell_type": "code",
   "execution_count": null,
   "metadata": {
    "collapsed": true
   },
   "outputs": [],
   "source": []
  }
 ],
 "metadata": {
  "anaconda-cloud": {},
  "kernelspec": {
   "display_name": "Python [Root]",
   "language": "python",
   "name": "Python [Root]"
  },
  "language_info": {
   "codemirror_mode": {
    "name": "ipython",
    "version": 2
   },
   "file_extension": ".py",
   "mimetype": "text/x-python",
   "name": "python",
   "nbconvert_exporter": "python",
   "pygments_lexer": "ipython2",
   "version": "2.7.13"
  }
 },
 "nbformat": 4,
 "nbformat_minor": 0
}
