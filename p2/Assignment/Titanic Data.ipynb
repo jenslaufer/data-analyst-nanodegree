{
 "cells": [
  {
   "cell_type": "markdown",
   "metadata": {},
   "source": [
    "# Titanic Data Investigation#\n",
    "\n",
    "_ by [Jens Laufer](mailto:jenslaufer@gmail.com) _\n",
    "\n",
    "12 January 2017"
   ]
  },
  {
   "cell_type": "markdown",
   "metadata": {},
   "source": [
    "## Introduction\n",
    "\n",
    "The Titanic was a british passenger line that sunk on his maiden voyage on 15 April 1912. \n",
    "\n",
    "At about 11 pm on Sunday 14 April 1912, the ship hit an iceberg and and sank about 2.5 hours later with the loss of almost 1500 lives. One of the reasons that the shipwreck led to such loss of life was that there were not enough lifeboats for the passengers and crew. \n",
    "\n",
    "Although tragedy was not the largest in history the disaster still fascinates the people today. This is due the fact that the ship was the largest and most luxurios ever build and was considered to be unsinkable. The wreck of the ship couldn't be found till 1985 and lies in 12,000 feet (3,700 m) below the surface. [1]\n",
    "\n",
    "Within this investigation I am using a dataset, I downloaded from [Kaggle](https://www.kaggle.com/mrisdal/titanic/exploring-survival-on-the-titanic). The dataset of study contains demographics and passenger information from 891 of the 2224 passengers and crew on board the Titanic. Based on the dataset I am trying to answer several questions."
   ]
  },
  {
   "cell_type": "markdown",
   "metadata": {},
   "source": [
    "## Questions on data ##\n",
    "\n",
    "   - Was it more likely to survive as woman or a child?\n",
    "   - Was ist more likely to survive as first class passenger, because of the socioeconomic status?\n",
    "   - Was ist more likely to survive on the different locations of embarkment?\n",
    "   - Was ist more like to survive as a family member or a person on his own?   \n",
    "   - Was ist more like to survive in different Age groups?   "
   ]
  },
  {
   "cell_type": "code",
   "execution_count": 328,
   "metadata": {
    "collapsed": false
   },
   "outputs": [],
   "source": [
    "# imports and creation of the dataframe with the titanic data\n",
    "%matplotlib inline\n",
    "import numpy as np\n",
    "import pandas as pd\n",
    "import seaborn as sns\n",
    "import matplotlib.pyplot as plt\n",
    "import statsmodels.stats.api as sms\n",
    "from scipy import stats\n",
    "\n",
    "sns.set(style=\"whitegrid\")\n",
    "\n",
    "filename = 'titanic-data.csv'\n",
    "titanic_df = pd.read_csv(filename)"
   ]
  },
  {
   "cell_type": "markdown",
   "metadata": {},
   "source": [
    "## About the dataset ##"
   ]
  },
  {
   "cell_type": "markdown",
   "metadata": {},
   "source": [
    "### Initial Structure of dataset ###"
   ]
  },
  {
   "cell_type": "markdown",
   "metadata": {},
   "source": [
    "|PassengerId|Survived|Pclass|Name|Sex|Age|SibSp|Parch|Ticket|Fare|Cabin|Embarked\n",
    "|-|-|-|-|-|-|-|-|-|-|-|\n",
    "|Passenger Id|Survival (0 = No; 1 = Yes)|Passenger Class (1 = 1st; 2 = 2nd; 3 = 3rd)|Name|Sex|Age|Number of Siblings/Spouses Aboard|Number of Parents/Children Aboard|Ticket Number|Passenger Fare|Cabin|Port of Embarkation (C = Cherbourg; Q = Queenstown; S = Southampton)"
   ]
  },
  {
   "cell_type": "markdown",
   "metadata": {},
   "source": [
    "#### Example data ####"
   ]
  },
  {
   "cell_type": "code",
   "execution_count": 329,
   "metadata": {
    "collapsed": false
   },
   "outputs": [
    {
     "data": {
      "text/html": [
       "<div>\n",
       "<table border=\"1\" class=\"dataframe\">\n",
       "  <thead>\n",
       "    <tr style=\"text-align: right;\">\n",
       "      <th></th>\n",
       "      <th>PassengerId</th>\n",
       "      <th>Survived</th>\n",
       "      <th>Pclass</th>\n",
       "      <th>Name</th>\n",
       "      <th>Sex</th>\n",
       "      <th>Age</th>\n",
       "      <th>SibSp</th>\n",
       "      <th>Parch</th>\n",
       "      <th>Ticket</th>\n",
       "      <th>Fare</th>\n",
       "      <th>Cabin</th>\n",
       "      <th>Embarked</th>\n",
       "    </tr>\n",
       "  </thead>\n",
       "  <tbody>\n",
       "    <tr>\n",
       "      <th>0</th>\n",
       "      <td>1</td>\n",
       "      <td>0</td>\n",
       "      <td>3</td>\n",
       "      <td>Braund, Mr. Owen Harris</td>\n",
       "      <td>male</td>\n",
       "      <td>22.0</td>\n",
       "      <td>1</td>\n",
       "      <td>0</td>\n",
       "      <td>A/5 21171</td>\n",
       "      <td>7.2500</td>\n",
       "      <td>NaN</td>\n",
       "      <td>S</td>\n",
       "    </tr>\n",
       "    <tr>\n",
       "      <th>1</th>\n",
       "      <td>2</td>\n",
       "      <td>1</td>\n",
       "      <td>1</td>\n",
       "      <td>Cumings, Mrs. John Bradley (Florence Briggs Th...</td>\n",
       "      <td>female</td>\n",
       "      <td>38.0</td>\n",
       "      <td>1</td>\n",
       "      <td>0</td>\n",
       "      <td>PC 17599</td>\n",
       "      <td>71.2833</td>\n",
       "      <td>C85</td>\n",
       "      <td>C</td>\n",
       "    </tr>\n",
       "    <tr>\n",
       "      <th>2</th>\n",
       "      <td>3</td>\n",
       "      <td>1</td>\n",
       "      <td>3</td>\n",
       "      <td>Heikkinen, Miss. Laina</td>\n",
       "      <td>female</td>\n",
       "      <td>26.0</td>\n",
       "      <td>0</td>\n",
       "      <td>0</td>\n",
       "      <td>STON/O2. 3101282</td>\n",
       "      <td>7.9250</td>\n",
       "      <td>NaN</td>\n",
       "      <td>S</td>\n",
       "    </tr>\n",
       "    <tr>\n",
       "      <th>3</th>\n",
       "      <td>4</td>\n",
       "      <td>1</td>\n",
       "      <td>1</td>\n",
       "      <td>Futrelle, Mrs. Jacques Heath (Lily May Peel)</td>\n",
       "      <td>female</td>\n",
       "      <td>35.0</td>\n",
       "      <td>1</td>\n",
       "      <td>0</td>\n",
       "      <td>113803</td>\n",
       "      <td>53.1000</td>\n",
       "      <td>C123</td>\n",
       "      <td>S</td>\n",
       "    </tr>\n",
       "    <tr>\n",
       "      <th>4</th>\n",
       "      <td>5</td>\n",
       "      <td>0</td>\n",
       "      <td>3</td>\n",
       "      <td>Allen, Mr. William Henry</td>\n",
       "      <td>male</td>\n",
       "      <td>35.0</td>\n",
       "      <td>0</td>\n",
       "      <td>0</td>\n",
       "      <td>373450</td>\n",
       "      <td>8.0500</td>\n",
       "      <td>NaN</td>\n",
       "      <td>S</td>\n",
       "    </tr>\n",
       "  </tbody>\n",
       "</table>\n",
       "</div>"
      ],
      "text/plain": [
       "   PassengerId  Survived  Pclass  \\\n",
       "0            1         0       3   \n",
       "1            2         1       1   \n",
       "2            3         1       3   \n",
       "3            4         1       1   \n",
       "4            5         0       3   \n",
       "\n",
       "                                                Name     Sex   Age  SibSp  \\\n",
       "0                            Braund, Mr. Owen Harris    male  22.0      1   \n",
       "1  Cumings, Mrs. John Bradley (Florence Briggs Th...  female  38.0      1   \n",
       "2                             Heikkinen, Miss. Laina  female  26.0      0   \n",
       "3       Futrelle, Mrs. Jacques Heath (Lily May Peel)  female  35.0      1   \n",
       "4                           Allen, Mr. William Henry    male  35.0      0   \n",
       "\n",
       "   Parch            Ticket     Fare Cabin Embarked  \n",
       "0      0         A/5 21171   7.2500   NaN        S  \n",
       "1      0          PC 17599  71.2833   C85        C  \n",
       "2      0  STON/O2. 3101282   7.9250   NaN        S  \n",
       "3      0            113803  53.1000  C123        S  \n",
       "4      0            373450   8.0500   NaN        S  "
      ]
     },
     "execution_count": 329,
     "metadata": {},
     "output_type": "execute_result"
    }
   ],
   "source": [
    "titanic_df.head()"
   ]
  },
  {
   "cell_type": "markdown",
   "metadata": {},
   "source": [
    "##  Data Analysis: Data Cleaning and Wrangling ##"
   ]
  },
  {
   "cell_type": "code",
   "execution_count": 330,
   "metadata": {
    "collapsed": false
   },
   "outputs": [
    {
     "data": {
      "text/plain": [
       "PassengerId    891\n",
       "Survived       891\n",
       "Pclass         891\n",
       "Name           891\n",
       "Sex            891\n",
       "Age            714\n",
       "SibSp          891\n",
       "Parch          891\n",
       "Ticket         891\n",
       "Fare           891\n",
       "Cabin          204\n",
       "Embarked       889\n",
       "dtype: int64"
      ]
     },
     "execution_count": 330,
     "metadata": {},
     "output_type": "execute_result"
    }
   ],
   "source": [
    "titanic_df.count()"
   ]
  },
  {
   "cell_type": "markdown",
   "metadata": {},
   "source": [
    "I found out that data is missing in some columns:\n",
    "\n",
    "Not for all passengers the 'Age' is available\n",
    "\n",
    "Not for all passengers 'Cabin' available.\n",
    "\n",
    "Not for all passengers 'Embarked' is available."
   ]
  },
  {
   "cell_type": "markdown",
   "metadata": {},
   "source": [
    "### Dealing with missing Age"
   ]
  },
  {
   "cell_type": "markdown",
   "metadata": {},
   "source": [
    "I am filling the missing ages with the mean age of the passenger's class and gender."
   ]
  },
  {
   "cell_type": "code",
   "execution_count": 331,
   "metadata": {
    "collapsed": false,
    "scrolled": false
   },
   "outputs": [],
   "source": [
    "# we add the mean of the Age for all missing ages\n",
    "def fill_na_ages(row):\n",
    "    age = row['Age']\n",
    "    sex = row['Sex']\n",
    "    p_class = row['Pclass']\n",
    "    if age != age:\n",
    "        return titanic_df.groupby(['Sex','Pclass'])['Age'].mean()[sex, p_class]\n",
    "    else:\n",
    "        return age\n",
    "\n",
    "titanic_df['Age'] = titanic_df.apply(fill_na_ages, axis=1)"
   ]
  },
  {
   "cell_type": "markdown",
   "metadata": {},
   "source": [
    "### Dealing with missing Cabin Data"
   ]
  },
  {
   "cell_type": "markdown",
   "metadata": {},
   "source": [
    "I am not interested in the exact cabin passengers stayed in, I am rather interested on which deck they had been on the ship.\n",
    "The first letter of the cabin indicates the deck the cabin was on. I am extracting this deck information and creating a new dataframe with just the deck for each passenger the deck is available for. I am using a second dataframe as there are much less cabin/deck entries than for other fields in the main dataset. Therefore I want to seperate it from the main dataset. "
   ]
  },
  {
   "cell_type": "code",
   "execution_count": 332,
   "metadata": {
    "collapsed": false
   },
   "outputs": [],
   "source": [
    "def get_deck(cabin):\n",
    "    if cabin == cabin:\n",
    "        return cabin[0:1]\n",
    "    return cabin\n",
    "deck_titanic_df = pd.DataFrame(titanic_df['PassengerId'])\n",
    "deck_titanic_df['Deck'] = titanic_df.Cabin.apply(get_deck)\n",
    "deck_titanic_df = deck_titanic_df.dropna(subset=['Deck'])"
   ]
  },
  {
   "cell_type": "code",
   "execution_count": 333,
   "metadata": {
    "collapsed": false
   },
   "outputs": [
    {
     "data": {
      "text/plain": [
       "Deck\n",
       "A    15\n",
       "B    47\n",
       "C    59\n",
       "D    33\n",
       "E    32\n",
       "F    13\n",
       "G     4\n",
       "T     1\n",
       "Name: Deck, dtype: int64"
      ]
     },
     "execution_count": 333,
     "metadata": {},
     "output_type": "execute_result"
    }
   ],
   "source": [
    "deck_titanic_df.groupby('Deck').Deck.count()"
   ]
  },
  {
   "cell_type": "code",
   "execution_count": 334,
   "metadata": {
    "collapsed": false
   },
   "outputs": [
    {
     "data": {
      "text/html": [
       "<div>\n",
       "<table border=\"1\" class=\"dataframe\">\n",
       "  <thead>\n",
       "    <tr style=\"text-align: right;\">\n",
       "      <th></th>\n",
       "      <th>PassengerId</th>\n",
       "      <th>Deck</th>\n",
       "      <th>Survived</th>\n",
       "      <th>Pclass</th>\n",
       "      <th>Name</th>\n",
       "      <th>Sex</th>\n",
       "      <th>Age</th>\n",
       "      <th>SibSp</th>\n",
       "      <th>Parch</th>\n",
       "      <th>Ticket</th>\n",
       "      <th>Fare</th>\n",
       "      <th>Cabin</th>\n",
       "      <th>Embarked</th>\n",
       "    </tr>\n",
       "  </thead>\n",
       "  <tbody>\n",
       "    <tr>\n",
       "      <th>78</th>\n",
       "      <td>340</td>\n",
       "      <td>T</td>\n",
       "      <td>0</td>\n",
       "      <td>1</td>\n",
       "      <td>Blackwell, Mr. Stephen Weart</td>\n",
       "      <td>male</td>\n",
       "      <td>45.0</td>\n",
       "      <td>0</td>\n",
       "      <td>0</td>\n",
       "      <td>113784</td>\n",
       "      <td>35.5</td>\n",
       "      <td>T</td>\n",
       "      <td>S</td>\n",
       "    </tr>\n",
       "  </tbody>\n",
       "</table>\n",
       "</div>"
      ],
      "text/plain": [
       "    PassengerId Deck  Survived  Pclass                          Name   Sex  \\\n",
       "78          340    T         0       1  Blackwell, Mr. Stephen Weart  male   \n",
       "\n",
       "     Age  SibSp  Parch  Ticket  Fare Cabin Embarked  \n",
       "78  45.0      0      0  113784  35.5     T        S  "
      ]
     },
     "execution_count": 334,
     "metadata": {},
     "output_type": "execute_result"
    }
   ],
   "source": [
    "deck_titanic_df.merge(titanic_df, on='PassengerId', how='inner')[deck_titanic_df.merge(titanic_df, on='PassengerId', how='inner').Deck == 'T']"
   ]
  },
  {
   "cell_type": "markdown",
   "metadata": {},
   "source": [
    "There might be a problem with the decks, as there is just one entry for deck 'T'. \n",
    "\n",
    "I researched the web and found out that the Deck 'T' was the boat deck. There was only one single first class cabin on this deck next to the lifeboats. This cabins seems a very special cabin therefore I am deleting the entry.\n",
    "\n",
    "[Titanic Cabins](https://www.encyclopedia-titanica.org/cabins.html)"
   ]
  },
  {
   "cell_type": "code",
   "execution_count": 335,
   "metadata": {
    "collapsed": false
   },
   "outputs": [],
   "source": [
    "deck_titanic_df = deck_titanic_df[deck_titanic_df.Deck != 'T']"
   ]
  },
  {
   "cell_type": "markdown",
   "metadata": {},
   "source": [
    "### Dealing with missing Embarkments"
   ]
  },
  {
   "cell_type": "markdown",
   "metadata": {},
   "source": [
    "I am checking where embarkment is missing:"
   ]
  },
  {
   "cell_type": "code",
   "execution_count": 336,
   "metadata": {
    "collapsed": false
   },
   "outputs": [
    {
     "data": {
      "text/html": [
       "<div>\n",
       "<table border=\"1\" class=\"dataframe\">\n",
       "  <thead>\n",
       "    <tr style=\"text-align: right;\">\n",
       "      <th></th>\n",
       "      <th>PassengerId</th>\n",
       "      <th>Survived</th>\n",
       "      <th>Pclass</th>\n",
       "      <th>Name</th>\n",
       "      <th>Sex</th>\n",
       "      <th>Age</th>\n",
       "      <th>SibSp</th>\n",
       "      <th>Parch</th>\n",
       "      <th>Ticket</th>\n",
       "      <th>Fare</th>\n",
       "      <th>Cabin</th>\n",
       "      <th>Embarked</th>\n",
       "    </tr>\n",
       "  </thead>\n",
       "  <tbody>\n",
       "    <tr>\n",
       "      <th>61</th>\n",
       "      <td>62</td>\n",
       "      <td>1</td>\n",
       "      <td>1</td>\n",
       "      <td>Icard, Miss. Amelie</td>\n",
       "      <td>female</td>\n",
       "      <td>38.0</td>\n",
       "      <td>0</td>\n",
       "      <td>0</td>\n",
       "      <td>113572</td>\n",
       "      <td>80.0</td>\n",
       "      <td>B28</td>\n",
       "      <td>NaN</td>\n",
       "    </tr>\n",
       "    <tr>\n",
       "      <th>829</th>\n",
       "      <td>830</td>\n",
       "      <td>1</td>\n",
       "      <td>1</td>\n",
       "      <td>Stone, Mrs. George Nelson (Martha Evelyn)</td>\n",
       "      <td>female</td>\n",
       "      <td>62.0</td>\n",
       "      <td>0</td>\n",
       "      <td>0</td>\n",
       "      <td>113572</td>\n",
       "      <td>80.0</td>\n",
       "      <td>B28</td>\n",
       "      <td>NaN</td>\n",
       "    </tr>\n",
       "  </tbody>\n",
       "</table>\n",
       "</div>"
      ],
      "text/plain": [
       "     PassengerId  Survived  Pclass                                       Name  \\\n",
       "61            62         1       1                        Icard, Miss. Amelie   \n",
       "829          830         1       1  Stone, Mrs. George Nelson (Martha Evelyn)   \n",
       "\n",
       "        Sex   Age  SibSp  Parch  Ticket  Fare Cabin Embarked  \n",
       "61   female  38.0      0      0  113572  80.0   B28      NaN  \n",
       "829  female  62.0      0      0  113572  80.0   B28      NaN  "
      ]
     },
     "execution_count": 336,
     "metadata": {},
     "output_type": "execute_result"
    }
   ],
   "source": [
    "titanic_df[titanic_df.Embarked.isnull()]"
   ]
  },
  {
   "cell_type": "markdown",
   "metadata": {},
   "source": [
    "I am checking if there are other passengers with either the same ticket or the same cabin:"
   ]
  },
  {
   "cell_type": "code",
   "execution_count": 337,
   "metadata": {
    "collapsed": false
   },
   "outputs": [
    {
     "data": {
      "text/html": [
       "<div>\n",
       "<table border=\"1\" class=\"dataframe\">\n",
       "  <thead>\n",
       "    <tr style=\"text-align: right;\">\n",
       "      <th></th>\n",
       "      <th>PassengerId</th>\n",
       "      <th>Survived</th>\n",
       "      <th>Pclass</th>\n",
       "      <th>Name</th>\n",
       "      <th>Sex</th>\n",
       "      <th>Age</th>\n",
       "      <th>SibSp</th>\n",
       "      <th>Parch</th>\n",
       "      <th>Ticket</th>\n",
       "      <th>Fare</th>\n",
       "      <th>Cabin</th>\n",
       "      <th>Embarked</th>\n",
       "    </tr>\n",
       "  </thead>\n",
       "  <tbody>\n",
       "  </tbody>\n",
       "</table>\n",
       "</div>"
      ],
      "text/plain": [
       "Empty DataFrame\n",
       "Columns: [PassengerId, Survived, Pclass, Name, Sex, Age, SibSp, Parch, Ticket, Fare, Cabin, Embarked]\n",
       "Index: []"
      ]
     },
     "execution_count": 337,
     "metadata": {},
     "output_type": "execute_result"
    }
   ],
   "source": [
    "titanic_df[titanic_df.Embarked.notnull() & ((titanic_df.Cabin == 'B28') | (titanic_df.Ticket == '113572'))]"
   ]
  },
  {
   "cell_type": "markdown",
   "metadata": {},
   "source": [
    "Unfortunately I could not find more passengers with the same ticket or the same cabin.\n",
    "As the name of the passengers sound English they most probably either boarded in Southampton or Queenstown."
   ]
  },
  {
   "cell_type": "code",
   "execution_count": 338,
   "metadata": {
    "collapsed": false
   },
   "outputs": [
    {
     "data": {
      "text/plain": [
       "Embarked\n",
       "Q     77\n",
       "S    644\n",
       "Name: Embarked, dtype: int64"
      ]
     },
     "execution_count": 338,
     "metadata": {},
     "output_type": "execute_result"
    }
   ],
   "source": [
    "titanic_df[(titanic_df.Embarked == 'S') | (titanic_df.Embarked == 'Q')].groupby('Embarked')['Embarked'].count()"
   ]
  },
  {
   "cell_type": "markdown",
   "metadata": {},
   "source": [
    "As many more passengers boarded in Southampton than in Queenstown chances are quiet high these people boarded in Southampton.\n",
    "\n",
    "Researching the web I found this:\n",
    "\n",
    "[Stone, Mrs. George Nelson (Martha Evelyn)](https://www.encyclopedia-titanica.org/titanic-survivor/martha-evelyn-stone.html) boarded in Southampton.\n",
    "\n",
    "[Icard, Miss. Amelie](https://www.encyclopedia-titanica.org/titanic-survivor/amelia-icard.html) boarded in Southampton.\n"
   ]
  },
  {
   "cell_type": "markdown",
   "metadata": {},
   "source": [
    "I change the Embarked to 'S' for these two passengers."
   ]
  },
  {
   "cell_type": "code",
   "execution_count": 339,
   "metadata": {
    "collapsed": false
   },
   "outputs": [],
   "source": [
    "titanic_df.set_value(61, 'Embarked', 'S');\n",
    "titanic_df.set_value(829, 'Embarked', 'S');"
   ]
  },
  {
   "cell_type": "markdown",
   "metadata": {},
   "source": [
    "### Removal of unused columns and addition of new columns with modified data"
   ]
  },
  {
   "cell_type": "markdown",
   "metadata": {},
   "source": [
    "I am removing the columns 'Name', 'Ticket', 'Cabin' and 'Fare'  as I do not need them to answer my questions.\n",
    "\n",
    "I am extracting a new field 'IsFamilyMember' that indicates, if someone is a family member based on the 'Parch'  and 'SibSp'. I am removing those two fields afterwards.\n",
    "\n",
    "I am extracting different age groups and put the result into a new field 'AgeGroups'.\n",
    "\n",
    "For convenience I am also adding a new column 'IsChild' although the information is also available in 'AgeGroups'.\n",
    "\n",
    "I am removing 'Age' after extracting 'IsChild' and 'AgeGroups'"
   ]
  },
  {
   "cell_type": "code",
   "execution_count": 340,
   "metadata": {
    "collapsed": false
   },
   "outputs": [],
   "source": [
    "del titanic_df['Name']\n",
    "del titanic_df['Ticket']\n",
    "del titanic_df['Fare']\n",
    "del titanic_df['Cabin']"
   ]
  },
  {
   "cell_type": "markdown",
   "metadata": {},
   "source": [
    "I change the embarkement location to a full name to make it more readable:"
   ]
  },
  {
   "cell_type": "code",
   "execution_count": 341,
   "metadata": {
    "collapsed": true
   },
   "outputs": [],
   "source": [
    "def get_embarked_fullname(row):\n",
    "    embarked = row['Embarked']\n",
    "    if embarked == 'S':\n",
    "        return 'Southampton'\n",
    "    elif embarked == 'C':\n",
    "        return 'Cherbourg'\n",
    "    elif embarked == 'Q':\n",
    "        return 'Queenstown'\n",
    "    else:\n",
    "        return embarked\n",
    "    \n",
    "titanic_df['Embarked'] = titanic_df.apply(get_embarked_fullname, axis=1)"
   ]
  },
  {
   "cell_type": "markdown",
   "metadata": {},
   "source": [
    "I define a new column 'IsFamily' member: A passenger is a family member if either SibSp or Parch is > 0"
   ]
  },
  {
   "cell_type": "code",
   "execution_count": 342,
   "metadata": {
    "collapsed": false
   },
   "outputs": [],
   "source": [
    "def is_family_member(row):\n",
    "    return not(row['Parch'] == 0 and row['SibSp'] == 0)\n",
    "\n",
    "# I add a new column to the dataset\n",
    "titanic_df['IsFamilyMember'] = titanic_df.apply(is_family_member, axis=1)\n",
    "\n",
    "# I remove the Parch and SibSp columns\n",
    "del titanic_df['Parch']\n",
    "del titanic_df['SibSp']"
   ]
  },
  {
   "cell_type": "markdown",
   "metadata": {},
   "source": [
    "I extract different age groups:"
   ]
  },
  {
   "cell_type": "code",
   "execution_count": 343,
   "metadata": {
    "collapsed": false
   },
   "outputs": [],
   "source": [
    "def age_group(row):\n",
    "    age = row['Age']\n",
    "    if age < 1:\n",
    "        return 'Infant'\n",
    "    elif age >= 1 and age <= 12:\n",
    "        return 'Child'\n",
    "    elif age > 12 and age <= 19:\n",
    "        return 'Adolescent'\n",
    "    elif age > 19 and age <= 45:\n",
    "        return 'Adult'\n",
    "    elif age > 45 and age <= 60:\n",
    "        return 'Middle Age'\n",
    "    elif age > 60:\n",
    "        return 'Senior'\n",
    "    else:\n",
    "        return age\n",
    "\n",
    "titanic_df['AgeGroup'] = titanic_df.apply(age_group, axis=1)"
   ]
  },
  {
   "cell_type": "markdown",
   "metadata": {},
   "source": [
    "I extract as well, if a passenger is a child:"
   ]
  },
  {
   "cell_type": "code",
   "execution_count": 344,
   "metadata": {
    "collapsed": true
   },
   "outputs": [],
   "source": [
    "def is_child(row):\n",
    "    age = row['Age']\n",
    "    if age <= 12:\n",
    "        return True\n",
    "    elif age > 12:\n",
    "        return False\n",
    "    else:\n",
    "        return age\n",
    "\n",
    "titanic_df['IsChild'] = titanic_df.apply(is_child, axis=1)"
   ]
  },
  {
   "cell_type": "code",
   "execution_count": 345,
   "metadata": {
    "collapsed": true
   },
   "outputs": [],
   "source": [
    "# I delete the Age column\n",
    "del titanic_df['Age']"
   ]
  },
  {
   "cell_type": "markdown",
   "metadata": {},
   "source": [
    "#### Wrangled Data ####"
   ]
  },
  {
   "cell_type": "code",
   "execution_count": 346,
   "metadata": {
    "collapsed": false
   },
   "outputs": [
    {
     "data": {
      "text/plain": [
       "PassengerId       891\n",
       "Survived          891\n",
       "Pclass            891\n",
       "Sex               891\n",
       "Embarked          891\n",
       "IsFamilyMember    891\n",
       "AgeGroup          891\n",
       "IsChild           891\n",
       "dtype: int64"
      ]
     },
     "execution_count": 346,
     "metadata": {},
     "output_type": "execute_result"
    }
   ],
   "source": [
    "titanic_df.count()"
   ]
  },
  {
   "cell_type": "code",
   "execution_count": 347,
   "metadata": {
    "collapsed": false
   },
   "outputs": [
    {
     "data": {
      "text/html": [
       "<div>\n",
       "<table border=\"1\" class=\"dataframe\">\n",
       "  <thead>\n",
       "    <tr style=\"text-align: right;\">\n",
       "      <th></th>\n",
       "      <th>PassengerId</th>\n",
       "      <th>Survived</th>\n",
       "      <th>Pclass</th>\n",
       "      <th>Sex</th>\n",
       "      <th>Embarked</th>\n",
       "      <th>IsFamilyMember</th>\n",
       "      <th>AgeGroup</th>\n",
       "      <th>IsChild</th>\n",
       "    </tr>\n",
       "  </thead>\n",
       "  <tbody>\n",
       "    <tr>\n",
       "      <th>0</th>\n",
       "      <td>1</td>\n",
       "      <td>0</td>\n",
       "      <td>3</td>\n",
       "      <td>male</td>\n",
       "      <td>Southampton</td>\n",
       "      <td>True</td>\n",
       "      <td>Adult</td>\n",
       "      <td>False</td>\n",
       "    </tr>\n",
       "    <tr>\n",
       "      <th>1</th>\n",
       "      <td>2</td>\n",
       "      <td>1</td>\n",
       "      <td>1</td>\n",
       "      <td>female</td>\n",
       "      <td>Cherbourg</td>\n",
       "      <td>True</td>\n",
       "      <td>Adult</td>\n",
       "      <td>False</td>\n",
       "    </tr>\n",
       "    <tr>\n",
       "      <th>2</th>\n",
       "      <td>3</td>\n",
       "      <td>1</td>\n",
       "      <td>3</td>\n",
       "      <td>female</td>\n",
       "      <td>Southampton</td>\n",
       "      <td>False</td>\n",
       "      <td>Adult</td>\n",
       "      <td>False</td>\n",
       "    </tr>\n",
       "    <tr>\n",
       "      <th>3</th>\n",
       "      <td>4</td>\n",
       "      <td>1</td>\n",
       "      <td>1</td>\n",
       "      <td>female</td>\n",
       "      <td>Southampton</td>\n",
       "      <td>True</td>\n",
       "      <td>Adult</td>\n",
       "      <td>False</td>\n",
       "    </tr>\n",
       "    <tr>\n",
       "      <th>4</th>\n",
       "      <td>5</td>\n",
       "      <td>0</td>\n",
       "      <td>3</td>\n",
       "      <td>male</td>\n",
       "      <td>Southampton</td>\n",
       "      <td>False</td>\n",
       "      <td>Adult</td>\n",
       "      <td>False</td>\n",
       "    </tr>\n",
       "  </tbody>\n",
       "</table>\n",
       "</div>"
      ],
      "text/plain": [
       "   PassengerId  Survived  Pclass     Sex     Embarked IsFamilyMember AgeGroup  \\\n",
       "0            1         0       3    male  Southampton           True    Adult   \n",
       "1            2         1       1  female    Cherbourg           True    Adult   \n",
       "2            3         1       3  female  Southampton          False    Adult   \n",
       "3            4         1       1  female  Southampton           True    Adult   \n",
       "4            5         0       3    male  Southampton          False    Adult   \n",
       "\n",
       "  IsChild  \n",
       "0   False  \n",
       "1   False  \n",
       "2   False  \n",
       "3   False  \n",
       "4   False  "
      ]
     },
     "execution_count": 347,
     "metadata": {},
     "output_type": "execute_result"
    }
   ],
   "source": [
    "titanic_df.head()"
   ]
  },
  {
   "cell_type": "code",
   "execution_count": 348,
   "metadata": {
    "collapsed": false
   },
   "outputs": [
    {
     "data": {
      "text/plain": [
       "PassengerId    203\n",
       "Deck           203\n",
       "dtype: int64"
      ]
     },
     "execution_count": 348,
     "metadata": {},
     "output_type": "execute_result"
    }
   ],
   "source": [
    "deck_titanic_df.count()"
   ]
  },
  {
   "cell_type": "code",
   "execution_count": 349,
   "metadata": {
    "collapsed": false
   },
   "outputs": [
    {
     "data": {
      "text/html": [
       "<div>\n",
       "<table border=\"1\" class=\"dataframe\">\n",
       "  <thead>\n",
       "    <tr style=\"text-align: right;\">\n",
       "      <th></th>\n",
       "      <th>PassengerId</th>\n",
       "      <th>Deck</th>\n",
       "    </tr>\n",
       "  </thead>\n",
       "  <tbody>\n",
       "    <tr>\n",
       "      <th>1</th>\n",
       "      <td>2</td>\n",
       "      <td>C</td>\n",
       "    </tr>\n",
       "    <tr>\n",
       "      <th>3</th>\n",
       "      <td>4</td>\n",
       "      <td>C</td>\n",
       "    </tr>\n",
       "    <tr>\n",
       "      <th>6</th>\n",
       "      <td>7</td>\n",
       "      <td>E</td>\n",
       "    </tr>\n",
       "    <tr>\n",
       "      <th>10</th>\n",
       "      <td>11</td>\n",
       "      <td>G</td>\n",
       "    </tr>\n",
       "    <tr>\n",
       "      <th>11</th>\n",
       "      <td>12</td>\n",
       "      <td>C</td>\n",
       "    </tr>\n",
       "  </tbody>\n",
       "</table>\n",
       "</div>"
      ],
      "text/plain": [
       "    PassengerId Deck\n",
       "1             2    C\n",
       "3             4    C\n",
       "6             7    E\n",
       "10           11    G\n",
       "11           12    C"
      ]
     },
     "execution_count": 349,
     "metadata": {},
     "output_type": "execute_result"
    }
   ],
   "source": [
    "deck_titanic_df.head()"
   ]
  },
  {
   "cell_type": "markdown",
   "metadata": {},
   "source": [
    "## Data Analysis: Answering the questions ##"
   ]
  },
  {
   "cell_type": "markdown",
   "metadata": {},
   "source": [
    "Survival Probability of all passengers in the dataset:"
   ]
  },
  {
   "cell_type": "code",
   "execution_count": 350,
   "metadata": {
    "collapsed": false
   },
   "outputs": [
    {
     "data": {
      "text/plain": [
       "0.3838383838383838"
      ]
     },
     "execution_count": 350,
     "metadata": {},
     "output_type": "execute_result"
    }
   ],
   "source": [
    "titanic_df['Survived'].mean()"
   ]
  },
  {
   "cell_type": "markdown",
   "metadata": {},
   "source": [
    "###  Was it more likely to survive as a woman or a child? ###\n",
    "\n",
    "I will perform first statistical tests to answer this question:"
   ]
  },
  {
   "cell_type": "markdown",
   "metadata": {},
   "source": [
    "#### Hypothesis\n",
    "\n",
    "$H_0$: Gender does not have an impact on the survival probability\n",
    "\n",
    "\n",
    "$H_A$: Gender does have an impact on the survival probabilty\n"
   ]
  },
  {
   "cell_type": "markdown",
   "metadata": {},
   "source": [
    "#### Hypothesis Test"
   ]
  },
  {
   "cell_type": "markdown",
   "metadata": {},
   "source": [
    "I will perform a ** $\\chi^2$ -Test for Independence**, as the variables are categorical data and the frequency count of each cell of the contingency table is greater than 5. \n",
    "\n",
    "I chose a significance level of $\\alpha = .01$"
   ]
  },
  {
   "cell_type": "code",
   "execution_count": 351,
   "metadata": {
    "collapsed": false
   },
   "outputs": [
    {
     "name": "stdout",
     "output_type": "stream",
     "text": [
      "Sex       female  male\n",
      "Survived              \n",
      "0             81   468\n",
      "1            233   109\n",
      "260.717020167\n",
      "1.19735706278e-58\n",
      "1\n"
     ]
    }
   ],
   "source": [
    "table = pd.crosstab([titanic_df['Survived']], [titanic_df['Sex']])\n",
    "chi2, p, dof, expected = stats.chi2_contingency(table.values)\n",
    "\n",
    "print table \n",
    "print chi2\n",
    "print p\n",
    "print dof"
   ]
  },
  {
   "cell_type": "markdown",
   "metadata": {},
   "source": [
    "$\\chi^2(1,  N=891) = 260.72; p < .0001$\n",
    "\n",
    "I ** reject  $H_0$ **  as $\\chi^2$ falls into the critical region with p < .0001. The impact of Gender on the survival probability is considered to be **extremely statistically significant**."
   ]
  },
  {
   "cell_type": "markdown",
   "metadata": {},
   "source": [
    "#### Hypothesis\n",
    "\n",
    "$H_0$: Being a child does not have an impact on the survival probability\n",
    "\n",
    "\n",
    "$H_A$: Being a child does have an impact on the survival probabilty\n"
   ]
  },
  {
   "cell_type": "markdown",
   "metadata": {},
   "source": [
    "##### Hyphothesis Test\n",
    "\n",
    "I will perform a ** $\\chi^2$ -Test for Independence**, as the variables are categorical data and the frequency count of each cell of the contingency table is greater than 5. \n",
    "\n",
    "I chose a significance level of $\\alpha = .01$"
   ]
  },
  {
   "cell_type": "code",
   "execution_count": 352,
   "metadata": {
    "collapsed": false
   },
   "outputs": [
    {
     "name": "stdout",
     "output_type": "stream",
     "text": [
      "IsChild   False  True \n",
      "Survived              \n",
      "0           520     29\n",
      "1           302     40\n",
      "11.2515462551\n",
      "0.000795567139019\n",
      "1\n"
     ]
    }
   ],
   "source": [
    "table = pd.crosstab([titanic_df['Survived']], titanic_df['IsChild'])\n",
    "chi2, p, dof, expected = stats.chi2_contingency(table.values)\n",
    "\n",
    "print table \n",
    "print chi2\n",
    "print p\n",
    "print dof"
   ]
  },
  {
   "cell_type": "markdown",
   "metadata": {},
   "source": [
    "$\\chi^2(1,  N=891) = 11.25; p < .001$\n",
    "\n",
    "I ** reject  $H_0$ **  as $\\chi^2$ falls into the critical region with p < .001. The impact of being a child on the Titanic on the survival probability is considered to be **extremely statistically significant**."
   ]
  },
  {
   "cell_type": "markdown",
   "metadata": {},
   "source": [
    "We want to visualize these findings now.\n",
    "\n",
    "I am analyzing the data of all female passengers:"
   ]
  },
  {
   "cell_type": "code",
   "execution_count": 353,
   "metadata": {
    "collapsed": false
   },
   "outputs": [
    {
     "data": {
      "image/png": "[encoded data removed]",
      "text/plain": [
       "<matplotlib.figure.Figure at 0xeb5ef28>"
      ]
     },
     "metadata": {},
     "output_type": "display_data"
    }
   ],
   "source": [
    "vals = titanic_df[titanic_df.Sex == 'female'].groupby('Survived').Sex.count()\n",
    "plt.pie(vals, labels=['Dead','Survived'], colors=['red', 'green'], autopct='%1.1f%%', shadow=True)\n",
    "plt.title(\"Female Passengers\")\n",
    "plt.show()"
   ]
  },
  {
   "cell_type": "markdown",
   "metadata": {},
   "source": [
    "74.2% of all female passengers survived the disaster."
   ]
  },
  {
   "cell_type": "markdown",
   "metadata": {},
   "source": [
    "I am analyzing the data of all male passengers:"
   ]
  },
  {
   "cell_type": "code",
   "execution_count": 354,
   "metadata": {
    "collapsed": false
   },
   "outputs": [
    {
     "data": {
      "image/png": "[encoded data removed]",
      "text/plain": [
       "<matplotlib.figure.Figure at 0xc2c3710>"
      ]
     },
     "metadata": {},
     "output_type": "display_data"
    }
   ],
   "source": [
    "vals = titanic_df[titanic_df.Sex == 'male'].groupby('Survived').Sex.count()\n",
    "plt.pie(vals, labels=['Dead','Survived'], colors=['red', 'green'], autopct='%1.1f%%', shadow=True)\n",
    "plt.title(\"Male Passengers\")\n",
    "plt.show()"
   ]
  },
  {
   "cell_type": "markdown",
   "metadata": {},
   "source": [
    "The survival probability of the female passengers (74.2%) in the dataset is higher than the overall survival rate (38.4%) and higher than the survival rate of the male passengers (18.9%). "
   ]
  },
  {
   "cell_type": "markdown",
   "metadata": {},
   "source": [
    "Now I am analyzing the data of all children on the Titanic:"
   ]
  },
  {
   "cell_type": "code",
   "execution_count": 355,
   "metadata": {
    "collapsed": false
   },
   "outputs": [
    {
     "data": {
      "image/png": "[encoded data removed]",
      "text/plain": [
       "<matplotlib.figure.Figure at 0xe72fe48>"
      ]
     },
     "metadata": {},
     "output_type": "display_data"
    }
   ],
   "source": [
    "vals = titanic_df[titanic_df.IsChild == True].groupby('Survived').Sex.count()\n",
    "plt.pie(vals, labels=['Dead','Survived'], colors=['red', 'green'], autopct='%1.1f%%', shadow=True)\n",
    "plt.title(\"Children Passengers\")\n",
    "plt.show()"
   ]
  },
  {
   "cell_type": "markdown",
   "metadata": {},
   "source": [
    "The survival probability of children (58.0%) was higher the overall survival rate(38.4%)."
   ]
  },
  {
   "cell_type": "markdown",
   "metadata": {},
   "source": [
    "#### Conclusion ####\n",
    "\n",
    "On the Titanic existed most probably a [\"Women and children first\" code of conduct](https://en.wikipedia.org/wiki/Women_and_children_first) when the ship was evacuated as the survival probability was higher for woman and children."
   ]
  },
  {
   "cell_type": "markdown",
   "metadata": {
    "collapsed": true
   },
   "source": [
    "### Was ist more likely to survive as first class passenger, because of the socioeconomic status? ###\n",
    "\n",
    "I am doing a statistical test to answer the question, if the passenger class does have an impact on the survival probability:"
   ]
  },
  {
   "cell_type": "markdown",
   "metadata": {},
   "source": [
    "#### Hypothesis\n",
    "\n",
    "$H_0$: The passenger class does not have an impact on the survival probability\n",
    "\n",
    "\n",
    "$H_A$: The passenger class does have an impact on the survival probabilty\n"
   ]
  },
  {
   "cell_type": "markdown",
   "metadata": {},
   "source": [
    "##### Hyphothesis Test\n",
    "\n",
    "I will perform a ** $\\chi^2$ -Test for Independence**, as the variables are categorical data and the frequency count of each cell of the contingency table is greater than 5. \n",
    "\n",
    "I chose a significance level of $\\alpha = .01$"
   ]
  },
  {
   "cell_type": "code",
   "execution_count": 356,
   "metadata": {
    "collapsed": false
   },
   "outputs": [
    {
     "name": "stdout",
     "output_type": "stream",
     "text": [
      "Pclass      1   2    3\n",
      "Survived              \n",
      "0          80  97  372\n",
      "1         136  87  119\n",
      "102.888988757\n",
      "4.5492517113e-23\n",
      "2\n"
     ]
    }
   ],
   "source": [
    "table = pd.crosstab([titanic_df['Survived']],titanic_df['Pclass'])\n",
    "chi2, p, dof, expected = stats.chi2_contingency(table.values)\n",
    "\n",
    "print table \n",
    "print chi2\n",
    "print p\n",
    "print dof"
   ]
  },
  {
   "cell_type": "markdown",
   "metadata": {},
   "source": [
    "$\\chi^2(2,  N=891) = 102.89; p < .0001$\n",
    "\n",
    "I ** reject  $H_0$ **  as $\\chi^2$ falls into the critical region with p < .0001. The impact of the passenger class on the Titanic on the survival probability is considered to be **extremely statistically significant**."
   ]
  },
  {
   "cell_type": "markdown",
   "metadata": {},
   "source": [
    "Survival rate by passenger class"
   ]
  },
  {
   "cell_type": "code",
   "execution_count": 357,
   "metadata": {
    "collapsed": false
   },
   "outputs": [
    {
     "data": {
      "text/plain": [
       "Pclass\n",
       "1    0.629630\n",
       "2    0.472826\n",
       "3    0.242363\n",
       "Name: Survived, dtype: float64"
      ]
     },
     "execution_count": 357,
     "metadata": {},
     "output_type": "execute_result"
    }
   ],
   "source": [
    "titanic_df.groupby('Pclass')['Survived'].mean()"
   ]
  },
  {
   "cell_type": "code",
   "execution_count": 358,
   "metadata": {
    "collapsed": false
   },
   "outputs": [
    {
     "data": {
      "image/png": "[encoded data removed]",
      "text/plain": [
       "<matplotlib.figure.Figure at 0xe767668>"
      ]
     },
     "metadata": {},
     "output_type": "display_data"
    }
   ],
   "source": [
    "chart = sns.factorplot(x = 'Pclass', y ='Survived', data = titanic_df, size=6, aspect=2)\n",
    "chart.set(title='Survival Probability per Passenger class', ylabel='Survival probability', xlabel='Passenger class')\n",
    "sns.plt.show()"
   ]
  },
  {
   "cell_type": "markdown",
   "metadata": {},
   "source": [
    "The survival probabilty of first class passengers was higher than for the second and third class.\n",
    "\n",
    "Were the first class passengers rescued, because of their socioeconomic status or were other factors responsible for the higher survival probability?\n",
    "\n",
    "   * Have the first class cabins been on top of the ship and were the passengers of these cabins rescued first?\n",
    "   * Have there been more female passengers or children in the first class?"
   ]
  },
  {
   "cell_type": "markdown",
   "metadata": {},
   "source": [
    "#### Have the first class cabins been on top of the ship and were the passengers of these cabins rescued first?\n",
    "\n",
    "##### Where are the cabins of each passenger class located?"
   ]
  },
  {
   "cell_type": "markdown",
   "metadata": {},
   "source": [
    "###### Titanic deck layout\n",
    "\n",
    "![Titanic deck layout](https://upload.wikimedia.org/wikipedia/commons/thumb/8/84/Titanic_cutaway_diagram.png/400px-Titanic_cutaway_diagram.png \"Titanic deck layout\")"
   ]
  },
  {
   "cell_type": "code",
   "execution_count": 359,
   "metadata": {
    "collapsed": false
   },
   "outputs": [],
   "source": [
    "merged = deck_titanic_df.merge(titanic_df, on=['PassengerId'], how='inner')[['Deck', 'Survived', 'Pclass', 'Sex']]"
   ]
  },
  {
   "cell_type": "code",
   "execution_count": 360,
   "metadata": {
    "collapsed": false
   },
   "outputs": [
    {
     "data": {
      "text/plain": [
       "Pclass\n",
       "1    175\n",
       "2     16\n",
       "3     12\n",
       "Name: Survived, dtype: int64"
      ]
     },
     "execution_count": 360,
     "metadata": {},
     "output_type": "execute_result"
    }
   ],
   "source": [
    "merged.groupby(['Pclass']).Survived.count()"
   ]
  },
  {
   "cell_type": "markdown",
   "metadata": {},
   "source": [
    "I will ignore the deck information for the second and third class as there are not enough data available for these classes and the cabins of the first class passengers were located on the decks A-E. With this information I should be able to evaluate, if the ship was rescued in a certain order."
   ]
  },
  {
   "cell_type": "code",
   "execution_count": 361,
   "metadata": {
    "collapsed": false
   },
   "outputs": [
    {
     "data": {
      "image/png": "[encoded data removed]",
      "text/plain": [
       "<matplotlib.figure.Figure at 0xc3f1f60>"
      ]
     },
     "metadata": {},
     "output_type": "display_data"
    }
   ],
   "source": [
    "plot = sns.countplot(y=\"Deck\", data=merged[merged['Pclass'] == 1].sort_values(by='Deck'), palette= 'Blues_d')\n",
    "plot.set(title='Number of first class passengers per Deck', ylabel='Deck', xlabel='Number of passengers')\n",
    "sns.plt.show()"
   ]
  },
  {
   "cell_type": "code",
   "execution_count": 362,
   "metadata": {
    "collapsed": false
   },
   "outputs": [
    {
     "data": {
      "text/plain": [
       "Pclass  Deck\n",
       "1       A       0.466667\n",
       "        C       0.593220\n",
       "        E       0.720000\n",
       "        B       0.744681\n",
       "        D       0.758621\n",
       "Name: Survived, dtype: float64"
      ]
     },
     "execution_count": 362,
     "metadata": {},
     "output_type": "execute_result"
    }
   ],
   "source": [
    "merged[merged['Pclass'] == 1].groupby(['Pclass','Deck']).Survived.mean().sort_values()"
   ]
  },
  {
   "cell_type": "markdown",
   "metadata": {},
   "source": [
    "The cabins of the first class were located on the decks A-E. If there would have been a rescue plan from the top to the bottom there would be a higher survival on deck A than e.g. on deck D. I can actually see that the survival probability on deck D and E was higher than on deck A. On the other hand was survival probabilty on deck B the second highest. It seems that the ship was not rescued in a certain order.\n",
    "\n",
    "Interesting is the fact that the survival on deck C was quiet low in compare to the other decks. A reason could be a panic as on this deck as there might have been more passengers. But we don't have data of all passengers on the Titanic to prove this. This could be investigated further.\n"
   ]
  },
  {
   "cell_type": "markdown",
   "metadata": {},
   "source": [
    "I want to evaluate now, if there were more female passengers in the first class than in other classes:"
   ]
  },
  {
   "cell_type": "code",
   "execution_count": 363,
   "metadata": {
    "collapsed": false
   },
   "outputs": [
    {
     "data": {
      "text/plain": [
       "Pclass\n",
       "1    0.435185\n",
       "2    0.413043\n",
       "3    0.293279\n",
       "Name: PassengerId, dtype: float64"
      ]
     },
     "execution_count": 363,
     "metadata": {},
     "output_type": "execute_result"
    }
   ],
   "source": [
    "female_ratio_per_class = titanic_df[titanic_df['Sex'] == \"female\"].groupby(['Pclass']).PassengerId.count() / titanic_df.groupby(['Pclass']).PassengerId.count()\n",
    "female_ratio_per_class"
   ]
  },
  {
   "cell_type": "code",
   "execution_count": 364,
   "metadata": {
    "collapsed": false
   },
   "outputs": [
    {
     "data": {
      "image/png": "[encoded data removed]",
      "text/plain": [
       "<matplotlib.figure.Figure at 0xec394a8>"
      ]
     },
     "metadata": {},
     "output_type": "display_data"
    }
   ],
   "source": [
    "f, (ax1, ax2) = plt.subplots(1,2,figsize=(20,8))\n",
    "\n",
    "sns.set_color_codes(\"pastel\")\n",
    "sns.barplot(x=titanic_df.Pclass.value_counts().index, ax=ax1, y=titanic_df.Pclass.value_counts(),\n",
    "            label=\"Total Passengers\", color=\"b\", order=[1,2,3])\n",
    "\n",
    "sns.set_color_codes(\"muted\")\n",
    "sns.barplot(x=titanic_df.Pclass.value_counts().index, ax=ax1, y=titanic_df[titanic_df.Sex == 'female'].Pclass.value_counts(),\n",
    "            label=\"Female Passengers\", color=\"b\", order=[1,2,3])\n",
    "\n",
    "\n",
    "sns.set_color_codes(\"pastel\")\n",
    "sns.barplot(x=titanic_df.Pclass.value_counts().index, ax=ax2, y=[1,1,1], color=\"b\")\n",
    "sns.set_color_codes(\"muted\")\n",
    "sns.barplot(x=female_ratio_per_class.sort_values().index, ax=ax2, y=female_ratio_per_class.sort_values(),\n",
    "           label=\"Female Passengers\", color=\"b\", order=[1,2,3])\n",
    "\n",
    "ax1.legend(ncol=2, loc=\"upper left\", frameon=True)\n",
    "ax1.set(title=\"Number of female Passengers compared to all passengers per class\", ylabel=\"Number of Passengers\",\n",
    "       xlabel=\"Passenger Class\")\n",
    "\n",
    "ax2.legend(ncol=2, loc=\"upper left\", frameon=True)\n",
    "ax2.set(title=\"Proportion of female passengers\", ylabel=\"Ratio\",\n",
    "       xlabel=\"Passenger Class\")\n",
    "\n",
    "sns.plt.show()"
   ]
  },
  {
   "cell_type": "markdown",
   "metadata": {},
   "source": [
    "Indeed was the proportion of female passengers slightly higher than in the second class and much higher than in third class. "
   ]
  },
  {
   "cell_type": "markdown",
   "metadata": {},
   "source": [
    "Was there more children in the first class than in the other passenger classes?"
   ]
  },
  {
   "cell_type": "code",
   "execution_count": 365,
   "metadata": {
    "collapsed": false
   },
   "outputs": [
    {
     "data": {
      "text/plain": [
       "Pclass\n",
       "1    0.018519\n",
       "2    0.092391\n",
       "3    0.097760\n",
       "Name: PassengerId, dtype: float64"
      ]
     },
     "execution_count": 365,
     "metadata": {},
     "output_type": "execute_result"
    }
   ],
   "source": [
    "children_ratio_per_class = titanic_df[titanic_df['IsChild'] == True].groupby(['Pclass']).PassengerId.count() / titanic_df.groupby(['Pclass']).PassengerId.count()\n",
    "children_ratio_per_class"
   ]
  },
  {
   "cell_type": "code",
   "execution_count": 366,
   "metadata": {
    "collapsed": false
   },
   "outputs": [
    {
     "data": {
      "image/png": "[encoded data removed]",
      "text/plain": [
       "<matplotlib.figure.Figure at 0x105b6908>"
      ]
     },
     "metadata": {},
     "output_type": "display_data"
    }
   ],
   "source": [
    "f, (ax1, ax2) = plt.subplots(1,2,figsize=(20,8))\n",
    "\n",
    "sns.set_color_codes(\"pastel\")\n",
    "sns.barplot(x=titanic_df.Pclass.value_counts().index, ax=ax1, y=titanic_df.Pclass.value_counts(),\n",
    "            label=\"Total Passengers\", color=\"g\")\n",
    "\n",
    "sns.set_color_codes(\"muted\")\n",
    "sns.barplot(x=titanic_df[titanic_df.IsChild == True].Pclass.value_counts().index, ax=ax1, y=titanic_df[titanic_df.IsChild == True].Pclass.value_counts(),\n",
    "            label=\"Children\", color=\"g\")\n",
    "\n",
    "\n",
    "sns.set_color_codes(\"pastel\")\n",
    "sns.barplot(x=titanic_df.Pclass.value_counts().index, ax=ax2, y=[1,1,1], color=\"g\")\n",
    "sns.set_color_codes(\"muted\")\n",
    "sns.barplot(x=children_ratio_per_class.sort_values().index, ax=ax2, y=children_ratio_per_class.sort_values(),\n",
    "           label=\"Children\", color=\"g\")\n",
    "\n",
    "ax1.legend(ncol=2, loc=\"upper left\", frameon=True)\n",
    "ax1.set(title=\"Number of Children compared to all passengers per class\", ylabel=\"Number of Passengers\",\n",
    "       xlabel=\"Passenger Class\")\n",
    "\n",
    "ax2.legend(ncol=2, loc=\"upper left\", frameon=True)\n",
    "ax2.set(title=\"Proportion of Children\", ylabel=\"Ratio\",\n",
    "       xlabel=\"Passenger Class\")\n",
    "sns.plt.show()"
   ]
  },
  {
   "cell_type": "markdown",
   "metadata": {},
   "source": [
    "The proportion of children in the third class and second classwas much higher that in the first class."
   ]
  },
  {
   "cell_type": "markdown",
   "metadata": {},
   "source": [
    "#### Conclusion ####\n",
    "\n",
    "The Survival probability of first class passengers was the highest (63.0%). On the other hand the third class had a very low probability of surviving the disaster (24.2%). This is most probably due the fact, that first class passengers where rescued because of their socioeconomic status and not due the fact that there had been more children  or that the first class cabins were on the top of the ship and these decks were rescued first.\n",
    "\n",
    "There had been more female passengers in the first class, which had a positive influence on the survival probabilty.\n"
   ]
  },
  {
   "cell_type": "markdown",
   "metadata": {},
   "source": [
    "### Was ist more likely to survive on the different locations of embarkment? ###\n",
    "\n",
    "I am performing a statistical test to answer the question:"
   ]
  },
  {
   "cell_type": "markdown",
   "metadata": {},
   "source": [
    "#### Hypothesis\n",
    "\n",
    "$H_0$: Embarkment location does not have an impact on the survival probabiilty\n",
    "\n",
    "\n",
    "$H_A$: Embarkment location does have an impact on the survival probabilty"
   ]
  },
  {
   "cell_type": "markdown",
   "metadata": {},
   "source": [
    "#### Hypothesis Test\n",
    "\n",
    "I will perform a ** $\\chi^2$ -Test for Independence**, as the variables are categorical data and the frequency count of each cell of the contingency table is greater than 5. \n",
    "\n",
    "I chose a significance level of $\\alpha = .01$"
   ]
  },
  {
   "cell_type": "code",
   "execution_count": 367,
   "metadata": {
    "collapsed": false
   },
   "outputs": [
    {
     "name": "stdout",
     "output_type": "stream",
     "text": [
      "Embarked  Cherbourg  Queenstown  Southampton\n",
      "Survived                                    \n",
      "0                75          47          427\n",
      "1                93          30          219\n",
      "25.9644528819\n",
      "2.30086264814e-06\n",
      "2\n"
     ]
    }
   ],
   "source": [
    "table = pd.crosstab([titanic_df['Survived']], titanic_df['Embarked'])\n",
    "chi2, p, dof, expected = stats.chi2_contingency(table.values)\n",
    "\n",
    "print table\n",
    "print chi2\n",
    "print p    \n",
    "print dof"
   ]
  },
  {
   "cell_type": "markdown",
   "metadata": {},
   "source": [
    "$\\chi^2(2, N=891) = 25.96,p < .0001$\n",
    "\n",
    "\n",
    "I ** reject  $H_0$ **  as $\\chi^2$ falls into the critical region with p < .0001. The impact of the location of embarkment on the survival probability is considered to be **extremely statistically significant**."
   ]
  },
  {
   "cell_type": "markdown",
   "metadata": {},
   "source": [
    "I am examining the survival rate by embarkement location:"
   ]
  },
  {
   "cell_type": "code",
   "execution_count": 368,
   "metadata": {
    "collapsed": false,
    "scrolled": true
   },
   "outputs": [
    {
     "data": {
      "text/plain": [
       "Embarked\n",
       "Cherbourg      0.553571\n",
       "Queenstown     0.389610\n",
       "Southampton    0.339009\n",
       "Name: Survived, dtype: float64"
      ]
     },
     "execution_count": 368,
     "metadata": {},
     "output_type": "execute_result"
    }
   ],
   "source": [
    "titanic_df.groupby('Embarked')['Survived'].mean()"
   ]
  },
  {
   "cell_type": "code",
   "execution_count": 369,
   "metadata": {
    "collapsed": false
   },
   "outputs": [
    {
     "data": {
      "image/png": "[encoded data removed]",
      "text/plain": [
       "<matplotlib.figure.Figure at 0xc91e080>"
      ]
     },
     "metadata": {},
     "output_type": "display_data"
    }
   ],
   "source": [
    "plot = sns.factorplot(x = 'Embarked', y = 'Survived', data = titanic_df, kind='point', order=['Cherbourg', 'Queenstown', 'Southampton'], size=6, aspect=2)\n",
    "plot.set(title='Survival probability per Embarkment Location', ylabel='Survival Probablity', xlabel='Embarkment Location')\n",
    "sns.plt.show()"
   ]
  },
  {
   "cell_type": "markdown",
   "metadata": {},
   "source": [
    "The survival probability was higher for passengers who boarded in Cherbourg.\n",
    "\n",
    "What factors might be responsible for that:\n",
    "\n",
    "   - Were there more first class passengers in Cherbourg?\n",
    "   - Was the proportion of children and woman higher in Cherbourg?"
   ]
  },
  {
   "cell_type": "markdown",
   "metadata": {},
   "source": [
    "Passengers by embarkment location and class:"
   ]
  },
  {
   "cell_type": "code",
   "execution_count": 370,
   "metadata": {
    "collapsed": false,
    "scrolled": true
   },
   "outputs": [
    {
     "data": {
      "text/plain": [
       "Embarked\n",
       "Cherbourg      0.505952\n",
       "Queenstown     0.025974\n",
       "Southampton    0.199690\n",
       "Name: PassengerId, dtype: float64"
      ]
     },
     "execution_count": 370,
     "metadata": {},
     "output_type": "execute_result"
    }
   ],
   "source": [
    "firstclass_ratio_per_embarkment = titanic_df[titanic_df['Pclass'] == 1].groupby(['Embarked']).PassengerId.count() / titanic_df.groupby(['Embarked']).PassengerId.count()\n",
    "firstclass_ratio_per_embarkment"
   ]
  },
  {
   "cell_type": "code",
   "execution_count": 371,
   "metadata": {
    "collapsed": false
   },
   "outputs": [
    {
     "data": {
      "image/png": "[encoded data removed]",
      "text/plain": [
       "<matplotlib.figure.Figure at 0xe12d940>"
      ]
     },
     "metadata": {},
     "output_type": "display_data"
    }
   ],
   "source": [
    "f, (ax1, ax2) = plt.subplots(1,2,figsize=(20,8))\n",
    "\n",
    "sns.set_color_codes(\"pastel\")\n",
    "sns.barplot(x=titanic_df.Embarked.value_counts().index, ax=ax1, y=titanic_df.Embarked.value_counts(),\n",
    "            label=\"Total Passengers\", color=\"r\")\n",
    "\n",
    "sns.set_color_codes(\"muted\")\n",
    "sns.barplot(x=titanic_df.Embarked.value_counts().index, ax=ax1, y= titanic_df[titanic_df.Pclass == 1].Embarked.value_counts(),\n",
    "            label=\"First Class Passengers\", color=\"r\")\n",
    "\n",
    "\n",
    "sns.set_color_codes(\"pastel\")\n",
    "sns.barplot(x=titanic_df.Embarked.value_counts().index, ax=ax2, y=[1,1,1], color=\"r\")\n",
    "sns.set_color_codes(\"muted\")\n",
    "sns.barplot(x=firstclass_ratio_per_embarkment.sort_values().index, ax=ax2, y=firstclass_ratio_per_embarkment.sort_values(),\n",
    "           label=\"First  Passengers\", color=\"r\")\n",
    "\n",
    "ax1.legend(ncol=2, loc=\"upper left\", frameon=True)\n",
    "ax1.set(title=\"Number of first class Passengers compared to all passengers per class\", ylabel=\"Number of Passengers\",\n",
    "       xlabel=\"Location of Embarkment\")\n",
    "\n",
    "ax2.legend(ncol=2, loc=\"upper left\", frameon=True)\n",
    "ax2.set(title=\"Proportion of first class passengers\", ylabel=\"Ratio\",\n",
    "       xlabel=\"Location of Embarkment\")\n",
    "\n",
    "sns.plt.show()"
   ]
  },
  {
   "cell_type": "markdown",
   "metadata": {},
   "source": [
    "The proportion of first class passengers was higher in Cherbourg than in Southampton and Queenstown."
   ]
  },
  {
   "cell_type": "markdown",
   "metadata": {},
   "source": [
    "Now I am evaluating the proportion of children for the different locations of embarkement:"
   ]
  },
  {
   "cell_type": "code",
   "execution_count": 372,
   "metadata": {
    "collapsed": false
   },
   "outputs": [
    {
     "data": {
      "text/plain": [
       "Embarked\n",
       "Cherbourg      0.065476\n",
       "Queenstown     0.051948\n",
       "Southampton    0.083591\n",
       "Name: PassengerId, dtype: float64"
      ]
     },
     "execution_count": 372,
     "metadata": {},
     "output_type": "execute_result"
    }
   ],
   "source": [
    "children_ratio_per_embarkment = titanic_df[titanic_df.IsChild == True].groupby(['Embarked']).PassengerId.count() / titanic_df.groupby(['Embarked']).PassengerId.count()\n",
    "children_ratio_per_embarkment"
   ]
  },
  {
   "cell_type": "code",
   "execution_count": 373,
   "metadata": {
    "collapsed": false
   },
   "outputs": [
    {
     "data": {
      "image/png": "[encoded data removed]",
      "text/plain": [
       "<matplotlib.figure.Figure at 0xec4dfd0>"
      ]
     },
     "metadata": {},
     "output_type": "display_data"
    }
   ],
   "source": [
    "f, (ax1, ax2) = plt.subplots(1,2,figsize=(20,8))\n",
    "\n",
    "sns.set_color_codes(\"pastel\")\n",
    "sns.barplot(x=titanic_df.Embarked.value_counts().index, ax=ax1, y=titanic_df.Embarked.value_counts(),\n",
    "            label=\"Total Passengers\", color=\"y\")\n",
    "\n",
    "sns.set_color_codes(\"muted\")\n",
    "sns.barplot(x=titanic_df.Embarked.value_counts().index, ax=ax1, y= titanic_df[titanic_df.IsChild == True].Embarked.value_counts(),\n",
    "            label=\"Children\", color=\"y\")\n",
    "\n",
    "\n",
    "sns.set_color_codes(\"pastel\")\n",
    "sns.barplot(x=titanic_df.Embarked.value_counts().index, ax=ax2, y=[1,1,1], color=\"y\")\n",
    "sns.set_color_codes(\"muted\")\n",
    "sns.barplot(x=children_ratio_per_embarkment.sort_values().index, ax=ax2, y=children_ratio_per_embarkment.sort_values(),\n",
    "           label=\"Children\", color=\"y\")\n",
    "\n",
    "ax1.legend(ncol=2, loc=\"upper left\", frameon=True)\n",
    "ax1.set(title=\"Number of children compared to all passengers per Embarkment\", ylabel=\"Number of Passengers\",\n",
    "       xlabel=\"Location of Embarkment\")\n",
    "\n",
    "ax2.legend(ncol=2, loc=\"upper left\", frameon=True)\n",
    "ax2.set(title=\"Proportion of children\", ylabel=\"Ratio\",\n",
    "       xlabel=\"Location of Embarkment\")\n",
    "\n",
    "sns.plt.show()"
   ]
  },
  {
   "cell_type": "markdown",
   "metadata": {},
   "source": [
    "The proportion of children was about the same in Cherbourg, Queenstown and Southampton"
   ]
  },
  {
   "cell_type": "markdown",
   "metadata": {},
   "source": [
    "I want to answer the question now, if there were more female passengers in Cherbourg:"
   ]
  },
  {
   "cell_type": "code",
   "execution_count": 374,
   "metadata": {
    "collapsed": false
   },
   "outputs": [
    {
     "data": {
      "text/plain": [
       "Embarked\n",
       "Cherbourg      0.434524\n",
       "Queenstown     0.467532\n",
       "Southampton    0.317337\n",
       "Name: PassengerId, dtype: float64"
      ]
     },
     "execution_count": 374,
     "metadata": {},
     "output_type": "execute_result"
    }
   ],
   "source": [
    "female_ratio_per_embarkment = titanic_df[titanic_df.Sex == 'female'].groupby(['Embarked']).PassengerId.count() / titanic_df.groupby(['Embarked']).PassengerId.count()\n",
    "female_ratio_per_embarkment"
   ]
  },
  {
   "cell_type": "code",
   "execution_count": 375,
   "metadata": {
    "collapsed": false
   },
   "outputs": [
    {
     "data": {
      "image/png": "[encoded data removed]",
      "text/plain": [
       "<matplotlib.figure.Figure at 0xe976a20>"
      ]
     },
     "metadata": {},
     "output_type": "display_data"
    }
   ],
   "source": [
    "f, (ax1, ax2) = plt.subplots(1,2,figsize=(20,8))\n",
    "\n",
    "sns.set_color_codes(\"pastel\")\n",
    "sns.barplot(x=titanic_df.Embarked.value_counts().index, ax=ax1, y=titanic_df.Embarked.value_counts(),\n",
    "            label=\"Total Passengers\", color=\"c\")\n",
    "\n",
    "sns.set_color_codes(\"muted\")\n",
    "sns.barplot(x=titanic_df.Embarked.value_counts().index, ax=ax1, y= titanic_df[titanic_df.Sex == 'female'].Embarked.value_counts(),\n",
    "            label=\"Female passengers\", color=\"c\")\n",
    "\n",
    "\n",
    "sns.set_color_codes(\"pastel\")\n",
    "sns.barplot(x=titanic_df.Embarked.value_counts().index, ax=ax2, y=[1,1,1], color=\"c\")\n",
    "sns.set_color_codes(\"muted\")\n",
    "sns.barplot(x=female_ratio_per_embarkment.sort_values().index, ax=ax2, y=female_ratio_per_embarkment.sort_values(),\n",
    "           label=\"Female passengers\", color=\"c\")\n",
    "\n",
    "ax1.legend(ncol=2, loc=\"upper left\", frameon=True)\n",
    "ax1.set(title=\"Number of Female passengers compared to all passengers per Embarkment\", ylabel=\"Number of Passengers\",\n",
    "       xlabel=\"Location of Embarkment\")\n",
    "\n",
    "ax2.legend(ncol=2, loc=\"upper left\", frameon=True)\n",
    "ax2.set(title=\"Proportion of Female passengers\", ylabel=\"Ratio\",\n",
    "       xlabel=\"Location of Embarkment\")\n",
    "\n",
    "sns.plt.show()"
   ]
  },
  {
   "cell_type": "markdown",
   "metadata": {},
   "source": [
    "The proportion of woman was about the same in Cherbourg, Queenstown and Southampton."
   ]
  },
  {
   "cell_type": "markdown",
   "metadata": {},
   "source": [
    "#### Conclusion ####\n",
    "\n",
    "The probabilty of surviving the titanic disaster was highest if someone boarded in Cherbourg.\n",
    "This is most probably due the fact that the proportion of first class passengers from Cherbourg was higher than in Southampton and Queenstown and not due the fact that in Cherbourg the proportion of woman or children were higher."
   ]
  },
  {
   "cell_type": "markdown",
   "metadata": {},
   "source": [
    "### Was ist more like to survive as a family member or a person on his own? ###"
   ]
  },
  {
   "cell_type": "markdown",
   "metadata": {},
   "source": [
    "#### Hypothesis\n",
    "\n",
    "$H_0$: Being a family member does not have an impact on the survival probability\n",
    "\n",
    "\n",
    "$H_A$:  Being a family member does have an impact on the survival probability"
   ]
  },
  {
   "cell_type": "markdown",
   "metadata": {},
   "source": [
    "##### Hyphothesis Test\n",
    "\n",
    "I will perform a ** $\\chi^2$ -Test for Independence**, as the variables are categorical data and the frequency count of each cell of the contingency table is greater than 5. \n",
    "\n",
    "I chose a significance level of $\\alpha = .01$"
   ]
  },
  {
   "cell_type": "code",
   "execution_count": 376,
   "metadata": {
    "collapsed": false
   },
   "outputs": [
    {
     "name": "stdout",
     "output_type": "stream",
     "text": [
      "IsFamilyMember  False  True \n",
      "Survived                    \n",
      "0                 374    175\n",
      "1                 163    179\n",
      "36.0005144677\n",
      "1.97265438465e-09\n",
      "1\n"
     ]
    }
   ],
   "source": [
    "table = pd.crosstab([titanic_df['Survived']], titanic_df['IsFamilyMember'])\n",
    "chi2, p, dof, expected = stats.chi2_contingency(table.values)\n",
    "\n",
    "print table\n",
    "print chi2\n",
    "print p  \n",
    "print dof"
   ]
  },
  {
   "cell_type": "markdown",
   "metadata": {},
   "source": [
    "$\\chi^2(1, N=891) = 36.00,p < .0001$\n",
    "\n",
    "I ** reject  $H_0$ **  as $\\chi^2$ falls into the critical region with p < .0001. The impact of being a family member on the survival probability is considered to be **extremely statistically significant**."
   ]
  },
  {
   "cell_type": "code",
   "execution_count": 386,
   "metadata": {
    "collapsed": false
   },
   "outputs": [
    {
     "data": {
      "text/plain": [
       "IsFamilyMember\n",
       "False    0.303538\n",
       "True     0.505650\n",
       "Name: Survived, dtype: float64"
      ]
     },
     "execution_count": 386,
     "metadata": {},
     "output_type": "execute_result"
    }
   ],
   "source": [
    "titanic_df.groupby('IsFamilyMember')['Survived'].mean()"
   ]
  },
  {
   "cell_type": "code",
   "execution_count": 387,
   "metadata": {
    "collapsed": false
   },
   "outputs": [
    {
     "data": {
      "image/png": "[encoded data removed]",
      "text/plain": [
       "<matplotlib.figure.Figure at 0xc2f7a20>"
      ]
     },
     "metadata": {},
     "output_type": "display_data"
    }
   ],
   "source": [
    "plot = sns.factorplot(x = 'IsFamilyMember', y = 'Survived', data = titanic_df, kind='point', order=[True, False], size=6, aspect=2)\n",
    "plot.set(title='Survival probability of passengers who traveled with their family', ylabel='Survival Probablity', xlabel='Was the passenger member of a family?')\n",
    "sns.plt.show()"
   ]
  },
  {
   "cell_type": "markdown",
   "metadata": {},
   "source": [
    "I want to see now, if this higher survival probability is for all passenger classes the same:"
   ]
  },
  {
   "cell_type": "code",
   "execution_count": 389,
   "metadata": {
    "collapsed": false
   },
   "outputs": [
    {
     "data": {
      "text/plain": [
       "IsFamilyMember  Pclass\n",
       "False           1         0.532110\n",
       "                2         0.346154\n",
       "                3         0.212963\n",
       "True            1         0.728972\n",
       "                2         0.637500\n",
       "                3         0.299401\n",
       "Name: Survived, dtype: float64"
      ]
     },
     "execution_count": 389,
     "metadata": {},
     "output_type": "execute_result"
    }
   ],
   "source": [
    "titanic_df.groupby(['IsFamilyMember', 'Pclass'])['Survived'].mean()"
   ]
  },
  {
   "cell_type": "markdown",
   "metadata": {},
   "source": [
    "This is interesting: For the first and second class you had a better chance to surviving the titanic disaster traveling with your family. But for the third class it didn't make a difference."
   ]
  },
  {
   "cell_type": "markdown",
   "metadata": {},
   "source": [
    "#### Conclusion\n",
    "\n",
    "The probabilty of surviving the Titanic disaster was higher as member of a family than a person on his own in the first and second class. This is most probably also due the [\"Women and children first\" code of conduct](https://en.wikipedia.org/wiki/Women_and_children_first). In the third class the chance to survive the titanic disaster for person on his own and a family member was about the same."
   ]
  },
  {
   "cell_type": "markdown",
   "metadata": {},
   "source": [
    "###  Was ist more like to survive in different Age groups?   \n",
    "\n",
    "First I am doing a statistical test to answer the question:"
   ]
  },
  {
   "cell_type": "markdown",
   "metadata": {},
   "source": [
    "#### Hypothesis\n",
    "\n",
    "$H_0$: Age Group does not have an impact on the survival probabilty\n",
    "\n",
    "\n",
    "$H_A$: Age Group does have an impact on the survival probabilty"
   ]
  },
  {
   "cell_type": "markdown",
   "metadata": {},
   "source": [
    "#### Hypothesis Test\n",
    "\n",
    "I will perform a ** $\\chi^2$ -Test for Independence**, as the variables are categorical data and the frequency count of each cell of the contingency table is greater than 5. \n",
    "\n",
    "I chose a significance level of $\\alpha = .01$"
   ]
  },
  {
   "cell_type": "code",
   "execution_count": 391,
   "metadata": {
    "collapsed": false
   },
   "outputs": [
    {
     "name": "stdout",
     "output_type": "stream",
     "text": [
      "AgeGroup  Adolescent  Adult  Child  Infant  Middle Age  Senior\n",
      "Survived                                                      \n",
      "0                 56    399     29       0          48      17\n",
      "1                 39    225     33       7          33       5\n",
      "21.1957446911\n",
      "0.000743896307815\n",
      "5\n"
     ]
    }
   ],
   "source": [
    "table = pd.crosstab([titanic_df['Survived']], titanic_df['AgeGroup'])\n",
    "chi2, p, dof, expected = stats.chi2_contingency(table.values)\n",
    "\n",
    "print table\n",
    "print chi2\n",
    "print p   \n",
    "print dof"
   ]
  },
  {
   "cell_type": "markdown",
   "metadata": {},
   "source": [
    "$\\chi^2(5, N=891) = 21.20,p < .001$\n",
    "\n",
    "\n",
    "I ** reject  $H_0$ **  as $\\chi^2$ falls into the critical region with p < .001. The impact of the Age Group on the survival probability is considered to be **extremely statistically significant**.\n"
   ]
  },
  {
   "cell_type": "markdown",
   "metadata": {},
   "source": [
    "I want to count the number of passengers in the different age groups:"
   ]
  },
  {
   "cell_type": "code",
   "execution_count": 392,
   "metadata": {
    "collapsed": false
   },
   "outputs": [
    {
     "data": {
      "text/plain": [
       "AgeGroup\n",
       "Infant          7\n",
       "Senior         22\n",
       "Child          62\n",
       "Middle Age     81\n",
       "Adolescent     95\n",
       "Adult         624\n",
       "Name: Survived, dtype: int64"
      ]
     },
     "execution_count": 392,
     "metadata": {},
     "output_type": "execute_result"
    }
   ],
   "source": [
    "titanic_df.groupby('AgeGroup')['Survived'].count().sort_values()"
   ]
  },
  {
   "cell_type": "markdown",
   "metadata": {},
   "source": [
    "What's the survival probabilty for the different age groups?"
   ]
  },
  {
   "cell_type": "code",
   "execution_count": 393,
   "metadata": {
    "collapsed": false
   },
   "outputs": [
    {
     "data": {
      "text/plain": [
       "AgeGroup\n",
       "Infant        1.000000\n",
       "Child         0.532258\n",
       "Adolescent    0.410526\n",
       "Middle Age    0.407407\n",
       "Adult         0.360577\n",
       "Senior        0.227273\n",
       "Name: Survived, dtype: float64"
      ]
     },
     "execution_count": 393,
     "metadata": {},
     "output_type": "execute_result"
    }
   ],
   "source": [
    "titanic_df.groupby('AgeGroup')['Survived'].mean().sort_values(ascending=False)"
   ]
  },
  {
   "cell_type": "code",
   "execution_count": 383,
   "metadata": {
    "collapsed": false
   },
   "outputs": [
    {
     "data": {
      "image/png": "[encoded data removed]",
      "text/plain": [
       "<matplotlib.figure.Figure at 0x10781240>"
      ]
     },
     "metadata": {},
     "output_type": "display_data"
    }
   ],
   "source": [
    "plot = sns.factorplot(x = 'AgeGroup', y = 'Survived', data = titanic_df, kind='point', order=['Infant', 'Child', 'Middle Age', 'Adolescent', 'Adult', 'Senior'], size=6, aspect=2)\n",
    "plot.set(title='Survival probability of passengers dependent of their Age Group', ylabel='Survival Probablity', xlabel='Age Group')\n",
    "sns.plt.show()"
   ]
  },
  {
   "cell_type": "markdown",
   "metadata": {},
   "source": [
    "I want to count the children and infants in the different passenger classes:"
   ]
  },
  {
   "cell_type": "code",
   "execution_count": 394,
   "metadata": {
    "collapsed": false
   },
   "outputs": [
    {
     "data": {
      "text/plain": [
       "Pclass  AgeGroup\n",
       "1       Child        3\n",
       "        Infant       1\n",
       "2       Child       14\n",
       "        Infant       3\n",
       "3       Child       45\n",
       "        Infant       3\n",
       "Name: Survived, dtype: int64"
      ]
     },
     "execution_count": 394,
     "metadata": {},
     "output_type": "execute_result"
    }
   ],
   "source": [
    "titanic_df[titanic_df.AgeGroup.isin(['Infant', 'Child'])].groupby(['Pclass', 'AgeGroup']).Survived.count()"
   ]
  },
  {
   "cell_type": "markdown",
   "metadata": {},
   "source": [
    "What's about the survival probability for infants and children in the passenger classes:"
   ]
  },
  {
   "cell_type": "code",
   "execution_count": 385,
   "metadata": {
    "collapsed": false
   },
   "outputs": [
    {
     "data": {
      "text/plain": [
       "Pclass  AgeGroup\n",
       "1       Child       0.666667\n",
       "        Infant      1.000000\n",
       "2       Child       1.000000\n",
       "        Infant      1.000000\n",
       "3       Child       0.377778\n",
       "        Infant      1.000000\n",
       "Name: Survived, dtype: float64"
      ]
     },
     "execution_count": 385,
     "metadata": {},
     "output_type": "execute_result"
    }
   ],
   "source": [
    "titanic_df[titanic_df.AgeGroup.isin(['Infant', 'Child'])].groupby(['Pclass', 'AgeGroup']).Survived.mean()"
   ]
  },
  {
   "cell_type": "markdown",
   "metadata": {},
   "source": [
    "It's interesting that all infants in all classes survived the titanic disaster. All children and infants survived in the second class. But for the third class chances of surviving were good for infants but not for children."
   ]
  },
  {
   "cell_type": "markdown",
   "metadata": {},
   "source": [
    "### Conclusion\n",
    "\n",
    "The probability of surviving the Titanic disaster was higher for children and infants than for other age groups. The lowest chance of surviving the sinking of the ship had adults and seniors. \n",
    "\n",
    "Interesting is also that all 7 infants survived the disaster, even the 3 infants from the third class. In the first and second class all children survived apart from one child in the first class. She was Loraine Allison: Loraines parents decided to stay on the ship as Loraines brother was missing with his nurse.[2]"
   ]
  },
  {
   "cell_type": "markdown",
   "metadata": {},
   "source": [
    "## Appendix A\n",
    "\n",
    "### Sources\n",
    "\n",
    "[1] [https://en.wikipedia.org/wiki/RMS_Titanic](https://en.wikipedia.org/wiki/RMS_Titanic)\n",
    "\n",
    "[2] [https://www.encyclopedia-titanica.org/titanic-victim/loraine-allison.html](https://www.encyclopedia-titanica.org/titanic-victim/loraine-allison.html)"
   ]
  },
  {
   "cell_type": "code",
   "execution_count": null,
   "metadata": {
    "collapsed": true
   },
   "outputs": [],
   "source": []
  }
 ],
 "metadata": {
  "anaconda-cloud": {},
  "kernelspec": {
   "display_name": "Python [Root]",
   "language": "python",
   "name": "Python [Root]"
  },
  "language_info": {
   "codemirror_mode": {
    "name": "ipython",
    "version": 2
   },
   "file_extension": ".py",
   "mimetype": "text/x-python",
   "name": "python",
   "nbconvert_exporter": "python",
   "pygments_lexer": "ipython2",
   "version": "2.7.12"
  }
 },
 "nbformat": 4,
 "nbformat_minor": 0
}
