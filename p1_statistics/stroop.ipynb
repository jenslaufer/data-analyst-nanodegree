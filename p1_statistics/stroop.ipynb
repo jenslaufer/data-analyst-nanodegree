{
 "cells": [
  {
   "cell_type": "markdown",
   "metadata": {},
   "source": [
    "# Statistics: The Science of Decisions Project Instructions\n",
    "\n",
    "## Background Information\n",
    "\n",
    "In a Stroop task, participants are presented with a list of words, with each word displayed in a color of ink. The participant’s task is to say out loud the color of the ink in which the word is printed. The task has two conditions: a congruent words condition, and an incongruent words condition. In the congruent words condition, the words being displayed are color words whose names match the colors in which they are printed: for example RED, BLUE. In the incongruent words condition, the words displayed are color words whose names do not match the colors in which they are printed: for example PURPLE, ORANGE. In each case, we measure the time it takes to name the ink colors in equally-sized lists. Each participant will go through and record a time from each condition.\n",
    "\n",
    "\n",
    "## Questions For Investigation\n"
   ]
  },
  {
   "cell_type": "markdown",
   "metadata": {},
   "source": [
    "#### 1. What is our independent variable? What is our dependent variable?  ####\n",
    "\n",
    "\n",
    "\n",
    "   **Dependent variable**:    The reaction time it takes to name the ink colors in equally-sized lists\n",
    "\n",
    "   **Independent variable**:  Congruency of font color and word\n",
    "     \n",
    "   \n",
    "#### 2.  What is an appropriate set of hypotheses for this task? What kind of statistical test do you expect to perform? Justify your choices.  ####\n",
    "\n",
    "\n",
    "\n",
    "   Hypothesises:\n",
    "\n",
    "   $H_0 : \\mu_2 - \\mu_1 = 0$  \n",
    "    \n",
    "   $H_A : \\mu_2 - \\mu_1 > 0$\n",
    "\n",
    "   The null Hypothese $H_0$ says that incongruent words condition does not have an influence on the reaction time. The alternative Hypothesis $H_A$ says that the incongruent words condition increases the reaction time.\n",
    "  \n",
    "   I will perform a **one-tailed paired t-test**. I will perfrom a t-test as the population standard deviation is unknown, it is paired as the study subjects are measured before and after a treatment intervention. I expect that incrongruent word condition increases the reaction time, therefore I will perform a one-tailed test. I will chose an alpha level of $\\alpha = .05.$ \n",
    "      \n",
    "\n",
    "#### 3. Report some descriptive statistics regarding this dataset. Include at least one measure of central tendency and at least one measure of variability. ####\n",
    "\n",
    "\n",
    "\n",
    "   Congruent word condition: \n",
    "\n",
    "   $\\bar{x}_1 = 14.05$\n",
    "   \n",
    "   $s_1 = 3.56$\n",
    "   \n",
    "   $n = 24$\n",
    "   \n",
    "   Incongruent word condition:\n",
    "   \n",
    "   $\\bar{x}_2 = 22.02$\n",
    "   \n",
    "   $s_2 = 4.80$\n",
    "   \n",
    "   $n = 24$\n",
    "   \n",
    "##### 4. Provide one or two visualizations that show the distribution of the sample data. Write one or two sentences noting what you observe about the plot or plots. #####\n",
    "\n",
    "   \n",
    "    "
   ]
  },
  {
   "cell_type": "code",
   "execution_count": 5,
   "metadata": {
    "collapsed": false
   },
   "outputs": [
    {
     "name": "stdout",
     "output_type": "stream",
     "text": [
      "Populating the interactive namespace from numpy and matplotlib\n"
     ]
    },
    {
     "data": {
      "image/png": "[encoded data removed]",
      "text/plain": [
       "<matplotlib.figure.Figure at 0x3d26240>"
      ]
     },
     "metadata": {},
     "output_type": "display_data"
    }
   ],
   "source": [
    "import pandas as pd\n",
    "import matplotlib.pyplot as plt\n",
    "\n",
    "dataFrame = pd.read_csv('data.csv')\n",
    "dataFrame\n",
    "\n",
    "#x1 = dataFrame.groupby('x1').reset_index()\n",
    "\n",
    "%pylab inline\n",
    "\n",
    "\n",
    "plt.scatter(x=dataFrame['Congruent'], y=dataFrame['Incongruent'])\n",
    "            # title=\"\")\n",
    "plt.xlabel(\"Congruency\")\n",
    "plt.ylabel(\"Reaction Time in s\")\n",
    "plt.title(\"Stroop task\")\n",
    "plt.show()"
   ]
  },
  {
   "cell_type": "raw",
   "metadata": {},
   "source": [
    "\n",
    "#### 5. Now, perform the statistical test and report your results. What is your confidence level and your critical statistic value? Do you reject the null hypothesis or fail to reject it? Come to a conclusion in terms of the experiment task. Did the results match up with your expectations? ####\n",
    "\n",
    "\n",
    "    \n",
    "   Sample size: $n = 24$\n",
    "\n",
    "   Degrees of freedom: $df = n-1 = 23$\n",
    "    \n",
    "   T critical for one sided test: $t_{critial}(\\alpha = .05,df = 23) = 1.714$\n",
    "    \n",
    "   Mean of difference: $\\bar{x}_{x_2,x_1} = \\frac{\\sum_{i=1}^{n} x_{2_i}-x_{1_i}}{n} = 7.96$\n",
    "    \n",
    "   Sample difference standard deviation: $SD_{x_2,x_1} = 4.86$\n",
    "    \n",
    "   Standard error of mean: $SEM_{x_2,x_1} = \\frac{SD_{x_2,x_1}}{\\sqrt{n}} = 0.99$\n",
    "    \n",
    "   t-value: $t = \\frac{\\bar{x}_{x_2,x_1}}{SEM_{x_2,x_1}} = 8.02$\n",
    "    \n",
    "   ### Result\n",
    "    \n",
    "   $t(24) = 8.02, p < .0001, one-tailed$\n",
    "    \n",
    "   $95\\% CI = (5.91,10.01)$\n",
    "   \n",
    "   Cohen's: $d = \\frac{\\bar{x}_{x_2,x_1}}{SD_{x_2,x_1}} = 1.64$\n",
    "    \n",
    "   $r^2 = \\frac{t^2}{t^2 + df} = .74$\n",
    "    \n",
    "    \n",
    "   As the the t value is in the critical region with p < .0001 I **reject $H_0$**. As p is below .0001 the difference  is considered to be **extremely statistically significant**. This means that the incongruent words condition increases the reaction time a lot. The effect size is 74 %. \n",
    "   I expected that incrongruent word condition will increase the reaction time (as you can see from the reaction of each subject), but I didn't expect that the effect is that big.\n",
    "\n",
    "\n",
    "#### 6. *What do you think is responsible for the effects observed? Can you think of an alternative or similar task that would result in a similar effect? Some research about the problem will be helpful for thinking about these two questions!* ####"
   ]
  }
 ],
 "metadata": {
  "anaconda-cloud": {},
  "kernelspec": {
   "display_name": "Python [Root]",
   "language": "python",
   "name": "Python [Root]"
  },
  "language_info": {
   "codemirror_mode": {
    "name": "ipython",
    "version": 2
   },
   "file_extension": ".py",
   "mimetype": "text/x-python",
   "name": "python",
   "nbconvert_exporter": "python",
   "pygments_lexer": "ipython2",
   "version": "2.7.12"
  }
 },
 "nbformat": 4,
 "nbformat_minor": 0
}
