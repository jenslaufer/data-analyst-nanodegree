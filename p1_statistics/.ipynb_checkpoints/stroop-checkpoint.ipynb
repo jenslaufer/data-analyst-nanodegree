{
 "cells": [
  {
   "cell_type": "markdown",
   "metadata": {},
   "source": [
    "# Statistics: The Science of Decisions Project Instructions\n",
    "\n",
    "## Background Information\n",
    "\n",
    "In a Stroop task, participants are presented with a list of words, with each word displayed in a color of ink. The participant’s task is to say out loud the color of the ink in which the word is printed. The task has two conditions: a congruent words condition, and an incongruent words condition. In the congruent words condition, the words being displayed are color words whose names match the colors in which they are printed: for example RED, BLUE. In the incongruent words condition, the words displayed are color words whose names do not match the colors in which they are printed: for example PURPLE, ORANGE. In each case, we measure the time it takes to name the ink colors in equally-sized lists. Each participant will go through and record a time from each condition.\n",
    "\n",
    "## Questions For Investigation\n",
    "\n",
    "As a general note, be sure to keep a record of any resources that you use or refer to in the creation of your project. You will need to report your sources as part of the project submission.\n",
    "\n",
    "1. What is our independent variable? What is our dependent variable?\n",
    "\n",
    "2. What is an appropriate set of hypotheses for this task? What kind of statistical test do you expect to perform? Justify your choices.Now it’s your chance to try out the Stroop task for yourself. Go to this link, which has a Java-based applet for performing the Stroop task. Record the times that you received on the task (you do not need to submit your times to the site.) Now, download this dataset which contains results from a number of participants in the task. Each row of the dataset contains the performance for one participant, with the first number their results on the congruent task and the second number their performance on the incongruent task.\n",
    "\n",
    "3. Report some descriptive statistics regarding this dataset. Include at least one measure of central tendency and at least one measure of variability.\n",
    "\n",
    "4. Provide one or two visualizations that show the distribution of the sample data. Write one or two sentences noting what you observe about the plot or plots.\n",
    "\n",
    "5. Now, perform the statistical test and report your results. What is your confidence level and your critical statistic value? Do you reject the null hypothesis or fail to reject it? Come to a conclusion in terms of the experiment task. Did the results match up with your expectations?\n",
    "\n",
    "6. Optional: What do you think is responsible for the effects observed? Can you think of an alternative or similar task that would result in a similar effect? Some research about the problem will be helpful for thinking about these two questions!"
   ]
  },
  {
   "cell_type": "markdown",
   "metadata": {},
   "source": [
    "1. **Dependent variable**:    The reaction time it takes to name the ink colors in equally-sized lists\n",
    "\n",
    "   **Independent variable**:  Congruency of font color and word"
   ]
  },
  {
   "cell_type": "markdown",
   "metadata": {
    "collapsed": false
   },
   "source": [
    "2.  $$H_0 : \\mu_2 - \\mu_1 = 0$$\n",
    "    \n",
    "    $$H_1 : \\mu_2 - \\mu_1 > 0$$\n",
    "\n",
    "    The null Hypothese says that incongruent words condition does not have an influence on the reaction time. The alternative Hypothesis says that the incongruent words condition increases the reaction time.\n",
    "  \n",
    "      I will perform a **one-tailed paired t-test**. I will perfrom a t-test as the population standard deviation is unknown, it is paired as the study subjects are measured before and after a treatment intervention. I expect that incrongruent word condition increases the reaction time, therefore I will perform a one-tailed test. I will chose an alpha level of .05. "
   ]
  },
  {
   "cell_type": "markdown",
   "metadata": {
    "collapsed": false
   },
   "source": [
    "3. Congruent word condition: \n",
    "   $$x_1 = 14.05$$\n",
    "   $$s_1 = 3.56$$\n",
    "   \n",
    "   Incongruent word condition:\n",
    "   $$x_2 = 22.02$$\n",
    "   $$s_2 = 4.80$$\n",
    "   "
   ]
  }
 ],
 "metadata": {
  "anaconda-cloud": {},
  "kernelspec": {
   "display_name": "Python [Root]",
   "language": "python",
   "name": "Python [Root]"
  },
  "language_info": {
   "codemirror_mode": {
    "name": "ipython",
    "version": 2
   },
   "file_extension": ".py",
   "mimetype": "text/x-python",
   "name": "python",
   "nbconvert_exporter": "python",
   "pygments_lexer": "ipython2",
   "version": "2.7.12"
  }
 },
 "nbformat": 4,
 "nbformat_minor": 0
}
